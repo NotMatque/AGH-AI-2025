{
 "cells": [
  {
   "cell_type": "code",
   "id": "initial_id",
   "metadata": {
    "collapsed": true,
    "ExecuteTime": {
     "end_time": "2025-04-27T20:15:04.718413Z",
     "start_time": "2025-04-27T20:14:59.649371Z"
    }
   },
   "source": [
    "from ultralytics import YOLO\n",
    "import torch\n",
    "import os"
   ],
   "outputs": [],
   "execution_count": 1
  },
  {
   "metadata": {
    "ExecuteTime": {
     "end_time": "2025-04-27T20:15:07.743072Z",
     "start_time": "2025-04-27T20:15:07.735852Z"
    }
   },
   "cell_type": "code",
   "source": "torch.cuda.is_available()",
   "id": "45c4adf4f01ad9fa",
   "outputs": [
    {
     "data": {
      "text/plain": [
       "False"
      ]
     },
     "execution_count": 2,
     "metadata": {},
     "output_type": "execute_result"
    }
   ],
   "execution_count": 2
  },
  {
   "metadata": {},
   "cell_type": "code",
   "source": [
    "model_config = 'yolov8n.yaml'\n",
    "dataset_config = 'dataset.yaml'\n",
    "\n",
    "model = YOLO(model_config)\n",
    "\n",
    "model.train(data=dataset_config, epochs=10, imgsz=640)"
   ],
   "id": "8ecffadc99d83373",
   "outputs": [],
   "execution_count": null
  }
 ],
 "metadata": {
  "kernelspec": {
   "display_name": "Python 3",
   "language": "python",
   "name": "python3"
  },
  "language_info": {
   "codemirror_mode": {
    "name": "ipython",
    "version": 2
   },
   "file_extension": ".py",
   "mimetype": "text/x-python",
   "name": "python",
   "nbconvert_exporter": "python",
   "pygments_lexer": "ipython2",
   "version": "2.7.6"
  }
 },
 "nbformat": 4,
 "nbformat_minor": 5
}
