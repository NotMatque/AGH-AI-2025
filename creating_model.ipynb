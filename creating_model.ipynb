{
 "cells": [
  {
   "metadata": {},
   "cell_type": "markdown",
   "source": [
    "# Szkolenie własnego modelu\n",
    "Szkolenie odbywa się na podstawie `yolov8n` autorstwa _Ultralytics_"
   ],
   "id": "1276f1b9cf43f37b"
  },
  {
   "metadata": {},
   "cell_type": "markdown",
   "source": "### Importy:",
   "id": "48df1734aac51a9b"
  },
  {
   "cell_type": "code",
   "id": "initial_id",
   "metadata": {
    "collapsed": true,
    "ExecuteTime": {
     "end_time": "2025-05-15T14:59:28.219662Z",
     "start_time": "2025-05-15T14:59:16.519530Z"
    }
   },
   "source": [
    "from ultralytics import YOLO\n",
    "import matplotlib.pyplot as plt\n",
    "%matplotlib inline\n",
    "import torch\n",
    "import cv2"
   ],
   "outputs": [],
   "execution_count": 1
  },
  {
   "metadata": {},
   "cell_type": "markdown",
   "source": [
    "### Szkolenie modelu:\n",
    "\n",
    "Ważne uwagi:\n",
    "- ustawienie zmiennej `mosaic` na wartośc `1.0` powoduje crash po 40 epokach, gdyż to wtedy YOLO wyłącza opcję tworzenia mozajek :(\n",
    "- UWAGA NA ZMIANĘ ILOŚCI EPOK"
   ],
   "id": "a256a25206b6cb4c"
  },
  {
   "metadata": {
    "ExecuteTime": {
     "end_time": "2025-05-15T18:44:42.168334Z",
     "start_time": "2025-05-15T14:59:31.353282Z"
    }
   },
   "cell_type": "code",
   "source": [
    "model_config = 'yolov8_custom.yaml'\n",
    "dataset_config = 'dataset.yaml'\n",
    "\n",
    "model = YOLO(model_config)\n",
    "\n",
    "model.train(\n",
    "    data='dataset.yaml',\n",
    "    epochs=50,\n",
    "    imgsz=640,\n",
    "    pretrained=False,\n",
    "    batch=32,\n",
    "\n",
    "    mosaic=1.0,\n",
    "    mixup=0.2,\n",
    "    fliplr=0.5,\n",
    "    degrees=10.0,\n",
    "    translate=0.1,\n",
    "    scale=0.5,\n",
    "    shear=2.0,\n",
    "    perspective=0.0005,\n",
    "\n",
    "    hsv_h=0.015,\n",
    "    hsv_s=0.7,\n",
    "    hsv_v=0.4,\n",
    "\n",
    "    patience=20,\n",
    "    optimizer='SGD',\n",
    "    lr0=0.01,\n",
    ")"
   ],
   "id": "8ecffadc99d83373",
   "outputs": [
    {
     "name": "stdout",
     "output_type": "stream",
     "text": [
      "WARNING  no model scale passed. Assuming scale='n'.\n",
      "New https://pypi.org/project/ultralytics/8.3.135 available  Update with 'pip install -U ultralytics'\n",
      "Ultralytics YOLOv8.2.34  Python-3.10.16 torch-2.5.1 CUDA:0 (NVIDIA GeForce GTX 1080, 8192MiB)\n",
      "\u001B[34m\u001B[1mengine\\trainer: \u001B[0mtask=detect, mode=train, model=yolov8_custom.yaml, data=dataset.yaml, epochs=50, time=None, patience=20, batch=32, imgsz=640, save=True, save_period=-1, cache=False, device=None, workers=8, project=None, name=train3, exist_ok=False, pretrained=False, optimizer=SGD, verbose=True, seed=0, deterministic=True, single_cls=False, rect=False, cos_lr=False, close_mosaic=10, resume=False, amp=True, fraction=1.0, profile=False, freeze=None, multi_scale=False, overlap_mask=True, mask_ratio=4, dropout=0.0, val=True, split=val, save_json=False, save_hybrid=False, conf=None, iou=0.7, max_det=300, half=False, dnn=False, plots=True, source=None, vid_stride=1, stream_buffer=False, visualize=False, augment=False, agnostic_nms=False, classes=None, retina_masks=False, embed=None, show=False, save_frames=False, save_txt=False, save_conf=False, save_crop=False, show_labels=True, show_conf=True, show_boxes=True, line_width=None, format=torchscript, keras=False, optimize=False, int8=False, dynamic=False, simplify=False, opset=None, workspace=4, nms=False, lr0=0.01, lrf=0.01, momentum=0.937, weight_decay=0.0005, warmup_epochs=3.0, warmup_momentum=0.8, warmup_bias_lr=0.1, box=7.5, cls=0.5, dfl=1.5, pose=12.0, kobj=1.0, label_smoothing=0.0, nbs=64, hsv_h=0.015, hsv_s=0.7, hsv_v=0.4, degrees=10.0, translate=0.1, scale=0.5, shear=2.0, perspective=0.0005, flipud=0.0, fliplr=0.5, bgr=0.0, mosaic=1.0, mixup=0.2, copy_paste=0.0, auto_augment=randaugment, erasing=0.4, crop_fraction=1.0, cfg=None, tracker=botsort.yaml, save_dir=runs\\detect\\train3\n",
      "WARNING  no model scale passed. Assuming scale='n'.\n",
      "\n",
      "                   from  n    params  module                                       arguments                     \n",
      "  0                  -1  1       464  ultralytics.nn.modules.conv.Conv             [3, 16, 3, 2]                 \n",
      "  1                  -1  1      4672  ultralytics.nn.modules.conv.Conv             [16, 32, 3, 2]                \n",
      "  2                  -1  1      7360  ultralytics.nn.modules.block.C2f             [32, 32, 1, True]             \n",
      "  3                  -1  1     18560  ultralytics.nn.modules.conv.Conv             [32, 64, 3, 2]                \n",
      "  4                  -1  2     49664  ultralytics.nn.modules.block.C2f             [64, 64, 2, True]             \n",
      "  5                  -1  1     73984  ultralytics.nn.modules.conv.Conv             [64, 128, 3, 2]               \n",
      "  6                  -1  2    197632  ultralytics.nn.modules.block.C2f             [128, 128, 2, True]           \n",
      "  7                  -1  1    295424  ultralytics.nn.modules.conv.Conv             [128, 256, 3, 2]              \n",
      "  8                  -1  1    460288  ultralytics.nn.modules.block.C2f             [256, 256, 1, True]           \n",
      "  9                  -1  1    164608  ultralytics.nn.modules.block.SPPF            [256, 256, 5]                 \n",
      " 10                  -1  1         0  torch.nn.modules.upsampling.Upsample         [None, 2, 'nearest']          \n",
      " 11             [-1, 6]  1         0  ultralytics.nn.modules.conv.Concat           [1]                           \n",
      " 12                  -1  1    148224  ultralytics.nn.modules.block.C2f             [384, 128, 1]                 \n",
      " 13                  -1  1         0  torch.nn.modules.upsampling.Upsample         [None, 2, 'nearest']          \n",
      " 14             [-1, 4]  1         0  ultralytics.nn.modules.conv.Concat           [1]                           \n",
      " 15                  -1  1     37248  ultralytics.nn.modules.block.C2f             [192, 64, 1]                  \n",
      " 16                  -1  1     36992  ultralytics.nn.modules.conv.Conv             [64, 64, 3, 2]                \n",
      " 17            [-1, 12]  1         0  ultralytics.nn.modules.conv.Concat           [1]                           \n",
      " 18                  -1  1    123648  ultralytics.nn.modules.block.C2f             [192, 128, 1]                 \n",
      " 19                  -1  1    147712  ultralytics.nn.modules.conv.Conv             [128, 128, 3, 2]              \n",
      " 20             [-1, 9]  1         0  ultralytics.nn.modules.conv.Concat           [1]                           \n",
      " 21                  -1  1    493056  ultralytics.nn.modules.block.C2f             [384, 256, 1]                 \n",
      " 22        [15, 18, 21]  1    751507  ultralytics.nn.modules.head.Detect           [1, [64, 128, 256]]           \n",
      "YOLOv8_custom summary: 225 layers, 3011043 parameters, 3011027 gradients\n",
      "\n",
      "\u001B[34m\u001B[1mTensorBoard: \u001B[0mStart with 'tensorboard --logdir runs\\detect\\train3', view at http://localhost:6006/\n",
      "Freezing layer 'model.22.dfl.conv.weight'\n",
      "\u001B[34m\u001B[1mAMP: \u001B[0mrunning Automatic Mixed Precision (AMP) checks with YOLOv8n...\n"
     ]
    },
    {
     "name": "stderr",
     "output_type": "stream",
     "text": [
      "C:\\Users\\Mateusz\\anaconda3\\envs\\CVtorch-env\\lib\\site-packages\\ultralytics\\nn\\tasks.py:732: FutureWarning: You are using `torch.load` with `weights_only=False` (the current default value), which uses the default pickle module implicitly. It is possible to construct malicious pickle data which will execute arbitrary code during unpickling (See https://github.com/pytorch/pytorch/blob/main/SECURITY.md#untrusted-models for more details). In a future release, the default value for `weights_only` will be flipped to `True`. This limits the functions that could be executed during unpickling. Arbitrary objects will no longer be allowed to be loaded via this mode unless they are explicitly allowlisted by the user via `torch.serialization.add_safe_globals`. We recommend you start setting `weights_only=True` for any use case where you don't have full control of the loaded file. Please open an issue on GitHub for any issues related to this experimental feature.\n",
      "  ckpt = torch.load(file, map_location=\"cpu\")\n"
     ]
    },
    {
     "name": "stdout",
     "output_type": "stream",
     "text": [
      "\u001B[34m\u001B[1mAMP: \u001B[0mchecks failed . Anomalies were detected with AMP on your system that may lead to NaN losses or zero-mAP results, so AMP will be disabled during training.\n"
     ]
    },
    {
     "name": "stderr",
     "output_type": "stream",
     "text": [
      "C:\\Users\\Mateusz\\anaconda3\\envs\\CVtorch-env\\lib\\site-packages\\ultralytics\\utils\\checks.py:651: FutureWarning: `torch.cuda.amp.autocast(args...)` is deprecated. Please use `torch.amp.autocast('cuda', args...)` instead.\n",
      "  with torch.cuda.amp.autocast(True):\n",
      "C:\\Users\\Mateusz\\anaconda3\\envs\\CVtorch-env\\lib\\site-packages\\ultralytics\\engine\\trainer.py:262: FutureWarning: `torch.cuda.amp.GradScaler(args...)` is deprecated. Please use `torch.amp.GradScaler('cuda', args...)` instead.\n",
      "  self.scaler = torch.cuda.amp.GradScaler(enabled=self.amp)\n",
      "\u001B[34m\u001B[1mtrain: \u001B[0mScanning C:\\Users\\Mateusz\\PycharmProjects\\AGH-AI-2025\\data\\train-cleared\\labels... 12406 images, 0 backgrounds, 0 corrupt: 100%|██████████| 12406/12406 [00:05<00:00, 2334.85it/s]\n"
     ]
    },
    {
     "name": "stdout",
     "output_type": "stream",
     "text": [
      "\u001B[34m\u001B[1mtrain: \u001B[0mNew cache created: C:\\Users\\Mateusz\\PycharmProjects\\AGH-AI-2025\\data\\train-cleared\\labels.cache\n"
     ]
    },
    {
     "name": "stderr",
     "output_type": "stream",
     "text": [
      "\u001B[34m\u001B[1mval: \u001B[0mScanning C:\\Users\\Mateusz\\PycharmProjects\\AGH-AI-2025\\data\\test-cleared\\labels... 3085 images, 0 backgrounds, 0 corrupt: 100%|██████████| 3085/3085 [00:01<00:00, 1549.96it/s]\n"
     ]
    },
    {
     "name": "stdout",
     "output_type": "stream",
     "text": [
      "\u001B[34m\u001B[1mval: \u001B[0mNew cache created: C:\\Users\\Mateusz\\PycharmProjects\\AGH-AI-2025\\data\\test-cleared\\labels.cache\n",
      "Plotting labels to runs\\detect\\train3\\labels.jpg... \n",
      "\u001B[34m\u001B[1moptimizer:\u001B[0m SGD(lr=0.01, momentum=0.937) with parameter groups 57 weight(decay=0.0), 64 weight(decay=0.0005), 63 bias(decay=0.0)\n",
      "\u001B[34m\u001B[1mTensorBoard: \u001B[0mmodel graph visualization added \n",
      "Image sizes 640 train, 640 val\n",
      "Using 8 dataloader workers\n",
      "Logging results to \u001B[1mruns\\detect\\train3\u001B[0m\n",
      "Starting training for 50 epochs...\n",
      "\n",
      "      Epoch    GPU_mem   box_loss   cls_loss   dfl_loss  Instances       Size\n"
     ]
    },
    {
     "name": "stderr",
     "output_type": "stream",
     "text": [
      "       1/50      7.89G      2.941      2.921      3.754         76        640: 100%|██████████| 388/388 [09:39<00:00,  1.49s/it]\n",
      "                 Class     Images  Instances      Box(P          R      mAP50  mAP50-95): 100%|██████████| 49/49 [00:42<00:00,  1.15it/s]\n"
     ]
    },
    {
     "name": "stdout",
     "output_type": "stream",
     "text": [
      "                   all       3085       3630      0.163      0.323      0.118     0.0326\n",
      "\n",
      "      Epoch    GPU_mem   box_loss   cls_loss   dfl_loss  Instances       Size\n"
     ]
    },
    {
     "name": "stderr",
     "output_type": "stream",
     "text": [
      "       2/50      7.85G      1.958      1.763      2.625         97        640: 100%|██████████| 388/388 [03:21<00:00,  1.93it/s]\n",
      "                 Class     Images  Instances      Box(P          R      mAP50  mAP50-95): 100%|██████████| 49/49 [00:37<00:00,  1.31it/s]\n"
     ]
    },
    {
     "name": "stdout",
     "output_type": "stream",
     "text": [
      "                   all       3085       3630      0.812      0.715      0.781      0.456\n",
      "\n",
      "      Epoch    GPU_mem   box_loss   cls_loss   dfl_loss  Instances       Size\n"
     ]
    },
    {
     "name": "stderr",
     "output_type": "stream",
     "text": [
      "       3/50      7.93G      1.397      1.206      2.001         79        640: 100%|██████████| 388/388 [03:20<00:00,  1.94it/s]\n",
      "                 Class     Images  Instances      Box(P          R      mAP50  mAP50-95): 100%|██████████| 49/49 [00:30<00:00,  1.60it/s]\n"
     ]
    },
    {
     "name": "stdout",
     "output_type": "stream",
     "text": [
      "                   all       3085       3630      0.905      0.843      0.884      0.462\n",
      "\n",
      "      Epoch    GPU_mem   box_loss   cls_loss   dfl_loss  Instances       Size\n"
     ]
    },
    {
     "name": "stderr",
     "output_type": "stream",
     "text": [
      "       4/50      7.85G      1.211     0.9623      1.771        112        640: 100%|██████████| 388/388 [03:18<00:00,  1.95it/s]\n",
      "                 Class     Images  Instances      Box(P          R      mAP50  mAP50-95): 100%|██████████| 49/49 [00:32<00:00,  1.53it/s]"
     ]
    },
    {
     "name": "stdout",
     "output_type": "stream",
     "text": [
      "                   all       3085       3630      0.955      0.918      0.955      0.686\n"
     ]
    },
    {
     "name": "stderr",
     "output_type": "stream",
     "text": [
      "\n"
     ]
    },
    {
     "name": "stdout",
     "output_type": "stream",
     "text": [
      "\n",
      "      Epoch    GPU_mem   box_loss   cls_loss   dfl_loss  Instances       Size\n"
     ]
    },
    {
     "name": "stderr",
     "output_type": "stream",
     "text": [
      "       5/50       7.9G      1.099      0.823       1.65         89        640: 100%|██████████| 388/388 [03:33<00:00,  1.82it/s]\n",
      "                 Class     Images  Instances      Box(P          R      mAP50  mAP50-95): 100%|██████████| 49/49 [00:30<00:00,  1.59it/s]"
     ]
    },
    {
     "name": "stdout",
     "output_type": "stream",
     "text": [
      "                   all       3085       3630      0.957      0.938      0.962      0.708\n"
     ]
    },
    {
     "name": "stderr",
     "output_type": "stream",
     "text": [
      "\n"
     ]
    },
    {
     "name": "stdout",
     "output_type": "stream",
     "text": [
      "\n",
      "      Epoch    GPU_mem   box_loss   cls_loss   dfl_loss  Instances       Size\n"
     ]
    },
    {
     "name": "stderr",
     "output_type": "stream",
     "text": [
      "       6/50       7.9G      1.023     0.7432      1.581         93        640: 100%|██████████| 388/388 [04:40<00:00,  1.39it/s]\n",
      "                 Class     Images  Instances      Box(P          R      mAP50  mAP50-95): 100%|██████████| 49/49 [00:33<00:00,  1.48it/s]"
     ]
    },
    {
     "name": "stdout",
     "output_type": "stream",
     "text": [
      "                   all       3085       3630      0.974      0.925       0.97      0.744\n"
     ]
    },
    {
     "name": "stderr",
     "output_type": "stream",
     "text": [
      "\n"
     ]
    },
    {
     "name": "stdout",
     "output_type": "stream",
     "text": [
      "\n",
      "      Epoch    GPU_mem   box_loss   cls_loss   dfl_loss  Instances       Size\n"
     ]
    },
    {
     "name": "stderr",
     "output_type": "stream",
     "text": [
      "       7/50       7.9G     0.9788     0.6889      1.535         84        640: 100%|██████████| 388/388 [03:19<00:00,  1.95it/s]\n",
      "                 Class     Images  Instances      Box(P          R      mAP50  mAP50-95): 100%|██████████| 49/49 [00:29<00:00,  1.64it/s]"
     ]
    },
    {
     "name": "stdout",
     "output_type": "stream",
     "text": [
      "                   all       3085       3630      0.959       0.94       0.97      0.761\n"
     ]
    },
    {
     "name": "stderr",
     "output_type": "stream",
     "text": [
      "\n"
     ]
    },
    {
     "name": "stdout",
     "output_type": "stream",
     "text": [
      "\n",
      "      Epoch    GPU_mem   box_loss   cls_loss   dfl_loss  Instances       Size\n"
     ]
    },
    {
     "name": "stderr",
     "output_type": "stream",
     "text": [
      "       8/50      7.85G     0.9368     0.6505      1.492         99        640: 100%|██████████| 388/388 [03:14<00:00,  2.00it/s]\n",
      "                 Class     Images  Instances      Box(P          R      mAP50  mAP50-95): 100%|██████████| 49/49 [00:31<00:00,  1.57it/s]"
     ]
    },
    {
     "name": "stdout",
     "output_type": "stream",
     "text": [
      "                   all       3085       3630      0.971      0.926      0.966      0.815\n"
     ]
    },
    {
     "name": "stderr",
     "output_type": "stream",
     "text": [
      "\n"
     ]
    },
    {
     "name": "stdout",
     "output_type": "stream",
     "text": [
      "\n",
      "      Epoch    GPU_mem   box_loss   cls_loss   dfl_loss  Instances       Size\n"
     ]
    },
    {
     "name": "stderr",
     "output_type": "stream",
     "text": [
      "       9/50      7.85G     0.9132     0.6245      1.472         76        640: 100%|██████████| 388/388 [03:18<00:00,  1.95it/s]\n",
      "                 Class     Images  Instances      Box(P          R      mAP50  mAP50-95): 100%|██████████| 49/49 [00:29<00:00,  1.65it/s]"
     ]
    },
    {
     "name": "stdout",
     "output_type": "stream",
     "text": [
      "                   all       3085       3630      0.967      0.943      0.976       0.78\n"
     ]
    },
    {
     "name": "stderr",
     "output_type": "stream",
     "text": [
      "\n"
     ]
    },
    {
     "name": "stdout",
     "output_type": "stream",
     "text": [
      "\n",
      "      Epoch    GPU_mem   box_loss   cls_loss   dfl_loss  Instances       Size\n"
     ]
    },
    {
     "name": "stderr",
     "output_type": "stream",
     "text": [
      "      10/50      7.86G     0.8863     0.5976      1.453        111        640: 100%|██████████| 388/388 [03:56<00:00,  1.64it/s]\n",
      "                 Class     Images  Instances      Box(P          R      mAP50  mAP50-95): 100%|██████████| 49/49 [00:25<00:00,  1.94it/s]"
     ]
    },
    {
     "name": "stdout",
     "output_type": "stream",
     "text": [
      "                   all       3085       3630      0.984      0.924      0.975      0.834\n"
     ]
    },
    {
     "name": "stderr",
     "output_type": "stream",
     "text": [
      "\n"
     ]
    },
    {
     "name": "stdout",
     "output_type": "stream",
     "text": [
      "\n",
      "      Epoch    GPU_mem   box_loss   cls_loss   dfl_loss  Instances       Size\n"
     ]
    },
    {
     "name": "stderr",
     "output_type": "stream",
     "text": [
      "      11/50       7.9G     0.8624     0.5777      1.428         91        640: 100%|██████████| 388/388 [03:32<00:00,  1.82it/s]\n",
      "                 Class     Images  Instances      Box(P          R      mAP50  mAP50-95): 100%|██████████| 49/49 [00:30<00:00,  1.62it/s]"
     ]
    },
    {
     "name": "stdout",
     "output_type": "stream",
     "text": [
      "                   all       3085       3630       0.97      0.937      0.978      0.809\n"
     ]
    },
    {
     "name": "stderr",
     "output_type": "stream",
     "text": [
      "\n"
     ]
    },
    {
     "name": "stdout",
     "output_type": "stream",
     "text": [
      "\n",
      "      Epoch    GPU_mem   box_loss   cls_loss   dfl_loss  Instances       Size\n"
     ]
    },
    {
     "name": "stderr",
     "output_type": "stream",
     "text": [
      "      12/50      7.86G     0.8533     0.5646      1.414         89        640: 100%|██████████| 388/388 [04:08<00:00,  1.56it/s]\n",
      "                 Class     Images  Instances      Box(P          R      mAP50  mAP50-95): 100%|██████████| 49/49 [00:32<00:00,  1.50it/s]"
     ]
    },
    {
     "name": "stdout",
     "output_type": "stream",
     "text": [
      "                   all       3085       3630      0.982      0.925       0.98      0.821\n"
     ]
    },
    {
     "name": "stderr",
     "output_type": "stream",
     "text": [
      "\n"
     ]
    },
    {
     "name": "stdout",
     "output_type": "stream",
     "text": [
      "\n",
      "      Epoch    GPU_mem   box_loss   cls_loss   dfl_loss  Instances       Size\n"
     ]
    },
    {
     "name": "stderr",
     "output_type": "stream",
     "text": [
      "      13/50      7.85G     0.8376     0.5483      1.401         82        640: 100%|██████████| 388/388 [03:30<00:00,  1.85it/s]\n",
      "                 Class     Images  Instances      Box(P          R      mAP50  mAP50-95): 100%|██████████| 49/49 [00:29<00:00,  1.65it/s]"
     ]
    },
    {
     "name": "stdout",
     "output_type": "stream",
     "text": [
      "                   all       3085       3630      0.954       0.95      0.971      0.829\n"
     ]
    },
    {
     "name": "stderr",
     "output_type": "stream",
     "text": [
      "\n"
     ]
    },
    {
     "name": "stdout",
     "output_type": "stream",
     "text": [
      "\n",
      "      Epoch    GPU_mem   box_loss   cls_loss   dfl_loss  Instances       Size\n"
     ]
    },
    {
     "name": "stderr",
     "output_type": "stream",
     "text": [
      "      14/50      7.85G     0.8285     0.5383      1.389        111        640: 100%|██████████| 388/388 [03:18<00:00,  1.95it/s]\n",
      "                 Class     Images  Instances      Box(P          R      mAP50  mAP50-95): 100%|██████████| 49/49 [00:25<00:00,  1.89it/s]"
     ]
    },
    {
     "name": "stdout",
     "output_type": "stream",
     "text": [
      "                   all       3085       3630      0.975      0.952      0.979      0.837\n"
     ]
    },
    {
     "name": "stderr",
     "output_type": "stream",
     "text": [
      "\n"
     ]
    },
    {
     "name": "stdout",
     "output_type": "stream",
     "text": [
      "\n",
      "      Epoch    GPU_mem   box_loss   cls_loss   dfl_loss  Instances       Size\n"
     ]
    },
    {
     "name": "stderr",
     "output_type": "stream",
     "text": [
      "      15/50      7.85G     0.8189     0.5322      1.387         60        640: 100%|██████████| 388/388 [03:20<00:00,  1.94it/s]\n",
      "                 Class     Images  Instances      Box(P          R      mAP50  mAP50-95): 100%|██████████| 49/49 [00:30<00:00,  1.61it/s]"
     ]
    },
    {
     "name": "stdout",
     "output_type": "stream",
     "text": [
      "                   all       3085       3630      0.975      0.955      0.979      0.848\n"
     ]
    },
    {
     "name": "stderr",
     "output_type": "stream",
     "text": [
      "\n"
     ]
    },
    {
     "name": "stdout",
     "output_type": "stream",
     "text": [
      "\n",
      "      Epoch    GPU_mem   box_loss   cls_loss   dfl_loss  Instances       Size\n"
     ]
    },
    {
     "name": "stderr",
     "output_type": "stream",
     "text": [
      "      16/50      7.91G     0.8074     0.5214      1.366        133        640: 100%|██████████| 388/388 [04:22<00:00,  1.48it/s]\n",
      "                 Class     Images  Instances      Box(P          R      mAP50  mAP50-95): 100%|██████████| 49/49 [00:28<00:00,  1.74it/s]"
     ]
    },
    {
     "name": "stdout",
     "output_type": "stream",
     "text": [
      "                   all       3085       3630      0.965      0.952      0.977      0.844\n"
     ]
    },
    {
     "name": "stderr",
     "output_type": "stream",
     "text": [
      "\n"
     ]
    },
    {
     "name": "stdout",
     "output_type": "stream",
     "text": [
      "\n",
      "      Epoch    GPU_mem   box_loss   cls_loss   dfl_loss  Instances       Size\n"
     ]
    },
    {
     "name": "stderr",
     "output_type": "stream",
     "text": [
      "      17/50      7.85G     0.7944     0.5098      1.363         89        640: 100%|██████████| 388/388 [03:37<00:00,  1.79it/s]\n",
      "                 Class     Images  Instances      Box(P          R      mAP50  mAP50-95): 100%|██████████| 49/49 [00:31<00:00,  1.57it/s]"
     ]
    },
    {
     "name": "stdout",
     "output_type": "stream",
     "text": [
      "                   all       3085       3630      0.975       0.95      0.984      0.851\n"
     ]
    },
    {
     "name": "stderr",
     "output_type": "stream",
     "text": [
      "\n"
     ]
    },
    {
     "name": "stdout",
     "output_type": "stream",
     "text": [
      "\n",
      "      Epoch    GPU_mem   box_loss   cls_loss   dfl_loss  Instances       Size\n"
     ]
    },
    {
     "name": "stderr",
     "output_type": "stream",
     "text": [
      "      18/50      7.85G     0.7927     0.5048      1.357         73        640: 100%|██████████| 388/388 [03:30<00:00,  1.84it/s]\n",
      "                 Class     Images  Instances      Box(P          R      mAP50  mAP50-95): 100%|██████████| 49/49 [00:32<00:00,  1.53it/s]"
     ]
    },
    {
     "name": "stdout",
     "output_type": "stream",
     "text": [
      "                   all       3085       3630      0.966      0.954      0.983      0.843\n"
     ]
    },
    {
     "name": "stderr",
     "output_type": "stream",
     "text": [
      "\n"
     ]
    },
    {
     "name": "stdout",
     "output_type": "stream",
     "text": [
      "\n",
      "      Epoch    GPU_mem   box_loss   cls_loss   dfl_loss  Instances       Size\n"
     ]
    },
    {
     "name": "stderr",
     "output_type": "stream",
     "text": [
      "      19/50      7.85G     0.7806      0.496      1.349         82        640: 100%|██████████| 388/388 [03:44<00:00,  1.73it/s]\n",
      "                 Class     Images  Instances      Box(P          R      mAP50  mAP50-95): 100%|██████████| 49/49 [00:29<00:00,  1.64it/s]"
     ]
    },
    {
     "name": "stdout",
     "output_type": "stream",
     "text": [
      "                   all       3085       3630      0.967      0.952       0.98      0.857\n"
     ]
    },
    {
     "name": "stderr",
     "output_type": "stream",
     "text": [
      "\n"
     ]
    },
    {
     "name": "stdout",
     "output_type": "stream",
     "text": [
      "\n",
      "      Epoch    GPU_mem   box_loss   cls_loss   dfl_loss  Instances       Size\n"
     ]
    },
    {
     "name": "stderr",
     "output_type": "stream",
     "text": [
      "      20/50      7.86G     0.7788      0.489      1.346         94        640: 100%|██████████| 388/388 [03:32<00:00,  1.83it/s]\n",
      "                 Class     Images  Instances      Box(P          R      mAP50  mAP50-95): 100%|██████████| 49/49 [00:24<00:00,  2.01it/s]"
     ]
    },
    {
     "name": "stdout",
     "output_type": "stream",
     "text": [
      "                   all       3085       3630      0.974      0.942       0.98      0.839\n"
     ]
    },
    {
     "name": "stderr",
     "output_type": "stream",
     "text": [
      "\n"
     ]
    },
    {
     "name": "stdout",
     "output_type": "stream",
     "text": [
      "\n",
      "      Epoch    GPU_mem   box_loss   cls_loss   dfl_loss  Instances       Size\n"
     ]
    },
    {
     "name": "stderr",
     "output_type": "stream",
     "text": [
      "      21/50      7.86G     0.7659     0.4775      1.334         84        640: 100%|██████████| 388/388 [03:32<00:00,  1.83it/s]\n",
      "                 Class     Images  Instances      Box(P          R      mAP50  mAP50-95): 100%|██████████| 49/49 [00:29<00:00,  1.64it/s]"
     ]
    },
    {
     "name": "stdout",
     "output_type": "stream",
     "text": [
      "                   all       3085       3630      0.975      0.952      0.984      0.858\n"
     ]
    },
    {
     "name": "stderr",
     "output_type": "stream",
     "text": [
      "\n"
     ]
    },
    {
     "name": "stdout",
     "output_type": "stream",
     "text": [
      "\n",
      "      Epoch    GPU_mem   box_loss   cls_loss   dfl_loss  Instances       Size\n"
     ]
    },
    {
     "name": "stderr",
     "output_type": "stream",
     "text": [
      "      22/50      7.86G     0.7596      0.473      1.333         99        640: 100%|██████████| 388/388 [03:30<00:00,  1.85it/s]\n",
      "                 Class     Images  Instances      Box(P          R      mAP50  mAP50-95): 100%|██████████| 49/49 [00:31<00:00,  1.56it/s]"
     ]
    },
    {
     "name": "stdout",
     "output_type": "stream",
     "text": [
      "                   all       3085       3630      0.961      0.956      0.983       0.85\n"
     ]
    },
    {
     "name": "stderr",
     "output_type": "stream",
     "text": [
      "\n"
     ]
    },
    {
     "name": "stdout",
     "output_type": "stream",
     "text": [
      "\n",
      "      Epoch    GPU_mem   box_loss   cls_loss   dfl_loss  Instances       Size\n"
     ]
    },
    {
     "name": "stderr",
     "output_type": "stream",
     "text": [
      "      23/50      7.84G     0.7555     0.4695       1.33         76        640: 100%|██████████| 388/388 [03:33<00:00,  1.82it/s]\n",
      "                 Class     Images  Instances      Box(P          R      mAP50  mAP50-95): 100%|██████████| 49/49 [00:30<00:00,  1.61it/s]"
     ]
    },
    {
     "name": "stdout",
     "output_type": "stream",
     "text": [
      "                   all       3085       3630      0.963      0.957      0.982      0.847\n"
     ]
    },
    {
     "name": "stderr",
     "output_type": "stream",
     "text": [
      "\n"
     ]
    },
    {
     "name": "stdout",
     "output_type": "stream",
     "text": [
      "\n",
      "      Epoch    GPU_mem   box_loss   cls_loss   dfl_loss  Instances       Size\n"
     ]
    },
    {
     "name": "stderr",
     "output_type": "stream",
     "text": [
      "      24/50      7.86G     0.7511     0.4659       1.33         84        640: 100%|██████████| 388/388 [04:11<00:00,  1.55it/s]\n",
      "                 Class     Images  Instances      Box(P          R      mAP50  mAP50-95): 100%|██████████| 49/49 [00:32<00:00,  1.51it/s]"
     ]
    },
    {
     "name": "stdout",
     "output_type": "stream",
     "text": [
      "                   all       3085       3630      0.972      0.952      0.983       0.86\n"
     ]
    },
    {
     "name": "stderr",
     "output_type": "stream",
     "text": [
      "\n"
     ]
    },
    {
     "name": "stdout",
     "output_type": "stream",
     "text": [
      "\n",
      "      Epoch    GPU_mem   box_loss   cls_loss   dfl_loss  Instances       Size\n"
     ]
    },
    {
     "name": "stderr",
     "output_type": "stream",
     "text": [
      "      25/50      7.85G     0.7408     0.4536       1.31        113        640: 100%|██████████| 388/388 [03:30<00:00,  1.84it/s]\n",
      "                 Class     Images  Instances      Box(P          R      mAP50  mAP50-95): 100%|██████████| 49/49 [00:29<00:00,  1.65it/s]"
     ]
    },
    {
     "name": "stdout",
     "output_type": "stream",
     "text": [
      "                   all       3085       3630      0.973      0.948      0.984       0.86\n"
     ]
    },
    {
     "name": "stderr",
     "output_type": "stream",
     "text": [
      "\n"
     ]
    },
    {
     "name": "stdout",
     "output_type": "stream",
     "text": [
      "\n",
      "      Epoch    GPU_mem   box_loss   cls_loss   dfl_loss  Instances       Size\n"
     ]
    },
    {
     "name": "stderr",
     "output_type": "stream",
     "text": [
      "      26/50      7.84G     0.7399      0.457      1.315         86        640: 100%|██████████| 388/388 [04:08<00:00,  1.56it/s]\n",
      "                 Class     Images  Instances      Box(P          R      mAP50  mAP50-95): 100%|██████████| 49/49 [00:33<00:00,  1.48it/s]"
     ]
    },
    {
     "name": "stdout",
     "output_type": "stream",
     "text": [
      "                   all       3085       3630      0.983      0.947      0.986      0.863\n"
     ]
    },
    {
     "name": "stderr",
     "output_type": "stream",
     "text": [
      "\n"
     ]
    },
    {
     "name": "stdout",
     "output_type": "stream",
     "text": [
      "\n",
      "      Epoch    GPU_mem   box_loss   cls_loss   dfl_loss  Instances       Size\n"
     ]
    },
    {
     "name": "stderr",
     "output_type": "stream",
     "text": [
      "      27/50      7.91G     0.7312     0.4459      1.309         71        640: 100%|██████████| 388/388 [03:31<00:00,  1.84it/s]\n",
      "                 Class     Images  Instances      Box(P          R      mAP50  mAP50-95): 100%|██████████| 49/49 [00:29<00:00,  1.64it/s]"
     ]
    },
    {
     "name": "stdout",
     "output_type": "stream",
     "text": [
      "                   all       3085       3630      0.965       0.96      0.985      0.872\n"
     ]
    },
    {
     "name": "stderr",
     "output_type": "stream",
     "text": [
      "\n"
     ]
    },
    {
     "name": "stdout",
     "output_type": "stream",
     "text": [
      "\n",
      "      Epoch    GPU_mem   box_loss   cls_loss   dfl_loss  Instances       Size\n"
     ]
    },
    {
     "name": "stderr",
     "output_type": "stream",
     "text": [
      "      28/50      7.91G     0.7303      0.445      1.306         72        640: 100%|██████████| 388/388 [04:08<00:00,  1.56it/s]\n",
      "                 Class     Images  Instances      Box(P          R      mAP50  mAP50-95): 100%|██████████| 49/49 [00:32<00:00,  1.50it/s]"
     ]
    },
    {
     "name": "stdout",
     "output_type": "stream",
     "text": [
      "                   all       3085       3630      0.973      0.958      0.986      0.875\n"
     ]
    },
    {
     "name": "stderr",
     "output_type": "stream",
     "text": [
      "\n"
     ]
    },
    {
     "name": "stdout",
     "output_type": "stream",
     "text": [
      "\n",
      "      Epoch    GPU_mem   box_loss   cls_loss   dfl_loss  Instances       Size\n"
     ]
    },
    {
     "name": "stderr",
     "output_type": "stream",
     "text": [
      "      29/50       7.9G     0.7237     0.4373      1.302         81        640: 100%|██████████| 388/388 [03:33<00:00,  1.82it/s]\n",
      "                 Class     Images  Instances      Box(P          R      mAP50  mAP50-95): 100%|██████████| 49/49 [00:30<00:00,  1.62it/s]"
     ]
    },
    {
     "name": "stdout",
     "output_type": "stream",
     "text": [
      "                   all       3085       3630      0.968      0.958      0.985      0.885\n"
     ]
    },
    {
     "name": "stderr",
     "output_type": "stream",
     "text": [
      "\n"
     ]
    },
    {
     "name": "stdout",
     "output_type": "stream",
     "text": [
      "\n",
      "      Epoch    GPU_mem   box_loss   cls_loss   dfl_loss  Instances       Size\n"
     ]
    },
    {
     "name": "stderr",
     "output_type": "stream",
     "text": [
      "      30/50       7.9G     0.7135     0.4309      1.294        109        640: 100%|██████████| 388/388 [04:25<00:00,  1.46it/s]\n",
      "                 Class     Images  Instances      Box(P          R      mAP50  mAP50-95): 100%|██████████| 49/49 [00:33<00:00,  1.47it/s]"
     ]
    },
    {
     "name": "stdout",
     "output_type": "stream",
     "text": [
      "                   all       3085       3630       0.98      0.945      0.985      0.876\n"
     ]
    },
    {
     "name": "stderr",
     "output_type": "stream",
     "text": [
      "\n"
     ]
    },
    {
     "name": "stdout",
     "output_type": "stream",
     "text": [
      "\n",
      "      Epoch    GPU_mem   box_loss   cls_loss   dfl_loss  Instances       Size\n"
     ]
    },
    {
     "name": "stderr",
     "output_type": "stream",
     "text": [
      "      31/50      7.86G     0.7076      0.429      1.294         75        640: 100%|██████████| 388/388 [03:52<00:00,  1.67it/s]\n",
      "                 Class     Images  Instances      Box(P          R      mAP50  mAP50-95): 100%|██████████| 49/49 [00:29<00:00,  1.66it/s]"
     ]
    },
    {
     "name": "stdout",
     "output_type": "stream",
     "text": [
      "                   all       3085       3630      0.961      0.962      0.985      0.884\n"
     ]
    },
    {
     "name": "stderr",
     "output_type": "stream",
     "text": [
      "\n"
     ]
    },
    {
     "name": "stdout",
     "output_type": "stream",
     "text": [
      "\n",
      "      Epoch    GPU_mem   box_loss   cls_loss   dfl_loss  Instances       Size\n"
     ]
    },
    {
     "name": "stderr",
     "output_type": "stream",
     "text": [
      "      32/50      7.91G     0.7087     0.4256      1.289         93        640: 100%|██████████| 388/388 [04:40<00:00,  1.38it/s]\n",
      "                 Class     Images  Instances      Box(P          R      mAP50  mAP50-95): 100%|██████████| 49/49 [00:29<00:00,  1.65it/s]"
     ]
    },
    {
     "name": "stdout",
     "output_type": "stream",
     "text": [
      "                   all       3085       3630      0.965      0.964      0.986       0.88\n"
     ]
    },
    {
     "name": "stderr",
     "output_type": "stream",
     "text": [
      "\n"
     ]
    },
    {
     "name": "stdout",
     "output_type": "stream",
     "text": [
      "\n",
      "      Epoch    GPU_mem   box_loss   cls_loss   dfl_loss  Instances       Size\n"
     ]
    },
    {
     "name": "stderr",
     "output_type": "stream",
     "text": [
      "      33/50       7.9G     0.7056     0.4226      1.289        120        640: 100%|██████████| 388/388 [03:57<00:00,  1.64it/s]\n",
      "                 Class     Images  Instances      Box(P          R      mAP50  mAP50-95): 100%|██████████| 49/49 [00:35<00:00,  1.39it/s]"
     ]
    },
    {
     "name": "stdout",
     "output_type": "stream",
     "text": [
      "                   all       3085       3630      0.962      0.967      0.986      0.886\n"
     ]
    },
    {
     "name": "stderr",
     "output_type": "stream",
     "text": [
      "\n"
     ]
    },
    {
     "name": "stdout",
     "output_type": "stream",
     "text": [
      "\n",
      "      Epoch    GPU_mem   box_loss   cls_loss   dfl_loss  Instances       Size\n"
     ]
    },
    {
     "name": "stderr",
     "output_type": "stream",
     "text": [
      "      34/50      7.91G     0.6971     0.4162      1.282        105        640: 100%|██████████| 388/388 [04:36<00:00,  1.40it/s]\n",
      "                 Class     Images  Instances      Box(P          R      mAP50  mAP50-95): 100%|██████████| 49/49 [00:37<00:00,  1.30it/s]"
     ]
    },
    {
     "name": "stdout",
     "output_type": "stream",
     "text": [
      "                   all       3085       3630      0.967      0.959      0.985      0.882\n"
     ]
    },
    {
     "name": "stderr",
     "output_type": "stream",
     "text": [
      "\n"
     ]
    },
    {
     "name": "stdout",
     "output_type": "stream",
     "text": [
      "\n",
      "      Epoch    GPU_mem   box_loss   cls_loss   dfl_loss  Instances       Size\n"
     ]
    },
    {
     "name": "stderr",
     "output_type": "stream",
     "text": [
      "      35/50      7.92G     0.6926     0.4111      1.275         79        640: 100%|██████████| 388/388 [04:04<00:00,  1.59it/s]\n",
      "                 Class     Images  Instances      Box(P          R      mAP50  mAP50-95): 100%|██████████| 49/49 [00:29<00:00,  1.67it/s]"
     ]
    },
    {
     "name": "stdout",
     "output_type": "stream",
     "text": [
      "                   all       3085       3630       0.97      0.955      0.985      0.883\n"
     ]
    },
    {
     "name": "stderr",
     "output_type": "stream",
     "text": [
      "\n"
     ]
    },
    {
     "name": "stdout",
     "output_type": "stream",
     "text": [
      "\n",
      "      Epoch    GPU_mem   box_loss   cls_loss   dfl_loss  Instances       Size\n"
     ]
    },
    {
     "name": "stderr",
     "output_type": "stream",
     "text": [
      "      36/50      7.85G     0.6866     0.4076       1.27         81        640: 100%|██████████| 388/388 [03:54<00:00,  1.65it/s]\n",
      "                 Class     Images  Instances      Box(P          R      mAP50  mAP50-95): 100%|██████████| 49/49 [00:35<00:00,  1.37it/s]"
     ]
    },
    {
     "name": "stdout",
     "output_type": "stream",
     "text": [
      "                   all       3085       3630      0.967      0.958      0.986      0.892\n"
     ]
    },
    {
     "name": "stderr",
     "output_type": "stream",
     "text": [
      "\n"
     ]
    },
    {
     "name": "stdout",
     "output_type": "stream",
     "text": [
      "\n",
      "      Epoch    GPU_mem   box_loss   cls_loss   dfl_loss  Instances       Size\n"
     ]
    },
    {
     "name": "stderr",
     "output_type": "stream",
     "text": [
      "      37/50      7.85G     0.6942     0.4138      1.276         92        640: 100%|██████████| 388/388 [03:58<00:00,  1.63it/s]\n",
      "                 Class     Images  Instances      Box(P          R      mAP50  mAP50-95): 100%|██████████| 49/49 [00:35<00:00,  1.39it/s]"
     ]
    },
    {
     "name": "stdout",
     "output_type": "stream",
     "text": [
      "                   all       3085       3630      0.968      0.959      0.985      0.883\n"
     ]
    },
    {
     "name": "stderr",
     "output_type": "stream",
     "text": [
      "\n"
     ]
    },
    {
     "name": "stdout",
     "output_type": "stream",
     "text": [
      "\n",
      "      Epoch    GPU_mem   box_loss   cls_loss   dfl_loss  Instances       Size\n"
     ]
    },
    {
     "name": "stderr",
     "output_type": "stream",
     "text": [
      "      38/50      7.85G     0.6824     0.4045      1.269         95        640: 100%|██████████| 388/388 [03:45<00:00,  1.72it/s]\n",
      "                 Class     Images  Instances      Box(P          R      mAP50  mAP50-95): 100%|██████████| 49/49 [00:37<00:00,  1.31it/s]"
     ]
    },
    {
     "name": "stdout",
     "output_type": "stream",
     "text": [
      "                   all       3085       3630      0.968      0.962      0.986      0.888\n"
     ]
    },
    {
     "name": "stderr",
     "output_type": "stream",
     "text": [
      "\n"
     ]
    },
    {
     "name": "stdout",
     "output_type": "stream",
     "text": [
      "\n",
      "      Epoch    GPU_mem   box_loss   cls_loss   dfl_loss  Instances       Size\n"
     ]
    },
    {
     "name": "stderr",
     "output_type": "stream",
     "text": [
      "      39/50      7.85G     0.6793     0.4009      1.269         96        640: 100%|██████████| 388/388 [03:43<00:00,  1.73it/s]\n",
      "                 Class     Images  Instances      Box(P          R      mAP50  mAP50-95): 100%|██████████| 49/49 [00:29<00:00,  1.65it/s]"
     ]
    },
    {
     "name": "stdout",
     "output_type": "stream",
     "text": [
      "                   all       3085       3630      0.964      0.966      0.986       0.89\n"
     ]
    },
    {
     "name": "stderr",
     "output_type": "stream",
     "text": [
      "\n"
     ]
    },
    {
     "name": "stdout",
     "output_type": "stream",
     "text": [
      "\n",
      "      Epoch    GPU_mem   box_loss   cls_loss   dfl_loss  Instances       Size\n"
     ]
    },
    {
     "name": "stderr",
     "output_type": "stream",
     "text": [
      "      40/50      7.86G      0.669     0.3947       1.26        103        640: 100%|██████████| 388/388 [03:31<00:00,  1.83it/s]\n",
      "                 Class     Images  Instances      Box(P          R      mAP50  mAP50-95): 100%|██████████| 49/49 [00:34<00:00,  1.43it/s]"
     ]
    },
    {
     "name": "stdout",
     "output_type": "stream",
     "text": [
      "                   all       3085       3630      0.968      0.961      0.986      0.893\n"
     ]
    },
    {
     "name": "stderr",
     "output_type": "stream",
     "text": [
      "\n"
     ]
    },
    {
     "name": "stdout",
     "output_type": "stream",
     "text": [
      "Closing dataloader mosaic\n",
      "\n",
      "      Epoch    GPU_mem   box_loss   cls_loss   dfl_loss  Instances       Size\n"
     ]
    },
    {
     "name": "stderr",
     "output_type": "stream",
     "text": [
      "      41/50      7.84G     0.4577     0.2408      1.047         46        640: 100%|██████████| 388/388 [03:41<00:00,  1.75it/s]\n",
      "                 Class     Images  Instances      Box(P          R      mAP50  mAP50-95): 100%|██████████| 49/49 [00:36<00:00,  1.33it/s]\n"
     ]
    },
    {
     "name": "stdout",
     "output_type": "stream",
     "text": [
      "                   all       3085       3630      0.965      0.968      0.988      0.895\n",
      "\n",
      "      Epoch    GPU_mem   box_loss   cls_loss   dfl_loss  Instances       Size\n"
     ]
    },
    {
     "name": "stderr",
     "output_type": "stream",
     "text": [
      "      42/50      7.81G     0.4446       0.23       1.04         22        640: 100%|██████████| 388/388 [03:13<00:00,  2.01it/s]\n",
      "                 Class     Images  Instances      Box(P          R      mAP50  mAP50-95): 100%|██████████| 49/49 [00:24<00:00,  1.97it/s]"
     ]
    },
    {
     "name": "stdout",
     "output_type": "stream",
     "text": [
      "                   all       3085       3630      0.982      0.952      0.989      0.904\n"
     ]
    },
    {
     "name": "stderr",
     "output_type": "stream",
     "text": [
      "\n"
     ]
    },
    {
     "name": "stdout",
     "output_type": "stream",
     "text": [
      "\n",
      "      Epoch    GPU_mem   box_loss   cls_loss   dfl_loss  Instances       Size\n"
     ]
    },
    {
     "name": "stderr",
     "output_type": "stream",
     "text": [
      "      43/50      7.85G     0.4335     0.2238      1.032         22        640: 100%|██████████| 388/388 [03:44<00:00,  1.73it/s]\n",
      "                 Class     Images  Instances      Box(P          R      mAP50  mAP50-95): 100%|██████████| 49/49 [00:29<00:00,  1.66it/s]"
     ]
    },
    {
     "name": "stdout",
     "output_type": "stream",
     "text": [
      "                   all       3085       3630      0.973      0.958      0.988      0.906\n"
     ]
    },
    {
     "name": "stderr",
     "output_type": "stream",
     "text": [
      "\n"
     ]
    },
    {
     "name": "stdout",
     "output_type": "stream",
     "text": [
      "\n",
      "      Epoch    GPU_mem   box_loss   cls_loss   dfl_loss  Instances       Size\n"
     ]
    },
    {
     "name": "stderr",
     "output_type": "stream",
     "text": [
      "      44/50      7.81G     0.4247     0.2168      1.026         34        640: 100%|██████████| 388/388 [03:14<00:00,  2.00it/s]\n",
      "                 Class     Images  Instances      Box(P          R      mAP50  mAP50-95): 100%|██████████| 49/49 [00:27<00:00,  1.75it/s]"
     ]
    },
    {
     "name": "stdout",
     "output_type": "stream",
     "text": [
      "                   all       3085       3630      0.967      0.964      0.988      0.908\n"
     ]
    },
    {
     "name": "stderr",
     "output_type": "stream",
     "text": [
      "\n"
     ]
    },
    {
     "name": "stdout",
     "output_type": "stream",
     "text": [
      "\n",
      "      Epoch    GPU_mem   box_loss   cls_loss   dfl_loss  Instances       Size\n"
     ]
    },
    {
     "name": "stderr",
     "output_type": "stream",
     "text": [
      "      45/50      7.81G     0.4196     0.2138      1.023         29        640: 100%|██████████| 388/388 [03:58<00:00,  1.63it/s]\n",
      "                 Class     Images  Instances      Box(P          R      mAP50  mAP50-95): 100%|██████████| 49/49 [00:34<00:00,  1.40it/s]"
     ]
    },
    {
     "name": "stdout",
     "output_type": "stream",
     "text": [
      "                   all       3085       3630       0.97      0.963      0.988      0.907\n"
     ]
    },
    {
     "name": "stderr",
     "output_type": "stream",
     "text": [
      "\n"
     ]
    },
    {
     "name": "stdout",
     "output_type": "stream",
     "text": [
      "\n",
      "      Epoch    GPU_mem   box_loss   cls_loss   dfl_loss  Instances       Size\n"
     ]
    },
    {
     "name": "stderr",
     "output_type": "stream",
     "text": [
      "      46/50      7.89G     0.4102     0.2081      1.017         32        640: 100%|██████████| 388/388 [04:20<00:00,  1.49it/s]\n",
      "                 Class     Images  Instances      Box(P          R      mAP50  mAP50-95): 100%|██████████| 49/49 [00:28<00:00,  1.69it/s]"
     ]
    },
    {
     "name": "stdout",
     "output_type": "stream",
     "text": [
      "                   all       3085       3630       0.97      0.963      0.989      0.908\n"
     ]
    },
    {
     "name": "stderr",
     "output_type": "stream",
     "text": [
      "\n"
     ]
    },
    {
     "name": "stdout",
     "output_type": "stream",
     "text": [
      "\n",
      "      Epoch    GPU_mem   box_loss   cls_loss   dfl_loss  Instances       Size\n"
     ]
    },
    {
     "name": "stderr",
     "output_type": "stream",
     "text": [
      "      47/50      7.86G     0.4029     0.2038      1.013         46        640: 100%|██████████| 388/388 [03:39<00:00,  1.77it/s]\n",
      "                 Class     Images  Instances      Box(P          R      mAP50  mAP50-95): 100%|██████████| 49/49 [00:35<00:00,  1.40it/s]"
     ]
    },
    {
     "name": "stdout",
     "output_type": "stream",
     "text": [
      "                   all       3085       3630      0.962      0.972      0.989      0.909\n"
     ]
    },
    {
     "name": "stderr",
     "output_type": "stream",
     "text": [
      "\n"
     ]
    },
    {
     "name": "stdout",
     "output_type": "stream",
     "text": [
      "\n",
      "      Epoch    GPU_mem   box_loss   cls_loss   dfl_loss  Instances       Size\n"
     ]
    },
    {
     "name": "stderr",
     "output_type": "stream",
     "text": [
      "      48/50       7.9G     0.3984        0.2      1.014         34        640: 100%|██████████| 388/388 [04:17<00:00,  1.50it/s]\n",
      "                 Class     Images  Instances      Box(P          R      mAP50  mAP50-95): 100%|██████████| 49/49 [00:30<00:00,  1.61it/s]"
     ]
    },
    {
     "name": "stdout",
     "output_type": "stream",
     "text": [
      "                   all       3085       3630      0.989      0.947      0.989       0.91\n"
     ]
    },
    {
     "name": "stderr",
     "output_type": "stream",
     "text": [
      "\n"
     ]
    },
    {
     "name": "stdout",
     "output_type": "stream",
     "text": [
      "\n",
      "      Epoch    GPU_mem   box_loss   cls_loss   dfl_loss  Instances       Size\n"
     ]
    },
    {
     "name": "stderr",
     "output_type": "stream",
     "text": [
      "      49/50      7.86G     0.3911     0.1963      1.009         41        640: 100%|██████████| 388/388 [03:24<00:00,  1.90it/s]\n",
      "                 Class     Images  Instances      Box(P          R      mAP50  mAP50-95): 100%|██████████| 49/49 [00:29<00:00,  1.67it/s]"
     ]
    },
    {
     "name": "stdout",
     "output_type": "stream",
     "text": [
      "                   all       3085       3630      0.965       0.97      0.989      0.912\n"
     ]
    },
    {
     "name": "stderr",
     "output_type": "stream",
     "text": [
      "\n"
     ]
    },
    {
     "name": "stdout",
     "output_type": "stream",
     "text": [
      "\n",
      "      Epoch    GPU_mem   box_loss   cls_loss   dfl_loss  Instances       Size\n"
     ]
    },
    {
     "name": "stderr",
     "output_type": "stream",
     "text": [
      "      50/50      7.89G     0.3849     0.1913      1.004         30        640: 100%|██████████| 388/388 [04:02<00:00,  1.60it/s]\n",
      "                 Class     Images  Instances      Box(P          R      mAP50  mAP50-95): 100%|██████████| 49/49 [00:25<00:00,  1.94it/s]"
     ]
    },
    {
     "name": "stdout",
     "output_type": "stream",
     "text": [
      "                   all       3085       3630      0.989      0.947      0.989      0.912\n"
     ]
    },
    {
     "name": "stderr",
     "output_type": "stream",
     "text": [
      "\n"
     ]
    },
    {
     "name": "stdout",
     "output_type": "stream",
     "text": [
      "\n",
      "50 epochs completed in 3.716 hours.\n",
      "Optimizer stripped from runs\\detect\\train3\\weights\\last.pt, 6.2MB\n",
      "Optimizer stripped from runs\\detect\\train3\\weights\\best.pt, 6.2MB\n",
      "\n",
      "Validating runs\\detect\\train3\\weights\\best.pt...\n",
      "Ultralytics YOLOv8.2.34  Python-3.10.16 torch-2.5.1 CUDA:0 (NVIDIA GeForce GTX 1080, 8192MiB)\n",
      "YOLOv8_custom summary (fused): 168 layers, 3005843 parameters, 0 gradients\n"
     ]
    },
    {
     "name": "stderr",
     "output_type": "stream",
     "text": [
      "                 Class     Images  Instances      Box(P          R      mAP50  mAP50-95): 100%|██████████| 49/49 [00:18<00:00,  2.60it/s]\n"
     ]
    },
    {
     "name": "stdout",
     "output_type": "stream",
     "text": [
      "                   all       3085       3630      0.989      0.947      0.989      0.912\n",
      "Speed: 0.2ms preprocess, 2.0ms inference, 0.0ms loss, 0.8ms postprocess per image\n",
      "Results saved to \u001B[1mruns\\detect\\train3\u001B[0m\n"
     ]
    },
    {
     "data": {
      "text/plain": [
       "ultralytics.utils.metrics.DetMetrics object with attributes:\n",
       "\n",
       "ap_class_index: array([0])\n",
       "box: ultralytics.utils.metrics.Metric object\n",
       "confusion_matrix: <ultralytics.utils.metrics.ConfusionMatrix object at 0x00000200C443CDF0>\n",
       "curves: ['Precision-Recall(B)', 'F1-Confidence(B)', 'Precision-Confidence(B)', 'Recall-Confidence(B)']\n",
       "curves_results: [[array([          0,    0.001001,    0.002002,    0.003003,    0.004004,    0.005005,    0.006006,    0.007007,    0.008008,    0.009009,     0.01001,    0.011011,    0.012012,    0.013013,    0.014014,    0.015015,    0.016016,    0.017017,    0.018018,    0.019019,     0.02002,    0.021021,    0.022022,    0.023023,\n",
       "          0.024024,    0.025025,    0.026026,    0.027027,    0.028028,    0.029029,     0.03003,    0.031031,    0.032032,    0.033033,    0.034034,    0.035035,    0.036036,    0.037037,    0.038038,    0.039039,     0.04004,    0.041041,    0.042042,    0.043043,    0.044044,    0.045045,    0.046046,    0.047047,\n",
       "          0.048048,    0.049049,     0.05005,    0.051051,    0.052052,    0.053053,    0.054054,    0.055055,    0.056056,    0.057057,    0.058058,    0.059059,     0.06006,    0.061061,    0.062062,    0.063063,    0.064064,    0.065065,    0.066066,    0.067067,    0.068068,    0.069069,     0.07007,    0.071071,\n",
       "          0.072072,    0.073073,    0.074074,    0.075075,    0.076076,    0.077077,    0.078078,    0.079079,     0.08008,    0.081081,    0.082082,    0.083083,    0.084084,    0.085085,    0.086086,    0.087087,    0.088088,    0.089089,     0.09009,    0.091091,    0.092092,    0.093093,    0.094094,    0.095095,\n",
       "          0.096096,    0.097097,    0.098098,    0.099099,      0.1001,      0.1011,      0.1021,      0.1031,      0.1041,     0.10511,     0.10611,     0.10711,     0.10811,     0.10911,     0.11011,     0.11111,     0.11211,     0.11311,     0.11411,     0.11512,     0.11612,     0.11712,     0.11812,     0.11912,\n",
       "           0.12012,     0.12112,     0.12212,     0.12312,     0.12412,     0.12513,     0.12613,     0.12713,     0.12813,     0.12913,     0.13013,     0.13113,     0.13213,     0.13313,     0.13413,     0.13514,     0.13614,     0.13714,     0.13814,     0.13914,     0.14014,     0.14114,     0.14214,     0.14314,\n",
       "           0.14414,     0.14515,     0.14615,     0.14715,     0.14815,     0.14915,     0.15015,     0.15115,     0.15215,     0.15315,     0.15415,     0.15516,     0.15616,     0.15716,     0.15816,     0.15916,     0.16016,     0.16116,     0.16216,     0.16316,     0.16416,     0.16517,     0.16617,     0.16717,\n",
       "           0.16817,     0.16917,     0.17017,     0.17117,     0.17217,     0.17317,     0.17417,     0.17518,     0.17618,     0.17718,     0.17818,     0.17918,     0.18018,     0.18118,     0.18218,     0.18318,     0.18418,     0.18519,     0.18619,     0.18719,     0.18819,     0.18919,     0.19019,     0.19119,\n",
       "           0.19219,     0.19319,     0.19419,      0.1952,      0.1962,      0.1972,      0.1982,      0.1992,      0.2002,      0.2012,      0.2022,      0.2032,      0.2042,     0.20521,     0.20621,     0.20721,     0.20821,     0.20921,     0.21021,     0.21121,     0.21221,     0.21321,     0.21421,     0.21522,\n",
       "           0.21622,     0.21722,     0.21822,     0.21922,     0.22022,     0.22122,     0.22222,     0.22322,     0.22422,     0.22523,     0.22623,     0.22723,     0.22823,     0.22923,     0.23023,     0.23123,     0.23223,     0.23323,     0.23423,     0.23524,     0.23624,     0.23724,     0.23824,     0.23924,\n",
       "           0.24024,     0.24124,     0.24224,     0.24324,     0.24424,     0.24525,     0.24625,     0.24725,     0.24825,     0.24925,     0.25025,     0.25125,     0.25225,     0.25325,     0.25425,     0.25526,     0.25626,     0.25726,     0.25826,     0.25926,     0.26026,     0.26126,     0.26226,     0.26326,\n",
       "           0.26426,     0.26527,     0.26627,     0.26727,     0.26827,     0.26927,     0.27027,     0.27127,     0.27227,     0.27327,     0.27427,     0.27528,     0.27628,     0.27728,     0.27828,     0.27928,     0.28028,     0.28128,     0.28228,     0.28328,     0.28428,     0.28529,     0.28629,     0.28729,\n",
       "           0.28829,     0.28929,     0.29029,     0.29129,     0.29229,     0.29329,     0.29429,      0.2953,      0.2963,      0.2973,      0.2983,      0.2993,      0.3003,      0.3013,      0.3023,      0.3033,      0.3043,     0.30531,     0.30631,     0.30731,     0.30831,     0.30931,     0.31031,     0.31131,\n",
       "           0.31231,     0.31331,     0.31431,     0.31532,     0.31632,     0.31732,     0.31832,     0.31932,     0.32032,     0.32132,     0.32232,     0.32332,     0.32432,     0.32533,     0.32633,     0.32733,     0.32833,     0.32933,     0.33033,     0.33133,     0.33233,     0.33333,     0.33433,     0.33534,\n",
       "           0.33634,     0.33734,     0.33834,     0.33934,     0.34034,     0.34134,     0.34234,     0.34334,     0.34434,     0.34535,     0.34635,     0.34735,     0.34835,     0.34935,     0.35035,     0.35135,     0.35235,     0.35335,     0.35435,     0.35536,     0.35636,     0.35736,     0.35836,     0.35936,\n",
       "           0.36036,     0.36136,     0.36236,     0.36336,     0.36436,     0.36537,     0.36637,     0.36737,     0.36837,     0.36937,     0.37037,     0.37137,     0.37237,     0.37337,     0.37437,     0.37538,     0.37638,     0.37738,     0.37838,     0.37938,     0.38038,     0.38138,     0.38238,     0.38338,\n",
       "           0.38438,     0.38539,     0.38639,     0.38739,     0.38839,     0.38939,     0.39039,     0.39139,     0.39239,     0.39339,     0.39439,      0.3954,      0.3964,      0.3974,      0.3984,      0.3994,      0.4004,      0.4014,      0.4024,      0.4034,      0.4044,     0.40541,     0.40641,     0.40741,\n",
       "           0.40841,     0.40941,     0.41041,     0.41141,     0.41241,     0.41341,     0.41441,     0.41542,     0.41642,     0.41742,     0.41842,     0.41942,     0.42042,     0.42142,     0.42242,     0.42342,     0.42442,     0.42543,     0.42643,     0.42743,     0.42843,     0.42943,     0.43043,     0.43143,\n",
       "           0.43243,     0.43343,     0.43443,     0.43544,     0.43644,     0.43744,     0.43844,     0.43944,     0.44044,     0.44144,     0.44244,     0.44344,     0.44444,     0.44545,     0.44645,     0.44745,     0.44845,     0.44945,     0.45045,     0.45145,     0.45245,     0.45345,     0.45445,     0.45546,\n",
       "           0.45646,     0.45746,     0.45846,     0.45946,     0.46046,     0.46146,     0.46246,     0.46346,     0.46446,     0.46547,     0.46647,     0.46747,     0.46847,     0.46947,     0.47047,     0.47147,     0.47247,     0.47347,     0.47447,     0.47548,     0.47648,     0.47748,     0.47848,     0.47948,\n",
       "           0.48048,     0.48148,     0.48248,     0.48348,     0.48448,     0.48549,     0.48649,     0.48749,     0.48849,     0.48949,     0.49049,     0.49149,     0.49249,     0.49349,     0.49449,      0.4955,      0.4965,      0.4975,      0.4985,      0.4995,      0.5005,      0.5015,      0.5025,      0.5035,\n",
       "            0.5045,     0.50551,     0.50651,     0.50751,     0.50851,     0.50951,     0.51051,     0.51151,     0.51251,     0.51351,     0.51451,     0.51552,     0.51652,     0.51752,     0.51852,     0.51952,     0.52052,     0.52152,     0.52252,     0.52352,     0.52452,     0.52553,     0.52653,     0.52753,\n",
       "           0.52853,     0.52953,     0.53053,     0.53153,     0.53253,     0.53353,     0.53453,     0.53554,     0.53654,     0.53754,     0.53854,     0.53954,     0.54054,     0.54154,     0.54254,     0.54354,     0.54454,     0.54555,     0.54655,     0.54755,     0.54855,     0.54955,     0.55055,     0.55155,\n",
       "           0.55255,     0.55355,     0.55455,     0.55556,     0.55656,     0.55756,     0.55856,     0.55956,     0.56056,     0.56156,     0.56256,     0.56356,     0.56456,     0.56557,     0.56657,     0.56757,     0.56857,     0.56957,     0.57057,     0.57157,     0.57257,     0.57357,     0.57457,     0.57558,\n",
       "           0.57658,     0.57758,     0.57858,     0.57958,     0.58058,     0.58158,     0.58258,     0.58358,     0.58458,     0.58559,     0.58659,     0.58759,     0.58859,     0.58959,     0.59059,     0.59159,     0.59259,     0.59359,     0.59459,      0.5956,      0.5966,      0.5976,      0.5986,      0.5996,\n",
       "            0.6006,      0.6016,      0.6026,      0.6036,      0.6046,     0.60561,     0.60661,     0.60761,     0.60861,     0.60961,     0.61061,     0.61161,     0.61261,     0.61361,     0.61461,     0.61562,     0.61662,     0.61762,     0.61862,     0.61962,     0.62062,     0.62162,     0.62262,     0.62362,\n",
       "           0.62462,     0.62563,     0.62663,     0.62763,     0.62863,     0.62963,     0.63063,     0.63163,     0.63263,     0.63363,     0.63463,     0.63564,     0.63664,     0.63764,     0.63864,     0.63964,     0.64064,     0.64164,     0.64264,     0.64364,     0.64464,     0.64565,     0.64665,     0.64765,\n",
       "           0.64865,     0.64965,     0.65065,     0.65165,     0.65265,     0.65365,     0.65465,     0.65566,     0.65666,     0.65766,     0.65866,     0.65966,     0.66066,     0.66166,     0.66266,     0.66366,     0.66466,     0.66567,     0.66667,     0.66767,     0.66867,     0.66967,     0.67067,     0.67167,\n",
       "           0.67267,     0.67367,     0.67467,     0.67568,     0.67668,     0.67768,     0.67868,     0.67968,     0.68068,     0.68168,     0.68268,     0.68368,     0.68468,     0.68569,     0.68669,     0.68769,     0.68869,     0.68969,     0.69069,     0.69169,     0.69269,     0.69369,     0.69469,      0.6957,\n",
       "            0.6967,      0.6977,      0.6987,      0.6997,      0.7007,      0.7017,      0.7027,      0.7037,      0.7047,     0.70571,     0.70671,     0.70771,     0.70871,     0.70971,     0.71071,     0.71171,     0.71271,     0.71371,     0.71471,     0.71572,     0.71672,     0.71772,     0.71872,     0.71972,\n",
       "           0.72072,     0.72172,     0.72272,     0.72372,     0.72472,     0.72573,     0.72673,     0.72773,     0.72873,     0.72973,     0.73073,     0.73173,     0.73273,     0.73373,     0.73473,     0.73574,     0.73674,     0.73774,     0.73874,     0.73974,     0.74074,     0.74174,     0.74274,     0.74374,\n",
       "           0.74474,     0.74575,     0.74675,     0.74775,     0.74875,     0.74975,     0.75075,     0.75175,     0.75275,     0.75375,     0.75475,     0.75576,     0.75676,     0.75776,     0.75876,     0.75976,     0.76076,     0.76176,     0.76276,     0.76376,     0.76476,     0.76577,     0.76677,     0.76777,\n",
       "           0.76877,     0.76977,     0.77077,     0.77177,     0.77277,     0.77377,     0.77477,     0.77578,     0.77678,     0.77778,     0.77878,     0.77978,     0.78078,     0.78178,     0.78278,     0.78378,     0.78478,     0.78579,     0.78679,     0.78779,     0.78879,     0.78979,     0.79079,     0.79179,\n",
       "           0.79279,     0.79379,     0.79479,      0.7958,      0.7968,      0.7978,      0.7988,      0.7998,      0.8008,      0.8018,      0.8028,      0.8038,      0.8048,     0.80581,     0.80681,     0.80781,     0.80881,     0.80981,     0.81081,     0.81181,     0.81281,     0.81381,     0.81481,     0.81582,\n",
       "           0.81682,     0.81782,     0.81882,     0.81982,     0.82082,     0.82182,     0.82282,     0.82382,     0.82482,     0.82583,     0.82683,     0.82783,     0.82883,     0.82983,     0.83083,     0.83183,     0.83283,     0.83383,     0.83483,     0.83584,     0.83684,     0.83784,     0.83884,     0.83984,\n",
       "           0.84084,     0.84184,     0.84284,     0.84384,     0.84484,     0.84585,     0.84685,     0.84785,     0.84885,     0.84985,     0.85085,     0.85185,     0.85285,     0.85385,     0.85485,     0.85586,     0.85686,     0.85786,     0.85886,     0.85986,     0.86086,     0.86186,     0.86286,     0.86386,\n",
       "           0.86486,     0.86587,     0.86687,     0.86787,     0.86887,     0.86987,     0.87087,     0.87187,     0.87287,     0.87387,     0.87487,     0.87588,     0.87688,     0.87788,     0.87888,     0.87988,     0.88088,     0.88188,     0.88288,     0.88388,     0.88488,     0.88589,     0.88689,     0.88789,\n",
       "           0.88889,     0.88989,     0.89089,     0.89189,     0.89289,     0.89389,     0.89489,      0.8959,      0.8969,      0.8979,      0.8989,      0.8999,      0.9009,      0.9019,      0.9029,      0.9039,      0.9049,     0.90591,     0.90691,     0.90791,     0.90891,     0.90991,     0.91091,     0.91191,\n",
       "           0.91291,     0.91391,     0.91491,     0.91592,     0.91692,     0.91792,     0.91892,     0.91992,     0.92092,     0.92192,     0.92292,     0.92392,     0.92492,     0.92593,     0.92693,     0.92793,     0.92893,     0.92993,     0.93093,     0.93193,     0.93293,     0.93393,     0.93493,     0.93594,\n",
       "           0.93694,     0.93794,     0.93894,     0.93994,     0.94094,     0.94194,     0.94294,     0.94394,     0.94494,     0.94595,     0.94695,     0.94795,     0.94895,     0.94995,     0.95095,     0.95195,     0.95295,     0.95395,     0.95495,     0.95596,     0.95696,     0.95796,     0.95896,     0.95996,\n",
       "           0.96096,     0.96196,     0.96296,     0.96396,     0.96496,     0.96597,     0.96697,     0.96797,     0.96897,     0.96997,     0.97097,     0.97197,     0.97297,     0.97397,     0.97497,     0.97598,     0.97698,     0.97798,     0.97898,     0.97998,     0.98098,     0.98198,     0.98298,     0.98398,\n",
       "           0.98498,     0.98599,     0.98699,     0.98799,     0.98899,     0.98999,     0.99099,     0.99199,     0.99299,     0.99399,     0.99499,       0.996,       0.997,       0.998,       0.999,           1]), array([[          1,           1,           1,           1,           1,           1,           1,           1,           1,           1,           1,           1,           1,           1,           1,           1,           1,           1,           1,           1,           1,           1,           1,\n",
       "                  1,           1,           1,           1,           1,           1,           1,           1,           1,           1,           1,           1,           1,           1,           1,           1,           1,           1,           1,           1,           1,           1,           1,\n",
       "                  1,           1,           1,           1,           1,           1,           1,           1,           1,           1,           1,           1,           1,           1,           1,           1,           1,           1,           1,           1,           1,           1,           1,\n",
       "                  1,           1,           1,           1,           1,           1,           1,           1,           1,           1,           1,           1,           1,           1,           1,           1,           1,           1,           1,           1,           1,           1,           1,\n",
       "                  1,           1,           1,           1,           1,           1,           1,           1,           1,           1,           1,           1,           1,           1,           1,           1,           1,           1,           1,           1,           1,           1,           1,\n",
       "                  1,           1,           1,           1,           1,           1,           1,           1,           1,           1,           1,           1,           1,           1,           1,           1,           1,           1,           1,           1,           1,           1,           1,\n",
       "                  1,           1,           1,           1,           1,           1,           1,           1,           1,           1,           1,           1,           1,           1,           1,           1,           1,           1,           1,           1,           1,           1,           1,\n",
       "                  1,           1,           1,           1,           1,           1,           1,           1,           1,           1,           1,           1,           1,           1,           1,           1,           1,           1,           1,           1,           1,           1,           1,\n",
       "                  1,           1,           1,           1,           1,           1,           1,           1,           1,           1,           1,           1,           1,           1,           1,           1,           1,           1,           1,           1,           1,           1,           1,\n",
       "                  1,           1,           1,           1,           1,           1,           1,           1,           1,           1,           1,           1,           1,           1,           1,           1,           1,           1,           1,           1,           1,           1,           1,\n",
       "                  1,           1,           1,           1,           1,           1,           1,           1,           1,           1,           1,           1,           1,           1,           1,           1,           1,           1,           1,           1,           1,           1,           1,\n",
       "                  1,           1,           1,           1,           1,           1,           1,           1,           1,           1,           1,           1,           1,           1,           1,           1,           1,           1,           1,           1,           1,           1,           1,\n",
       "                  1,           1,           1,           1,           1,           1,           1,           1,           1,           1,           1,           1,           1,           1,           1,           1,           1,           1,           1,           1,           1,           1,           1,\n",
       "                  1,           1,           1,           1,           1,           1,           1,           1,           1,           1,           1,           1,           1,           1,           1,           1,           1,           1,           1,           1,           1,           1,           1,\n",
       "                  1,           1,           1,           1,           1,           1,           1,           1,           1,           1,           1,           1,           1,           1,           1,           1,           1,           1,           1,           1,           1,           1,           1,\n",
       "                  1,           1,           1,           1,           1,           1,           1,           1,           1,           1,           1,           1,           1,           1,           1,           1,           1,           1,           1,           1,           1,           1,           1,\n",
       "                  1,           1,           1,           1,           1,           1,           1,           1,           1,           1,           1,           1,           1,           1,           1,           1,           1,           1,           1,           1,           1,           1,           1,\n",
       "                  1,           1,           1,           1,           1,           1,           1,           1,           1,           1,           1,           1,           1,           1,           1,           1,           1,           1,           1,           1,           1,           1,           1,\n",
       "                  1,           1,           1,           1,           1,           1,           1,           1,           1,           1,           1,           1,           1,           1,           1,           1,           1,           1,           1,           1,           1,           1,           1,\n",
       "                  1,           1,           1,           1,           1,           1,           1,           1,           1,           1,           1,           1,           1,           1,           1,           1,           1,           1,           1,           1,           1,           1,           1,\n",
       "                  1,           1,           1,           1,           1,           1,           1,           1,           1,           1,           1,           1,           1,           1,           1,           1,           1,           1,           1,           1,           1,           1,           1,\n",
       "                  1,           1,           1,           1,           1,           1,           1,           1,           1,           1,           1,           1,           1,           1,           1,           1,           1,           1,           1,           1,           1,           1,           1,\n",
       "                  1,           1,           1,           1,           1,           1,           1,           1,           1,           1,           1,           1,           1,           1,           1,           1,           1,           1,           1,           1,           1,           1,           1,\n",
       "                  1,           1,           1,     0.99969,     0.99969,     0.99969,     0.99969,     0.99969,     0.99969,     0.99969,     0.99969,     0.99969,     0.99969,     0.99969,     0.99969,     0.99969,     0.99969,     0.99969,     0.99969,     0.99969,     0.99969,     0.99969,     0.99969,\n",
       "            0.99969,     0.99969,     0.99969,     0.99969,     0.99969,     0.99969,     0.99969,     0.99969,     0.99969,     0.99969,     0.99969,     0.99969,     0.99969,     0.99969,     0.99969,     0.99969,     0.99969,     0.99969,     0.99969,     0.99969,     0.99969,     0.99969,     0.99969,\n",
       "            0.99969,     0.99969,     0.99969,     0.99969,     0.99969,     0.99969,     0.99969,     0.99969,     0.99969,     0.99969,     0.99969,     0.99969,     0.99969,     0.99969,     0.99969,     0.99969,     0.99969,     0.99969,     0.99969,     0.99969,     0.99969,     0.99969,     0.99969,\n",
       "            0.99969,     0.99969,     0.99969,     0.99969,     0.99969,     0.99969,     0.99969,     0.99969,     0.99969,     0.99969,     0.99969,     0.99969,     0.99969,     0.99969,     0.99969,     0.99969,     0.99969,     0.99969,     0.99969,     0.99969,     0.99969,     0.99969,     0.99969,\n",
       "            0.99969,     0.99969,     0.99969,     0.99969,     0.99969,     0.99969,     0.99969,     0.99969,     0.99969,     0.99969,     0.99969,     0.99969,     0.99969,     0.99969,     0.99969,     0.99969,     0.99969,     0.99969,     0.99969,     0.99969,     0.99969,     0.99969,     0.99969,\n",
       "            0.99969,     0.99969,     0.99969,     0.99969,     0.99969,     0.99969,     0.99969,     0.99969,     0.99969,     0.99969,     0.99969,     0.99969,     0.99969,     0.99969,     0.99969,     0.99969,     0.99969,     0.99969,     0.99969,     0.99969,     0.99969,     0.99969,     0.99969,\n",
       "            0.99969,     0.99969,     0.99969,     0.99969,     0.99969,     0.99969,     0.99969,     0.99969,     0.99969,     0.99969,     0.99969,     0.99969,     0.99969,     0.99969,     0.99969,     0.99969,     0.99969,     0.99969,     0.99969,     0.99969,     0.99969,     0.99969,     0.99969,\n",
       "            0.99969,     0.99969,     0.99969,     0.99969,     0.99969,     0.99969,     0.99969,     0.99969,     0.99969,     0.99969,     0.99969,     0.99969,     0.99969,     0.99969,     0.99969,     0.99969,     0.99969,     0.99969,     0.99969,     0.99969,     0.99969,     0.99969,     0.99969,\n",
       "            0.99969,     0.99969,     0.99969,     0.99969,     0.99969,     0.99969,     0.99969,     0.99969,     0.99969,     0.99969,     0.99969,     0.99969,     0.99969,     0.99969,     0.99969,     0.99969,     0.99969,     0.99969,     0.99969,     0.99969,     0.99969,     0.99969,     0.99969,\n",
       "            0.99969,     0.99969,     0.99969,     0.99969,     0.99969,     0.99969,     0.99969,     0.99969,     0.99969,     0.99969,     0.99969,     0.99969,     0.99969,     0.99969,     0.99969,     0.99969,     0.99969,     0.99969,     0.99969,     0.99969,     0.99969,     0.99969,     0.99969,\n",
       "            0.99969,     0.99969,     0.99969,     0.99969,     0.99969,     0.99969,     0.99969,     0.99969,     0.99969,     0.99969,     0.99969,     0.99969,     0.99969,     0.99969,     0.99969,     0.99969,     0.99969,     0.99969,     0.99969,     0.99969,     0.99969,     0.99969,     0.99969,\n",
       "            0.99969,     0.99969,     0.99969,     0.99969,     0.99969,     0.99969,     0.99969,     0.99969,     0.99969,     0.99969,     0.99969,     0.99969,     0.99969,     0.99969,     0.99969,     0.99969,     0.99969,     0.99969,     0.99969,     0.99969,     0.99969,     0.99969,     0.99969,\n",
       "            0.99969,     0.99969,     0.99969,     0.99969,     0.99969,     0.99969,     0.99969,     0.99969,     0.99969,     0.99969,     0.99969,     0.99969,     0.99969,     0.99969,     0.99969,     0.99969,     0.99969,     0.99969,     0.99969,     0.99969,     0.99969,     0.99969,     0.99969,\n",
       "            0.99969,     0.99969,     0.99969,     0.99969,     0.99969,     0.99969,     0.99969,     0.99969,     0.99969,     0.99969,     0.99969,     0.99969,     0.99969,     0.99969,     0.99969,     0.99969,     0.99969,     0.99969,     0.99969,     0.99969,     0.99969,     0.99969,     0.99969,\n",
       "            0.99969,     0.99969,     0.99969,     0.99969,     0.99969,     0.99969,     0.99969,     0.99969,     0.99969,     0.99969,     0.99969,     0.99969,     0.99969,     0.99969,     0.99969,     0.99969,     0.99969,     0.99969,     0.99969,     0.99969,     0.99969,     0.99969,     0.99969,\n",
       "            0.99969,     0.99969,     0.99969,     0.99969,     0.99969,     0.99969,     0.99969,     0.99969,     0.99969,     0.99969,     0.99969,     0.99969,     0.99969,     0.99969,     0.99969,     0.99969,     0.99969,     0.99969,     0.99969,     0.99969,     0.99969,     0.99969,     0.99941,\n",
       "            0.99941,     0.99941,     0.99941,     0.99941,     0.99941,     0.99941,     0.99941,     0.99941,     0.99941,     0.99941,     0.99941,     0.99941,     0.99941,     0.99941,     0.99941,     0.99941,     0.99941,     0.99941,     0.99941,     0.99941,     0.99941,     0.99941,     0.99941,\n",
       "            0.99941,     0.99941,     0.99941,     0.99941,     0.99941,     0.99941,     0.99941,     0.99911,     0.99911,     0.99911,     0.99882,     0.99852,     0.99794,     0.99706,     0.99677,     0.99677,     0.99649,     0.99649,     0.99533,     0.99476,     0.99476,     0.99419,     0.99304,\n",
       "            0.99276,     0.99105,     0.98991,     0.98935,     0.98681,     0.98626,     0.98458,     0.98236,     0.97959,     0.97575,     0.97385,     0.97308,     0.97281,     0.97235,     0.97235,     0.97211,     0.97211,      0.9716,     0.97108,     0.97003,      0.9682,     0.96795,     0.96722,\n",
       "            0.96722,     0.96592,     0.96436,     0.96387,     0.96261,     0.96132,     0.95931,     0.95931,     0.95418,     0.95396,     0.94587,     0.93768,     0.91622,     0.91301,     0.90796,     0.89666,     0.89136,     0.88503,     0.87198,     0.82035,     0.76278,     0.70411,     0.64543,\n",
       "            0.58676,     0.52808,     0.46941,     0.41073,     0.35205,     0.29338,      0.2347,     0.17603,     0.11735,    0.058676,           0]]), 'Recall', 'Precision'], [array([          0,    0.001001,    0.002002,    0.003003,    0.004004,    0.005005,    0.006006,    0.007007,    0.008008,    0.009009,     0.01001,    0.011011,    0.012012,    0.013013,    0.014014,    0.015015,    0.016016,    0.017017,    0.018018,    0.019019,     0.02002,    0.021021,    0.022022,    0.023023,\n",
       "          0.024024,    0.025025,    0.026026,    0.027027,    0.028028,    0.029029,     0.03003,    0.031031,    0.032032,    0.033033,    0.034034,    0.035035,    0.036036,    0.037037,    0.038038,    0.039039,     0.04004,    0.041041,    0.042042,    0.043043,    0.044044,    0.045045,    0.046046,    0.047047,\n",
       "          0.048048,    0.049049,     0.05005,    0.051051,    0.052052,    0.053053,    0.054054,    0.055055,    0.056056,    0.057057,    0.058058,    0.059059,     0.06006,    0.061061,    0.062062,    0.063063,    0.064064,    0.065065,    0.066066,    0.067067,    0.068068,    0.069069,     0.07007,    0.071071,\n",
       "          0.072072,    0.073073,    0.074074,    0.075075,    0.076076,    0.077077,    0.078078,    0.079079,     0.08008,    0.081081,    0.082082,    0.083083,    0.084084,    0.085085,    0.086086,    0.087087,    0.088088,    0.089089,     0.09009,    0.091091,    0.092092,    0.093093,    0.094094,    0.095095,\n",
       "          0.096096,    0.097097,    0.098098,    0.099099,      0.1001,      0.1011,      0.1021,      0.1031,      0.1041,     0.10511,     0.10611,     0.10711,     0.10811,     0.10911,     0.11011,     0.11111,     0.11211,     0.11311,     0.11411,     0.11512,     0.11612,     0.11712,     0.11812,     0.11912,\n",
       "           0.12012,     0.12112,     0.12212,     0.12312,     0.12412,     0.12513,     0.12613,     0.12713,     0.12813,     0.12913,     0.13013,     0.13113,     0.13213,     0.13313,     0.13413,     0.13514,     0.13614,     0.13714,     0.13814,     0.13914,     0.14014,     0.14114,     0.14214,     0.14314,\n",
       "           0.14414,     0.14515,     0.14615,     0.14715,     0.14815,     0.14915,     0.15015,     0.15115,     0.15215,     0.15315,     0.15415,     0.15516,     0.15616,     0.15716,     0.15816,     0.15916,     0.16016,     0.16116,     0.16216,     0.16316,     0.16416,     0.16517,     0.16617,     0.16717,\n",
       "           0.16817,     0.16917,     0.17017,     0.17117,     0.17217,     0.17317,     0.17417,     0.17518,     0.17618,     0.17718,     0.17818,     0.17918,     0.18018,     0.18118,     0.18218,     0.18318,     0.18418,     0.18519,     0.18619,     0.18719,     0.18819,     0.18919,     0.19019,     0.19119,\n",
       "           0.19219,     0.19319,     0.19419,      0.1952,      0.1962,      0.1972,      0.1982,      0.1992,      0.2002,      0.2012,      0.2022,      0.2032,      0.2042,     0.20521,     0.20621,     0.20721,     0.20821,     0.20921,     0.21021,     0.21121,     0.21221,     0.21321,     0.21421,     0.21522,\n",
       "           0.21622,     0.21722,     0.21822,     0.21922,     0.22022,     0.22122,     0.22222,     0.22322,     0.22422,     0.22523,     0.22623,     0.22723,     0.22823,     0.22923,     0.23023,     0.23123,     0.23223,     0.23323,     0.23423,     0.23524,     0.23624,     0.23724,     0.23824,     0.23924,\n",
       "           0.24024,     0.24124,     0.24224,     0.24324,     0.24424,     0.24525,     0.24625,     0.24725,     0.24825,     0.24925,     0.25025,     0.25125,     0.25225,     0.25325,     0.25425,     0.25526,     0.25626,     0.25726,     0.25826,     0.25926,     0.26026,     0.26126,     0.26226,     0.26326,\n",
       "           0.26426,     0.26527,     0.26627,     0.26727,     0.26827,     0.26927,     0.27027,     0.27127,     0.27227,     0.27327,     0.27427,     0.27528,     0.27628,     0.27728,     0.27828,     0.27928,     0.28028,     0.28128,     0.28228,     0.28328,     0.28428,     0.28529,     0.28629,     0.28729,\n",
       "           0.28829,     0.28929,     0.29029,     0.29129,     0.29229,     0.29329,     0.29429,      0.2953,      0.2963,      0.2973,      0.2983,      0.2993,      0.3003,      0.3013,      0.3023,      0.3033,      0.3043,     0.30531,     0.30631,     0.30731,     0.30831,     0.30931,     0.31031,     0.31131,\n",
       "           0.31231,     0.31331,     0.31431,     0.31532,     0.31632,     0.31732,     0.31832,     0.31932,     0.32032,     0.32132,     0.32232,     0.32332,     0.32432,     0.32533,     0.32633,     0.32733,     0.32833,     0.32933,     0.33033,     0.33133,     0.33233,     0.33333,     0.33433,     0.33534,\n",
       "           0.33634,     0.33734,     0.33834,     0.33934,     0.34034,     0.34134,     0.34234,     0.34334,     0.34434,     0.34535,     0.34635,     0.34735,     0.34835,     0.34935,     0.35035,     0.35135,     0.35235,     0.35335,     0.35435,     0.35536,     0.35636,     0.35736,     0.35836,     0.35936,\n",
       "           0.36036,     0.36136,     0.36236,     0.36336,     0.36436,     0.36537,     0.36637,     0.36737,     0.36837,     0.36937,     0.37037,     0.37137,     0.37237,     0.37337,     0.37437,     0.37538,     0.37638,     0.37738,     0.37838,     0.37938,     0.38038,     0.38138,     0.38238,     0.38338,\n",
       "           0.38438,     0.38539,     0.38639,     0.38739,     0.38839,     0.38939,     0.39039,     0.39139,     0.39239,     0.39339,     0.39439,      0.3954,      0.3964,      0.3974,      0.3984,      0.3994,      0.4004,      0.4014,      0.4024,      0.4034,      0.4044,     0.40541,     0.40641,     0.40741,\n",
       "           0.40841,     0.40941,     0.41041,     0.41141,     0.41241,     0.41341,     0.41441,     0.41542,     0.41642,     0.41742,     0.41842,     0.41942,     0.42042,     0.42142,     0.42242,     0.42342,     0.42442,     0.42543,     0.42643,     0.42743,     0.42843,     0.42943,     0.43043,     0.43143,\n",
       "           0.43243,     0.43343,     0.43443,     0.43544,     0.43644,     0.43744,     0.43844,     0.43944,     0.44044,     0.44144,     0.44244,     0.44344,     0.44444,     0.44545,     0.44645,     0.44745,     0.44845,     0.44945,     0.45045,     0.45145,     0.45245,     0.45345,     0.45445,     0.45546,\n",
       "           0.45646,     0.45746,     0.45846,     0.45946,     0.46046,     0.46146,     0.46246,     0.46346,     0.46446,     0.46547,     0.46647,     0.46747,     0.46847,     0.46947,     0.47047,     0.47147,     0.47247,     0.47347,     0.47447,     0.47548,     0.47648,     0.47748,     0.47848,     0.47948,\n",
       "           0.48048,     0.48148,     0.48248,     0.48348,     0.48448,     0.48549,     0.48649,     0.48749,     0.48849,     0.48949,     0.49049,     0.49149,     0.49249,     0.49349,     0.49449,      0.4955,      0.4965,      0.4975,      0.4985,      0.4995,      0.5005,      0.5015,      0.5025,      0.5035,\n",
       "            0.5045,     0.50551,     0.50651,     0.50751,     0.50851,     0.50951,     0.51051,     0.51151,     0.51251,     0.51351,     0.51451,     0.51552,     0.51652,     0.51752,     0.51852,     0.51952,     0.52052,     0.52152,     0.52252,     0.52352,     0.52452,     0.52553,     0.52653,     0.52753,\n",
       "           0.52853,     0.52953,     0.53053,     0.53153,     0.53253,     0.53353,     0.53453,     0.53554,     0.53654,     0.53754,     0.53854,     0.53954,     0.54054,     0.54154,     0.54254,     0.54354,     0.54454,     0.54555,     0.54655,     0.54755,     0.54855,     0.54955,     0.55055,     0.55155,\n",
       "           0.55255,     0.55355,     0.55455,     0.55556,     0.55656,     0.55756,     0.55856,     0.55956,     0.56056,     0.56156,     0.56256,     0.56356,     0.56456,     0.56557,     0.56657,     0.56757,     0.56857,     0.56957,     0.57057,     0.57157,     0.57257,     0.57357,     0.57457,     0.57558,\n",
       "           0.57658,     0.57758,     0.57858,     0.57958,     0.58058,     0.58158,     0.58258,     0.58358,     0.58458,     0.58559,     0.58659,     0.58759,     0.58859,     0.58959,     0.59059,     0.59159,     0.59259,     0.59359,     0.59459,      0.5956,      0.5966,      0.5976,      0.5986,      0.5996,\n",
       "            0.6006,      0.6016,      0.6026,      0.6036,      0.6046,     0.60561,     0.60661,     0.60761,     0.60861,     0.60961,     0.61061,     0.61161,     0.61261,     0.61361,     0.61461,     0.61562,     0.61662,     0.61762,     0.61862,     0.61962,     0.62062,     0.62162,     0.62262,     0.62362,\n",
       "           0.62462,     0.62563,     0.62663,     0.62763,     0.62863,     0.62963,     0.63063,     0.63163,     0.63263,     0.63363,     0.63463,     0.63564,     0.63664,     0.63764,     0.63864,     0.63964,     0.64064,     0.64164,     0.64264,     0.64364,     0.64464,     0.64565,     0.64665,     0.64765,\n",
       "           0.64865,     0.64965,     0.65065,     0.65165,     0.65265,     0.65365,     0.65465,     0.65566,     0.65666,     0.65766,     0.65866,     0.65966,     0.66066,     0.66166,     0.66266,     0.66366,     0.66466,     0.66567,     0.66667,     0.66767,     0.66867,     0.66967,     0.67067,     0.67167,\n",
       "           0.67267,     0.67367,     0.67467,     0.67568,     0.67668,     0.67768,     0.67868,     0.67968,     0.68068,     0.68168,     0.68268,     0.68368,     0.68468,     0.68569,     0.68669,     0.68769,     0.68869,     0.68969,     0.69069,     0.69169,     0.69269,     0.69369,     0.69469,      0.6957,\n",
       "            0.6967,      0.6977,      0.6987,      0.6997,      0.7007,      0.7017,      0.7027,      0.7037,      0.7047,     0.70571,     0.70671,     0.70771,     0.70871,     0.70971,     0.71071,     0.71171,     0.71271,     0.71371,     0.71471,     0.71572,     0.71672,     0.71772,     0.71872,     0.71972,\n",
       "           0.72072,     0.72172,     0.72272,     0.72372,     0.72472,     0.72573,     0.72673,     0.72773,     0.72873,     0.72973,     0.73073,     0.73173,     0.73273,     0.73373,     0.73473,     0.73574,     0.73674,     0.73774,     0.73874,     0.73974,     0.74074,     0.74174,     0.74274,     0.74374,\n",
       "           0.74474,     0.74575,     0.74675,     0.74775,     0.74875,     0.74975,     0.75075,     0.75175,     0.75275,     0.75375,     0.75475,     0.75576,     0.75676,     0.75776,     0.75876,     0.75976,     0.76076,     0.76176,     0.76276,     0.76376,     0.76476,     0.76577,     0.76677,     0.76777,\n",
       "           0.76877,     0.76977,     0.77077,     0.77177,     0.77277,     0.77377,     0.77477,     0.77578,     0.77678,     0.77778,     0.77878,     0.77978,     0.78078,     0.78178,     0.78278,     0.78378,     0.78478,     0.78579,     0.78679,     0.78779,     0.78879,     0.78979,     0.79079,     0.79179,\n",
       "           0.79279,     0.79379,     0.79479,      0.7958,      0.7968,      0.7978,      0.7988,      0.7998,      0.8008,      0.8018,      0.8028,      0.8038,      0.8048,     0.80581,     0.80681,     0.80781,     0.80881,     0.80981,     0.81081,     0.81181,     0.81281,     0.81381,     0.81481,     0.81582,\n",
       "           0.81682,     0.81782,     0.81882,     0.81982,     0.82082,     0.82182,     0.82282,     0.82382,     0.82482,     0.82583,     0.82683,     0.82783,     0.82883,     0.82983,     0.83083,     0.83183,     0.83283,     0.83383,     0.83483,     0.83584,     0.83684,     0.83784,     0.83884,     0.83984,\n",
       "           0.84084,     0.84184,     0.84284,     0.84384,     0.84484,     0.84585,     0.84685,     0.84785,     0.84885,     0.84985,     0.85085,     0.85185,     0.85285,     0.85385,     0.85485,     0.85586,     0.85686,     0.85786,     0.85886,     0.85986,     0.86086,     0.86186,     0.86286,     0.86386,\n",
       "           0.86486,     0.86587,     0.86687,     0.86787,     0.86887,     0.86987,     0.87087,     0.87187,     0.87287,     0.87387,     0.87487,     0.87588,     0.87688,     0.87788,     0.87888,     0.87988,     0.88088,     0.88188,     0.88288,     0.88388,     0.88488,     0.88589,     0.88689,     0.88789,\n",
       "           0.88889,     0.88989,     0.89089,     0.89189,     0.89289,     0.89389,     0.89489,      0.8959,      0.8969,      0.8979,      0.8989,      0.8999,      0.9009,      0.9019,      0.9029,      0.9039,      0.9049,     0.90591,     0.90691,     0.90791,     0.90891,     0.90991,     0.91091,     0.91191,\n",
       "           0.91291,     0.91391,     0.91491,     0.91592,     0.91692,     0.91792,     0.91892,     0.91992,     0.92092,     0.92192,     0.92292,     0.92392,     0.92492,     0.92593,     0.92693,     0.92793,     0.92893,     0.92993,     0.93093,     0.93193,     0.93293,     0.93393,     0.93493,     0.93594,\n",
       "           0.93694,     0.93794,     0.93894,     0.93994,     0.94094,     0.94194,     0.94294,     0.94394,     0.94494,     0.94595,     0.94695,     0.94795,     0.94895,     0.94995,     0.95095,     0.95195,     0.95295,     0.95395,     0.95495,     0.95596,     0.95696,     0.95796,     0.95896,     0.95996,\n",
       "           0.96096,     0.96196,     0.96296,     0.96396,     0.96496,     0.96597,     0.96697,     0.96797,     0.96897,     0.96997,     0.97097,     0.97197,     0.97297,     0.97397,     0.97497,     0.97598,     0.97698,     0.97798,     0.97898,     0.97998,     0.98098,     0.98198,     0.98298,     0.98398,\n",
       "           0.98498,     0.98599,     0.98699,     0.98799,     0.98899,     0.98999,     0.99099,     0.99199,     0.99299,     0.99399,     0.99499,       0.996,       0.997,       0.998,       0.999,           1]), array([[     0.8879,      0.8879,     0.91538,     0.92497,     0.92998,     0.93495,     0.93773,     0.94037,      0.9421,     0.94322,     0.94445,      0.9457,     0.94625,     0.94724,     0.94803,     0.94935,     0.95007,     0.95057,     0.95152,     0.95241,     0.95342,     0.95391,     0.95474,\n",
       "            0.95484,     0.95518,     0.95549,       0.956,     0.95622,     0.95686,     0.95763,     0.95831,     0.95888,      0.9594,     0.95962,     0.96005,     0.96032,     0.96024,     0.96041,     0.96062,     0.96076,     0.96083,     0.96113,     0.96177,     0.96186,     0.96198,     0.96217,\n",
       "            0.96243,     0.96279,     0.96295,       0.963,     0.96306,     0.96283,     0.96309,     0.96332,     0.96357,     0.96364,      0.9637,     0.96387,     0.96395,      0.9641,     0.96417,     0.96431,     0.96441,     0.96447,      0.9646,     0.96469,     0.96465,     0.96471,     0.96483,\n",
       "            0.96471,     0.96465,     0.96458,     0.96452,     0.96449,     0.96474,     0.96469,     0.96472,     0.96475,     0.96478,     0.96481,     0.96486,     0.96491,     0.96507,     0.96525,     0.96531,     0.96549,     0.96555,     0.96561,     0.96568,     0.96586,     0.96603,     0.96608,\n",
       "            0.96613,     0.96616,     0.96618,     0.96621,     0.96624,     0.96627,     0.96642,      0.9665,     0.96646,     0.96657,     0.96663,      0.9665,     0.96644,     0.96637,     0.96598,     0.96601,     0.96623,      0.9663,     0.96647,     0.96645,     0.96642,      0.9664,     0.96637,\n",
       "            0.96635,     0.96634,     0.96642,     0.96637,     0.96644,     0.96662,     0.96668,     0.96658,     0.96674,     0.96678,     0.96682,      0.9669,     0.96697,     0.96695,     0.96693,     0.96691,     0.96689,     0.96687,     0.96685,     0.96687,     0.96697,     0.96699,       0.967,\n",
       "            0.96702,     0.96703,     0.96705,     0.96706,     0.96708,      0.9671,     0.96689,     0.96681,     0.96678,     0.96674,      0.9667,     0.96667,      0.9667,     0.96673,     0.96675,     0.96678,     0.96679,      0.9668,     0.96682,     0.96684,     0.96686,     0.96688,      0.9669,\n",
       "            0.96692,     0.96694,     0.96696,     0.96697,     0.96699,       0.967,     0.96702,     0.96703,     0.96705,     0.96705,     0.96701,     0.96697,     0.96693,      0.9668,     0.96683,     0.96686,     0.96689,     0.96691,      0.9669,     0.96689,     0.96688,     0.96687,     0.96687,\n",
       "            0.96686,     0.96685,     0.96684,     0.96683,     0.96682,     0.96682,     0.96681,      0.9668,     0.96679,     0.96678,     0.96677,     0.96676,     0.96675,     0.96674,     0.96673,     0.96672,     0.96671,      0.9667,     0.96669,     0.96668,     0.96667,     0.96666,     0.96665,\n",
       "            0.96664,     0.96662,     0.96659,     0.96655,     0.96651,      0.9665,      0.9666,     0.96666,     0.96671,     0.96675,     0.96673,     0.96672,      0.9667,     0.96669,     0.96667,     0.96666,     0.96664,     0.96663,     0.96661,     0.96662,     0.96664,     0.96666,     0.96668,\n",
       "             0.9667,     0.96672,     0.96674,     0.96665,     0.96655,     0.96646,     0.96649,     0.96652,     0.96655,     0.96658,     0.96681,     0.96686,     0.96688,      0.9669,     0.96692,     0.96694,     0.96695,     0.96697,     0.96698,     0.96696,     0.96693,     0.96691,     0.96689,\n",
       "            0.96686,     0.96685,     0.96687,     0.96689,     0.96691,     0.96692,     0.96694,     0.96696,     0.96698,     0.96689,     0.96684,     0.96686,     0.96688,     0.96689,     0.96691,     0.96693,     0.96695,     0.96697,     0.96694,     0.96689,     0.96685,     0.96688,     0.96709,\n",
       "            0.96707,     0.96705,     0.96702,       0.967,     0.96698,     0.96696,     0.96709,     0.96714,      0.9672,     0.96721,     0.96719,     0.96717,     0.96715,     0.96713,     0.96712,      0.9671,     0.96708,      0.9669,     0.96686,     0.96682,     0.96661,     0.96651,     0.96653,\n",
       "            0.96656,     0.96658,     0.96661,     0.96663,     0.96662,     0.96659,     0.96656,     0.96653,      0.9665,     0.96648,     0.96646,     0.96645,     0.96643,     0.96641,     0.96639,     0.96638,     0.96636,      0.9664,     0.96648,     0.96648,     0.96647,     0.96646,     0.96645,\n",
       "            0.96644,     0.96643,     0.96642,      0.9664,     0.96639,     0.96638,     0.96637,     0.96636,     0.96635,     0.96647,     0.96642,     0.96638,     0.96634,     0.96631,     0.96629,     0.96626,     0.96623,     0.96621,     0.96628,      0.9662,     0.96615,     0.96611,     0.96607,\n",
       "            0.96604,     0.96607,      0.9661,     0.96612,     0.96615,     0.96631,     0.96633,     0.96634,     0.96636,     0.96638,      0.9664,     0.96642,     0.96644,     0.96645,     0.96647,     0.96648,      0.9665,     0.96651,     0.96653,     0.96654,     0.96655,     0.96657,     0.96658,\n",
       "             0.9666,     0.96661,     0.96663,     0.96664,     0.96666,     0.96667,     0.96669,      0.9667,      0.9667,     0.96668,     0.96666,     0.96664,     0.96662,      0.9666,     0.96658,     0.96656,     0.96655,     0.96654,     0.96652,     0.96651,      0.9665,     0.96648,     0.96647,\n",
       "            0.96646,     0.96645,     0.96643,     0.96642,     0.96643,     0.96644,     0.96645,     0.96646,     0.96646,     0.96647,     0.96648,     0.96649,     0.96649,      0.9665,     0.96651,     0.96652,     0.96653,     0.96653,     0.96654,     0.96655,     0.96654,     0.96649,     0.96644,\n",
       "            0.96641,     0.96642,     0.96642,     0.96643,     0.96643,     0.96643,     0.96644,     0.96644,     0.96644,     0.96645,     0.96645,     0.96645,     0.96646,     0.96646,     0.96646,     0.96647,     0.96647,     0.96648,     0.96648,     0.96648,     0.96649,     0.96649,     0.96649,\n",
       "             0.9665,      0.9665,      0.9665,     0.96651,     0.96651,     0.96651,     0.96652,     0.96652,     0.96653,     0.96653,     0.96653,     0.96654,     0.96654,     0.96654,     0.96655,     0.96651,     0.96647,     0.96643,      0.9664,     0.96639,     0.96637,     0.96636,     0.96635,\n",
       "            0.96634,     0.96633,     0.96631,      0.9663,     0.96629,     0.96628,     0.96627,     0.96621,     0.96614,     0.96643,      0.9665,     0.96651,     0.96649,     0.96647,     0.96645,     0.96643,     0.96641,      0.9664,     0.96638,     0.96639,      0.9664,     0.96642,     0.96643,\n",
       "            0.96644,     0.96646,     0.96647,     0.96649,      0.9665,     0.96649,     0.96642,     0.96635,     0.96627,     0.96622,     0.96621,      0.9662,     0.96618,     0.96617,     0.96616,     0.96615,     0.96613,     0.96612,     0.96611,      0.9661,     0.96609,     0.96612,     0.96619,\n",
       "            0.96626,     0.96633,     0.96632,     0.96629,     0.96625,     0.96621,     0.96619,     0.96617,     0.96615,     0.96614,     0.96612,      0.9661,     0.96608,     0.96606,     0.96604,     0.96601,     0.96599,     0.96596,     0.96594,     0.96606,     0.96608,      0.9661,     0.96612,\n",
       "            0.96615,     0.96617,     0.96618,     0.96617,     0.96616,     0.96615,     0.96613,     0.96612,     0.96611,      0.9661,     0.96608,     0.96607,     0.96606,     0.96605,     0.96603,       0.966,     0.96598,     0.96596,     0.96593,     0.96591,     0.96587,     0.96584,      0.9658,\n",
       "            0.96576,     0.96559,     0.96556,     0.96554,     0.96551,     0.96548,     0.96548,      0.9655,     0.96553,     0.96555,     0.96557,     0.96559,     0.96559,     0.96556,     0.96554,     0.96552,     0.96549,     0.96547,     0.96541,     0.96533,     0.96526,     0.96518,     0.96511,\n",
       "            0.96504,       0.965,     0.96496,     0.96492,     0.96489,     0.96486,     0.96483,     0.96481,     0.96478,     0.96475,     0.96473,     0.96472,      0.9647,     0.96469,     0.96467,     0.96466,     0.96464,     0.96463,     0.96461,      0.9646,     0.96459,     0.96458,     0.96457,\n",
       "            0.96456,     0.96456,     0.96455,     0.96454,     0.96453,     0.96452,     0.96451,      0.9645,      0.9645,     0.96449,     0.96448,     0.96447,     0.96446,     0.96444,     0.96442,      0.9644,     0.96438,     0.96436,     0.96434,     0.96432,      0.9643,     0.96433,     0.96437,\n",
       "             0.9644,     0.96442,     0.96435,     0.96428,     0.96426,     0.96425,     0.96423,     0.96422,     0.96421,     0.96419,     0.96418,     0.96416,     0.96415,     0.96412,     0.96407,     0.96402,     0.96368,     0.96363,     0.96359,     0.96355,     0.96362,     0.96369,     0.96371,\n",
       "            0.96374,     0.96376,     0.96379,     0.96381,     0.96374,      0.9638,     0.96378,     0.96375,     0.96372,     0.96369,     0.96367,     0.96368,     0.96369,     0.96371,     0.96372,     0.96374,     0.96375,     0.96377,     0.96378,      0.9638,     0.96387,     0.96394,     0.96396,\n",
       "            0.96399,     0.96402,     0.96405,     0.96393,     0.96397,     0.96401,     0.96405,     0.96412,     0.96418,     0.96423,     0.96427,     0.96431,     0.96423,     0.96431,     0.96427,     0.96423,     0.96419,     0.96421,     0.96428,      0.9645,     0.96471,     0.96474,     0.96476,\n",
       "            0.96479,     0.96481,     0.96484,     0.96476,     0.96473,     0.96482,      0.9649,     0.96496,     0.96506,     0.96515,     0.96524,     0.96538,     0.96543,     0.96549,     0.96545,     0.96537,     0.96541,     0.96545,     0.96549,     0.96552,     0.96555,     0.96557,      0.9656,\n",
       "            0.96563,     0.96559,     0.96554,     0.96549,     0.96555,     0.96562,     0.96585,     0.96598,     0.96602,     0.96611,     0.96619,     0.96626,     0.96634,      0.9664,      0.9663,      0.9663,     0.96635,     0.96639,     0.96638,     0.96635,     0.96632,     0.96629,     0.96626,\n",
       "            0.96657,     0.96662,     0.96667,     0.96689,     0.96689,      0.9668,     0.96689,     0.96687,     0.96693,     0.96702,     0.96694,     0.96699,     0.96703,     0.96682,     0.96688,     0.96683,     0.96678,     0.96678,     0.96687,     0.96719,     0.96724,     0.96729,     0.96726,\n",
       "            0.96722,     0.96719,     0.96716,     0.96708,       0.967,     0.96711,     0.96701,     0.96692,     0.96699,     0.96708,     0.96714,     0.96719,     0.96723,     0.96714,      0.9672,      0.9674,      0.9675,     0.96768,     0.96772,     0.96776,     0.96776,     0.96772,     0.96767,\n",
       "            0.96764,     0.96773,     0.96753,      0.9675,     0.96755,     0.96759,      0.9675,     0.96738,     0.96731,     0.96737,     0.96742,     0.96745,     0.96748,      0.9675,     0.96753,     0.96756,     0.96734,     0.96729,     0.96732,     0.96736,     0.96739,     0.96743,     0.96747,\n",
       "            0.96751,     0.96784,     0.96789,     0.96755,     0.96758,     0.96747,     0.96724,     0.96733,     0.96732,     0.96753,     0.96741,     0.96726,     0.96707,     0.96716,     0.96709,     0.96702,     0.96714,     0.96649,     0.96651,     0.96661,     0.96639,     0.96628,     0.96642,\n",
       "            0.96647,     0.96628,     0.96635,     0.96625,     0.96555,     0.96552,     0.96513,     0.96483,     0.96449,     0.96453,     0.96446,     0.96437,     0.96427,     0.96427,     0.96423,     0.96394,     0.96386,     0.96377,     0.96359,     0.96339,     0.96327,     0.96267,     0.96222,\n",
       "            0.96205,     0.96157,     0.96142,     0.96082,     0.96037,     0.96007,     0.95992,     0.95947,     0.95931,     0.95856,     0.95825,     0.95773,     0.95734,     0.95698,     0.95598,     0.95567,     0.95491,     0.95449,     0.95418,     0.95373,     0.95322,     0.95186,     0.95162,\n",
       "            0.95151,     0.95047,      0.9494,     0.94833,     0.94756,     0.94618,     0.94478,     0.94323,     0.94261,     0.94168,      0.9392,     0.93779,     0.93561,     0.93357,     0.93026,     0.92709,     0.92342,     0.91973,     0.91811,     0.91487,     0.91308,     0.90932,     0.90701,\n",
       "            0.90469,      0.9027,      0.9007,     0.89668,     0.89331,      0.8911,     0.88736,      0.8853,      0.8822,     0.88145,     0.87925,     0.87716,      0.8728,      0.8691,     0.86645,     0.86307,     0.86038,     0.85624,     0.85371,     0.84897,     0.84273,     0.83902,     0.83323,\n",
       "            0.82586,     0.82261,     0.81356,     0.80634,     0.79644,     0.79021,     0.78086,     0.76823,     0.75684,     0.74262,     0.73141,     0.71751,      0.7026,      0.6896,      0.6699,     0.65011,     0.62997,     0.60655,     0.58619,     0.55379,     0.51441,      0.4903,     0.47089,\n",
       "            0.43224,     0.40536,     0.36291,     0.33473,      0.3012,     0.27658,     0.23936,     0.21334,     0.17835,     0.15096,     0.12563,     0.10357,    0.084029,    0.066656,    0.047916,    0.038396,    0.029852,    0.018533,     0.01417,    0.009828,   0.0064813,   0.0051525,   0.0045905,\n",
       "          0.0032366,   0.0028612,   0.0024857,   0.0021101,   0.0017343,   0.0009915,   0.0006153,           0,           0,           0,           0,           0,           0,           0,           0,           0,           0,           0,           0,           0,           0,           0,           0,\n",
       "                  0,           0,           0,           0,           0,           0,           0,           0,           0,           0,           0]]), 'Confidence', 'F1'], [array([          0,    0.001001,    0.002002,    0.003003,    0.004004,    0.005005,    0.006006,    0.007007,    0.008008,    0.009009,     0.01001,    0.011011,    0.012012,    0.013013,    0.014014,    0.015015,    0.016016,    0.017017,    0.018018,    0.019019,     0.02002,    0.021021,    0.022022,    0.023023,\n",
       "          0.024024,    0.025025,    0.026026,    0.027027,    0.028028,    0.029029,     0.03003,    0.031031,    0.032032,    0.033033,    0.034034,    0.035035,    0.036036,    0.037037,    0.038038,    0.039039,     0.04004,    0.041041,    0.042042,    0.043043,    0.044044,    0.045045,    0.046046,    0.047047,\n",
       "          0.048048,    0.049049,     0.05005,    0.051051,    0.052052,    0.053053,    0.054054,    0.055055,    0.056056,    0.057057,    0.058058,    0.059059,     0.06006,    0.061061,    0.062062,    0.063063,    0.064064,    0.065065,    0.066066,    0.067067,    0.068068,    0.069069,     0.07007,    0.071071,\n",
       "          0.072072,    0.073073,    0.074074,    0.075075,    0.076076,    0.077077,    0.078078,    0.079079,     0.08008,    0.081081,    0.082082,    0.083083,    0.084084,    0.085085,    0.086086,    0.087087,    0.088088,    0.089089,     0.09009,    0.091091,    0.092092,    0.093093,    0.094094,    0.095095,\n",
       "          0.096096,    0.097097,    0.098098,    0.099099,      0.1001,      0.1011,      0.1021,      0.1031,      0.1041,     0.10511,     0.10611,     0.10711,     0.10811,     0.10911,     0.11011,     0.11111,     0.11211,     0.11311,     0.11411,     0.11512,     0.11612,     0.11712,     0.11812,     0.11912,\n",
       "           0.12012,     0.12112,     0.12212,     0.12312,     0.12412,     0.12513,     0.12613,     0.12713,     0.12813,     0.12913,     0.13013,     0.13113,     0.13213,     0.13313,     0.13413,     0.13514,     0.13614,     0.13714,     0.13814,     0.13914,     0.14014,     0.14114,     0.14214,     0.14314,\n",
       "           0.14414,     0.14515,     0.14615,     0.14715,     0.14815,     0.14915,     0.15015,     0.15115,     0.15215,     0.15315,     0.15415,     0.15516,     0.15616,     0.15716,     0.15816,     0.15916,     0.16016,     0.16116,     0.16216,     0.16316,     0.16416,     0.16517,     0.16617,     0.16717,\n",
       "           0.16817,     0.16917,     0.17017,     0.17117,     0.17217,     0.17317,     0.17417,     0.17518,     0.17618,     0.17718,     0.17818,     0.17918,     0.18018,     0.18118,     0.18218,     0.18318,     0.18418,     0.18519,     0.18619,     0.18719,     0.18819,     0.18919,     0.19019,     0.19119,\n",
       "           0.19219,     0.19319,     0.19419,      0.1952,      0.1962,      0.1972,      0.1982,      0.1992,      0.2002,      0.2012,      0.2022,      0.2032,      0.2042,     0.20521,     0.20621,     0.20721,     0.20821,     0.20921,     0.21021,     0.21121,     0.21221,     0.21321,     0.21421,     0.21522,\n",
       "           0.21622,     0.21722,     0.21822,     0.21922,     0.22022,     0.22122,     0.22222,     0.22322,     0.22422,     0.22523,     0.22623,     0.22723,     0.22823,     0.22923,     0.23023,     0.23123,     0.23223,     0.23323,     0.23423,     0.23524,     0.23624,     0.23724,     0.23824,     0.23924,\n",
       "           0.24024,     0.24124,     0.24224,     0.24324,     0.24424,     0.24525,     0.24625,     0.24725,     0.24825,     0.24925,     0.25025,     0.25125,     0.25225,     0.25325,     0.25425,     0.25526,     0.25626,     0.25726,     0.25826,     0.25926,     0.26026,     0.26126,     0.26226,     0.26326,\n",
       "           0.26426,     0.26527,     0.26627,     0.26727,     0.26827,     0.26927,     0.27027,     0.27127,     0.27227,     0.27327,     0.27427,     0.27528,     0.27628,     0.27728,     0.27828,     0.27928,     0.28028,     0.28128,     0.28228,     0.28328,     0.28428,     0.28529,     0.28629,     0.28729,\n",
       "           0.28829,     0.28929,     0.29029,     0.29129,     0.29229,     0.29329,     0.29429,      0.2953,      0.2963,      0.2973,      0.2983,      0.2993,      0.3003,      0.3013,      0.3023,      0.3033,      0.3043,     0.30531,     0.30631,     0.30731,     0.30831,     0.30931,     0.31031,     0.31131,\n",
       "           0.31231,     0.31331,     0.31431,     0.31532,     0.31632,     0.31732,     0.31832,     0.31932,     0.32032,     0.32132,     0.32232,     0.32332,     0.32432,     0.32533,     0.32633,     0.32733,     0.32833,     0.32933,     0.33033,     0.33133,     0.33233,     0.33333,     0.33433,     0.33534,\n",
       "           0.33634,     0.33734,     0.33834,     0.33934,     0.34034,     0.34134,     0.34234,     0.34334,     0.34434,     0.34535,     0.34635,     0.34735,     0.34835,     0.34935,     0.35035,     0.35135,     0.35235,     0.35335,     0.35435,     0.35536,     0.35636,     0.35736,     0.35836,     0.35936,\n",
       "           0.36036,     0.36136,     0.36236,     0.36336,     0.36436,     0.36537,     0.36637,     0.36737,     0.36837,     0.36937,     0.37037,     0.37137,     0.37237,     0.37337,     0.37437,     0.37538,     0.37638,     0.37738,     0.37838,     0.37938,     0.38038,     0.38138,     0.38238,     0.38338,\n",
       "           0.38438,     0.38539,     0.38639,     0.38739,     0.38839,     0.38939,     0.39039,     0.39139,     0.39239,     0.39339,     0.39439,      0.3954,      0.3964,      0.3974,      0.3984,      0.3994,      0.4004,      0.4014,      0.4024,      0.4034,      0.4044,     0.40541,     0.40641,     0.40741,\n",
       "           0.40841,     0.40941,     0.41041,     0.41141,     0.41241,     0.41341,     0.41441,     0.41542,     0.41642,     0.41742,     0.41842,     0.41942,     0.42042,     0.42142,     0.42242,     0.42342,     0.42442,     0.42543,     0.42643,     0.42743,     0.42843,     0.42943,     0.43043,     0.43143,\n",
       "           0.43243,     0.43343,     0.43443,     0.43544,     0.43644,     0.43744,     0.43844,     0.43944,     0.44044,     0.44144,     0.44244,     0.44344,     0.44444,     0.44545,     0.44645,     0.44745,     0.44845,     0.44945,     0.45045,     0.45145,     0.45245,     0.45345,     0.45445,     0.45546,\n",
       "           0.45646,     0.45746,     0.45846,     0.45946,     0.46046,     0.46146,     0.46246,     0.46346,     0.46446,     0.46547,     0.46647,     0.46747,     0.46847,     0.46947,     0.47047,     0.47147,     0.47247,     0.47347,     0.47447,     0.47548,     0.47648,     0.47748,     0.47848,     0.47948,\n",
       "           0.48048,     0.48148,     0.48248,     0.48348,     0.48448,     0.48549,     0.48649,     0.48749,     0.48849,     0.48949,     0.49049,     0.49149,     0.49249,     0.49349,     0.49449,      0.4955,      0.4965,      0.4975,      0.4985,      0.4995,      0.5005,      0.5015,      0.5025,      0.5035,\n",
       "            0.5045,     0.50551,     0.50651,     0.50751,     0.50851,     0.50951,     0.51051,     0.51151,     0.51251,     0.51351,     0.51451,     0.51552,     0.51652,     0.51752,     0.51852,     0.51952,     0.52052,     0.52152,     0.52252,     0.52352,     0.52452,     0.52553,     0.52653,     0.52753,\n",
       "           0.52853,     0.52953,     0.53053,     0.53153,     0.53253,     0.53353,     0.53453,     0.53554,     0.53654,     0.53754,     0.53854,     0.53954,     0.54054,     0.54154,     0.54254,     0.54354,     0.54454,     0.54555,     0.54655,     0.54755,     0.54855,     0.54955,     0.55055,     0.55155,\n",
       "           0.55255,     0.55355,     0.55455,     0.55556,     0.55656,     0.55756,     0.55856,     0.55956,     0.56056,     0.56156,     0.56256,     0.56356,     0.56456,     0.56557,     0.56657,     0.56757,     0.56857,     0.56957,     0.57057,     0.57157,     0.57257,     0.57357,     0.57457,     0.57558,\n",
       "           0.57658,     0.57758,     0.57858,     0.57958,     0.58058,     0.58158,     0.58258,     0.58358,     0.58458,     0.58559,     0.58659,     0.58759,     0.58859,     0.58959,     0.59059,     0.59159,     0.59259,     0.59359,     0.59459,      0.5956,      0.5966,      0.5976,      0.5986,      0.5996,\n",
       "            0.6006,      0.6016,      0.6026,      0.6036,      0.6046,     0.60561,     0.60661,     0.60761,     0.60861,     0.60961,     0.61061,     0.61161,     0.61261,     0.61361,     0.61461,     0.61562,     0.61662,     0.61762,     0.61862,     0.61962,     0.62062,     0.62162,     0.62262,     0.62362,\n",
       "           0.62462,     0.62563,     0.62663,     0.62763,     0.62863,     0.62963,     0.63063,     0.63163,     0.63263,     0.63363,     0.63463,     0.63564,     0.63664,     0.63764,     0.63864,     0.63964,     0.64064,     0.64164,     0.64264,     0.64364,     0.64464,     0.64565,     0.64665,     0.64765,\n",
       "           0.64865,     0.64965,     0.65065,     0.65165,     0.65265,     0.65365,     0.65465,     0.65566,     0.65666,     0.65766,     0.65866,     0.65966,     0.66066,     0.66166,     0.66266,     0.66366,     0.66466,     0.66567,     0.66667,     0.66767,     0.66867,     0.66967,     0.67067,     0.67167,\n",
       "           0.67267,     0.67367,     0.67467,     0.67568,     0.67668,     0.67768,     0.67868,     0.67968,     0.68068,     0.68168,     0.68268,     0.68368,     0.68468,     0.68569,     0.68669,     0.68769,     0.68869,     0.68969,     0.69069,     0.69169,     0.69269,     0.69369,     0.69469,      0.6957,\n",
       "            0.6967,      0.6977,      0.6987,      0.6997,      0.7007,      0.7017,      0.7027,      0.7037,      0.7047,     0.70571,     0.70671,     0.70771,     0.70871,     0.70971,     0.71071,     0.71171,     0.71271,     0.71371,     0.71471,     0.71572,     0.71672,     0.71772,     0.71872,     0.71972,\n",
       "           0.72072,     0.72172,     0.72272,     0.72372,     0.72472,     0.72573,     0.72673,     0.72773,     0.72873,     0.72973,     0.73073,     0.73173,     0.73273,     0.73373,     0.73473,     0.73574,     0.73674,     0.73774,     0.73874,     0.73974,     0.74074,     0.74174,     0.74274,     0.74374,\n",
       "           0.74474,     0.74575,     0.74675,     0.74775,     0.74875,     0.74975,     0.75075,     0.75175,     0.75275,     0.75375,     0.75475,     0.75576,     0.75676,     0.75776,     0.75876,     0.75976,     0.76076,     0.76176,     0.76276,     0.76376,     0.76476,     0.76577,     0.76677,     0.76777,\n",
       "           0.76877,     0.76977,     0.77077,     0.77177,     0.77277,     0.77377,     0.77477,     0.77578,     0.77678,     0.77778,     0.77878,     0.77978,     0.78078,     0.78178,     0.78278,     0.78378,     0.78478,     0.78579,     0.78679,     0.78779,     0.78879,     0.78979,     0.79079,     0.79179,\n",
       "           0.79279,     0.79379,     0.79479,      0.7958,      0.7968,      0.7978,      0.7988,      0.7998,      0.8008,      0.8018,      0.8028,      0.8038,      0.8048,     0.80581,     0.80681,     0.80781,     0.80881,     0.80981,     0.81081,     0.81181,     0.81281,     0.81381,     0.81481,     0.81582,\n",
       "           0.81682,     0.81782,     0.81882,     0.81982,     0.82082,     0.82182,     0.82282,     0.82382,     0.82482,     0.82583,     0.82683,     0.82783,     0.82883,     0.82983,     0.83083,     0.83183,     0.83283,     0.83383,     0.83483,     0.83584,     0.83684,     0.83784,     0.83884,     0.83984,\n",
       "           0.84084,     0.84184,     0.84284,     0.84384,     0.84484,     0.84585,     0.84685,     0.84785,     0.84885,     0.84985,     0.85085,     0.85185,     0.85285,     0.85385,     0.85485,     0.85586,     0.85686,     0.85786,     0.85886,     0.85986,     0.86086,     0.86186,     0.86286,     0.86386,\n",
       "           0.86486,     0.86587,     0.86687,     0.86787,     0.86887,     0.86987,     0.87087,     0.87187,     0.87287,     0.87387,     0.87487,     0.87588,     0.87688,     0.87788,     0.87888,     0.87988,     0.88088,     0.88188,     0.88288,     0.88388,     0.88488,     0.88589,     0.88689,     0.88789,\n",
       "           0.88889,     0.88989,     0.89089,     0.89189,     0.89289,     0.89389,     0.89489,      0.8959,      0.8969,      0.8979,      0.8989,      0.8999,      0.9009,      0.9019,      0.9029,      0.9039,      0.9049,     0.90591,     0.90691,     0.90791,     0.90891,     0.90991,     0.91091,     0.91191,\n",
       "           0.91291,     0.91391,     0.91491,     0.91592,     0.91692,     0.91792,     0.91892,     0.91992,     0.92092,     0.92192,     0.92292,     0.92392,     0.92492,     0.92593,     0.92693,     0.92793,     0.92893,     0.92993,     0.93093,     0.93193,     0.93293,     0.93393,     0.93493,     0.93594,\n",
       "           0.93694,     0.93794,     0.93894,     0.93994,     0.94094,     0.94194,     0.94294,     0.94394,     0.94494,     0.94595,     0.94695,     0.94795,     0.94895,     0.94995,     0.95095,     0.95195,     0.95295,     0.95395,     0.95495,     0.95596,     0.95696,     0.95796,     0.95896,     0.95996,\n",
       "           0.96096,     0.96196,     0.96296,     0.96396,     0.96496,     0.96597,     0.96697,     0.96797,     0.96897,     0.96997,     0.97097,     0.97197,     0.97297,     0.97397,     0.97497,     0.97598,     0.97698,     0.97798,     0.97898,     0.97998,     0.98098,     0.98198,     0.98298,     0.98398,\n",
       "           0.98498,     0.98599,     0.98699,     0.98799,     0.98899,     0.98999,     0.99099,     0.99199,     0.99299,     0.99399,     0.99499,       0.996,       0.997,       0.998,       0.999,           1]), array([[     0.8074,      0.8074,     0.85444,     0.87195,     0.88154,     0.89123,     0.89744,     0.90275,     0.90618,     0.90873,     0.91125,     0.91381,     0.91551,      0.9179,     0.91939,     0.92188,     0.92324,     0.92442,     0.92622,     0.92791,     0.92982,     0.93077,     0.93234,\n",
       "            0.93253,     0.93318,     0.93378,     0.93474,     0.93517,      0.9364,     0.93812,     0.93943,     0.94052,     0.94154,     0.94196,     0.94278,     0.94356,     0.94362,     0.94399,     0.94466,     0.94492,     0.94506,     0.94585,     0.94713,     0.94731,     0.94754,     0.94792,\n",
       "            0.94842,     0.94913,     0.94943,     0.94953,     0.94964,     0.94973,     0.95022,     0.95067,     0.95116,     0.95129,     0.95142,     0.95174,     0.95191,     0.95219,     0.95233,     0.95261,      0.9528,     0.95292,     0.95316,     0.95345,     0.95353,     0.95364,     0.95388,\n",
       "            0.95394,     0.95394,     0.95393,     0.95417,     0.95442,     0.95503,     0.95519,     0.95525,     0.95531,     0.95536,     0.95542,     0.95552,     0.95562,     0.95594,     0.95629,     0.95641,     0.95676,     0.95688,       0.957,     0.95714,     0.95748,     0.95782,     0.95792,\n",
       "            0.95802,     0.95807,     0.95812,     0.95818,     0.95823,      0.9583,     0.95859,     0.95874,     0.95894,     0.95915,      0.9593,     0.95929,     0.95929,     0.95928,     0.95925,     0.95939,     0.95982,     0.95995,     0.96029,     0.96029,     0.96029,     0.96029,     0.96029,\n",
       "            0.96028,     0.96031,     0.96047,     0.96054,     0.96077,     0.96112,     0.96124,     0.96131,     0.96162,     0.96171,      0.9618,     0.96196,     0.96209,     0.96209,     0.96209,     0.96209,     0.96209,     0.96209,     0.96209,     0.96215,     0.96236,     0.96239,     0.96242,\n",
       "            0.96245,     0.96248,     0.96251,     0.96255,     0.96258,     0.96261,     0.96259,     0.96259,     0.96259,     0.96258,     0.96258,     0.96258,     0.96264,     0.96269,     0.96274,     0.96279,     0.96284,      0.9631,     0.96314,     0.96318,     0.96322,     0.96327,     0.96331,\n",
       "            0.96335,     0.96338,     0.96341,     0.96344,     0.96347,     0.96351,     0.96354,     0.96357,      0.9636,     0.96362,     0.96362,     0.96361,     0.96361,     0.96365,     0.96371,     0.96377,     0.96383,     0.96387,     0.96386,     0.96386,     0.96386,     0.96386,     0.96386,\n",
       "            0.96386,     0.96386,     0.96386,     0.96386,     0.96386,     0.96386,     0.96386,     0.96386,     0.96386,     0.96386,     0.96386,     0.96386,     0.96385,     0.96385,     0.96385,     0.96385,     0.96385,     0.96385,     0.96385,     0.96385,     0.96385,     0.96385,     0.96385,\n",
       "            0.96385,     0.96385,     0.96384,     0.96384,     0.96384,     0.96387,     0.96407,     0.96418,     0.96428,     0.96436,     0.96436,     0.96436,     0.96436,     0.96436,     0.96436,     0.96436,     0.96436,     0.96436,     0.96435,     0.96438,     0.96442,     0.96446,      0.9645,\n",
       "            0.96454,     0.96458,     0.96462,     0.96461,     0.96461,     0.96461,     0.96467,     0.96473,     0.96479,     0.96486,      0.9653,     0.96541,     0.96545,     0.96549,     0.96552,     0.96556,     0.96559,     0.96563,     0.96566,     0.96566,     0.96566,     0.96565,     0.96565,\n",
       "            0.96565,     0.96566,      0.9657,     0.96574,     0.96577,     0.96581,     0.96584,     0.96588,     0.96592,     0.96591,     0.96592,     0.96595,     0.96599,     0.96602,     0.96606,     0.96609,     0.96613,     0.96616,     0.96617,     0.96617,     0.96616,     0.96627,     0.96669,\n",
       "            0.96669,     0.96669,     0.96669,     0.96669,     0.96669,     0.96669,     0.96696,     0.96707,     0.96718,     0.96722,     0.96722,     0.96721,     0.96721,     0.96721,     0.96721,     0.96721,     0.96721,      0.9672,     0.96719,     0.96719,     0.96718,     0.96717,     0.96722,\n",
       "            0.96727,     0.96733,     0.96738,     0.96743,     0.96744,     0.96744,     0.96743,     0.96743,     0.96743,     0.96743,     0.96743,     0.96743,     0.96743,     0.96742,     0.96742,     0.96742,     0.96742,     0.96752,     0.96768,     0.96769,     0.96769,     0.96769,     0.96769,\n",
       "            0.96769,     0.96768,     0.96768,     0.96768,     0.96768,     0.96768,     0.96768,     0.96768,     0.96768,     0.96795,     0.96794,     0.96794,     0.96794,     0.96794,     0.96794,     0.96793,     0.96793,     0.96793,     0.96819,     0.96819,     0.96819,     0.96818,     0.96818,\n",
       "            0.96819,     0.96824,     0.96829,     0.96834,      0.9684,     0.96872,     0.96875,     0.96879,     0.96883,     0.96886,      0.9689,     0.96894,     0.96897,       0.969,     0.96903,     0.96906,     0.96909,     0.96912,     0.96915,     0.96918,     0.96921,     0.96924,     0.96927,\n",
       "             0.9693,     0.96933,     0.96936,     0.96939,     0.96942,     0.96945,     0.96948,     0.96951,     0.96952,     0.96952,     0.96952,     0.96952,     0.96952,     0.96951,     0.96951,     0.96951,     0.96951,     0.96951,     0.96951,     0.96951,     0.96951,     0.96951,     0.96951,\n",
       "            0.96951,     0.96951,      0.9695,     0.96951,     0.96952,     0.96954,     0.96955,     0.96957,     0.96959,      0.9696,     0.96962,     0.96963,     0.96965,     0.96967,     0.96968,      0.9697,     0.96971,     0.96973,     0.96975,     0.96976,     0.96977,     0.96977,     0.96977,\n",
       "            0.96977,     0.96977,     0.96978,     0.96979,      0.9698,      0.9698,     0.96981,     0.96982,     0.96982,     0.96983,     0.96984,     0.96985,     0.96985,     0.96986,     0.96987,     0.96987,     0.96988,     0.96989,      0.9699,      0.9699,     0.96991,     0.96992,     0.96993,\n",
       "            0.96993,     0.96994,     0.96995,     0.96995,     0.96996,     0.96997,     0.96998,     0.96998,     0.96999,        0.97,        0.97,     0.97001,     0.97002,     0.97003,     0.97003,     0.97003,     0.97003,     0.97003,     0.97002,     0.97002,     0.97002,     0.97002,     0.97002,\n",
       "            0.97002,     0.97002,     0.97002,     0.97002,     0.97002,     0.97002,     0.97002,     0.97001,     0.97001,     0.97065,     0.97078,     0.97082,     0.97082,     0.97081,     0.97081,     0.97081,     0.97081,     0.97081,     0.97081,     0.97084,     0.97086,     0.97089,     0.97092,\n",
       "            0.97095,     0.97097,       0.971,     0.97103,     0.97106,     0.97108,     0.97107,     0.97107,     0.97107,     0.97106,     0.97106,     0.97106,     0.97106,     0.97106,     0.97106,     0.97106,     0.97106,     0.97106,     0.97106,     0.97106,     0.97106,     0.97114,     0.97128,\n",
       "            0.97141,     0.97155,     0.97159,     0.97159,     0.97159,     0.97159,     0.97159,     0.97159,     0.97158,     0.97158,     0.97158,     0.97158,     0.97158,     0.97158,     0.97158,     0.97158,     0.97158,     0.97157,     0.97157,     0.97185,      0.9719,     0.97194,     0.97199,\n",
       "            0.97203,     0.97208,     0.97211,     0.97211,     0.97211,     0.97211,     0.97211,     0.97211,     0.97211,     0.97211,     0.97211,     0.97211,     0.97211,     0.97211,     0.97211,      0.9721,      0.9721,      0.9721,      0.9721,      0.9721,      0.9721,     0.97209,     0.97209,\n",
       "            0.97209,     0.97208,     0.97208,     0.97208,     0.97208,     0.97208,      0.9721,     0.97214,     0.97219,     0.97223,     0.97228,     0.97233,     0.97235,     0.97234,     0.97234,     0.97234,     0.97234,     0.97234,     0.97234,     0.97233,     0.97233,     0.97232,     0.97232,\n",
       "            0.97232,     0.97231,     0.97231,     0.97231,     0.97231,     0.97231,      0.9723,      0.9723,      0.9723,      0.9723,      0.9723,      0.9723,      0.9723,      0.9723,      0.9723,      0.9723,     0.97229,     0.97229,     0.97229,     0.97229,     0.97229,     0.97229,     0.97229,\n",
       "            0.97229,     0.97229,     0.97229,     0.97229,     0.97229,     0.97229,     0.97229,     0.97229,     0.97229,     0.97229,     0.97229,     0.97229,     0.97228,     0.97255,     0.97255,     0.97255,     0.97255,     0.97254,     0.97254,     0.97254,     0.97254,     0.97261,     0.97268,\n",
       "            0.97275,     0.97308,     0.97307,     0.97307,     0.97307,     0.97307,     0.97307,     0.97307,     0.97307,     0.97307,     0.97307,     0.97307,     0.97306,     0.97306,     0.97306,     0.97306,     0.97331,      0.9733,      0.9733,      0.9733,     0.97344,     0.97358,     0.97363,\n",
       "            0.97368,     0.97373,     0.97378,     0.97383,     0.97397,     0.97411,     0.97411,     0.97411,     0.97411,     0.97411,     0.97411,     0.97413,     0.97416,      0.9742,     0.97423,     0.97426,     0.97429,     0.97432,     0.97435,     0.97439,     0.97453,     0.97466,     0.97472,\n",
       "            0.97478,     0.97483,     0.97489,     0.97494,     0.97502,      0.9751,     0.97518,     0.97532,     0.97546,     0.97554,     0.97562,     0.97571,     0.97583,     0.97602,     0.97601,     0.97601,     0.97601,     0.97609,     0.97624,     0.97668,     0.97712,     0.97717,     0.97722,\n",
       "            0.97728,     0.97733,     0.97738,     0.97738,     0.97745,     0.97764,     0.97779,     0.97793,     0.97811,      0.9783,     0.97849,     0.97877,     0.97888,       0.979,     0.97904,     0.97905,     0.97913,     0.97921,     0.97929,     0.97936,     0.97941,     0.97947,     0.97953,\n",
       "            0.97958,     0.97959,     0.97959,     0.97959,     0.97972,     0.97986,     0.98033,      0.9807,     0.98098,     0.98117,     0.98133,     0.98148,     0.98192,     0.98208,     0.98208,     0.98214,     0.98224,     0.98233,     0.98236,     0.98235,     0.98235,     0.98235,     0.98235,\n",
       "              0.983,     0.98309,     0.98319,     0.98366,     0.98375,     0.98375,     0.98395,     0.98403,     0.98433,     0.98452,     0.98464,     0.98474,     0.98484,     0.98499,     0.98513,     0.98513,     0.98513,     0.98519,     0.98539,     0.98606,     0.98616,     0.98625,     0.98626,\n",
       "            0.98626,     0.98626,     0.98625,     0.98653,     0.98656,     0.98681,     0.98681,     0.98681,     0.98712,     0.98732,     0.98744,     0.98754,     0.98763,     0.98774,     0.98786,     0.98829,     0.98848,     0.98886,     0.98894,     0.98903,     0.98907,     0.98907,     0.98907,\n",
       "            0.98908,     0.98928,     0.98935,     0.98969,     0.98979,     0.98988,     0.98991,     0.99005,      0.9905,     0.99062,     0.99074,      0.9908,     0.99086,     0.99091,     0.99096,     0.99102,     0.99118,     0.99136,     0.99143,     0.99151,     0.99158,     0.99166,     0.99174,\n",
       "            0.99183,     0.99252,     0.99276,     0.99275,      0.9929,     0.99304,     0.99309,     0.99329,     0.99357,     0.99419,     0.99419,     0.99418,     0.99427,     0.99446,     0.99447,     0.99447,     0.99476,     0.99475,     0.99492,     0.99533,     0.99533,     0.99538,     0.99567,\n",
       "            0.99591,     0.99591,     0.99613,     0.99649,     0.99648,     0.99677,     0.99677,     0.99677,     0.99747,     0.99764,     0.99764,     0.99764,     0.99765,     0.99795,     0.99823,     0.99852,     0.99852,     0.99882,     0.99882,     0.99882,     0.99911,     0.99911,     0.99911,\n",
       "            0.99941,     0.99941,     0.99941,      0.9994,      0.9994,      0.9994,      0.9994,      0.9994,      0.9994,      0.9994,      0.9994,      0.9994,      0.9994,      0.9994,      0.9994,      0.9994,      0.9994,      0.9994,      0.9994,      0.9994,      0.9994,     0.99939,     0.99939,\n",
       "            0.99939,     0.99939,     0.99939,     0.99939,     0.99939,     0.99939,     0.99969,     0.99969,     0.99969,     0.99969,     0.99969,     0.99969,     0.99969,     0.99969,     0.99968,     0.99968,     0.99968,     0.99968,     0.99968,     0.99967,     0.99967,     0.99967,     0.99967,\n",
       "            0.99967,     0.99967,     0.99966,     0.99966,     0.99966,     0.99966,     0.99965,     0.99965,     0.99965,     0.99965,     0.99965,     0.99965,     0.99964,     0.99964,     0.99964,     0.99964,     0.99964,     0.99963,     0.99963,     0.99963,     0.99962,     0.99962,     0.99961,\n",
       "            0.99961,     0.99961,      0.9996,     0.99959,     0.99958,     0.99958,     0.99957,     0.99956,     0.99955,     0.99953,     0.99952,     0.99951,     0.99949,           1,           1,           1,           1,           1,           1,           1,           1,           1,           1,\n",
       "                  1,           1,           1,           1,           1,           1,           1,           1,           1,           1,           1,           1,           1,           1,           1,           1,           1,           1,           1,           1,           1,           1,           1,\n",
       "                  1,           1,           1,           1,           1,           1,           1,           1,           1,           1,           1,           1,           1,           1,           1,           1,           1,           1,           1,           1,           1,           1,           1,\n",
       "                  1,           1,           1,           1,           1,           1,           1,           1,           1,           1,           1]]), 'Confidence', 'Precision'], [array([          0,    0.001001,    0.002002,    0.003003,    0.004004,    0.005005,    0.006006,    0.007007,    0.008008,    0.009009,     0.01001,    0.011011,    0.012012,    0.013013,    0.014014,    0.015015,    0.016016,    0.017017,    0.018018,    0.019019,     0.02002,    0.021021,    0.022022,    0.023023,\n",
       "          0.024024,    0.025025,    0.026026,    0.027027,    0.028028,    0.029029,     0.03003,    0.031031,    0.032032,    0.033033,    0.034034,    0.035035,    0.036036,    0.037037,    0.038038,    0.039039,     0.04004,    0.041041,    0.042042,    0.043043,    0.044044,    0.045045,    0.046046,    0.047047,\n",
       "          0.048048,    0.049049,     0.05005,    0.051051,    0.052052,    0.053053,    0.054054,    0.055055,    0.056056,    0.057057,    0.058058,    0.059059,     0.06006,    0.061061,    0.062062,    0.063063,    0.064064,    0.065065,    0.066066,    0.067067,    0.068068,    0.069069,     0.07007,    0.071071,\n",
       "          0.072072,    0.073073,    0.074074,    0.075075,    0.076076,    0.077077,    0.078078,    0.079079,     0.08008,    0.081081,    0.082082,    0.083083,    0.084084,    0.085085,    0.086086,    0.087087,    0.088088,    0.089089,     0.09009,    0.091091,    0.092092,    0.093093,    0.094094,    0.095095,\n",
       "          0.096096,    0.097097,    0.098098,    0.099099,      0.1001,      0.1011,      0.1021,      0.1031,      0.1041,     0.10511,     0.10611,     0.10711,     0.10811,     0.10911,     0.11011,     0.11111,     0.11211,     0.11311,     0.11411,     0.11512,     0.11612,     0.11712,     0.11812,     0.11912,\n",
       "           0.12012,     0.12112,     0.12212,     0.12312,     0.12412,     0.12513,     0.12613,     0.12713,     0.12813,     0.12913,     0.13013,     0.13113,     0.13213,     0.13313,     0.13413,     0.13514,     0.13614,     0.13714,     0.13814,     0.13914,     0.14014,     0.14114,     0.14214,     0.14314,\n",
       "           0.14414,     0.14515,     0.14615,     0.14715,     0.14815,     0.14915,     0.15015,     0.15115,     0.15215,     0.15315,     0.15415,     0.15516,     0.15616,     0.15716,     0.15816,     0.15916,     0.16016,     0.16116,     0.16216,     0.16316,     0.16416,     0.16517,     0.16617,     0.16717,\n",
       "           0.16817,     0.16917,     0.17017,     0.17117,     0.17217,     0.17317,     0.17417,     0.17518,     0.17618,     0.17718,     0.17818,     0.17918,     0.18018,     0.18118,     0.18218,     0.18318,     0.18418,     0.18519,     0.18619,     0.18719,     0.18819,     0.18919,     0.19019,     0.19119,\n",
       "           0.19219,     0.19319,     0.19419,      0.1952,      0.1962,      0.1972,      0.1982,      0.1992,      0.2002,      0.2012,      0.2022,      0.2032,      0.2042,     0.20521,     0.20621,     0.20721,     0.20821,     0.20921,     0.21021,     0.21121,     0.21221,     0.21321,     0.21421,     0.21522,\n",
       "           0.21622,     0.21722,     0.21822,     0.21922,     0.22022,     0.22122,     0.22222,     0.22322,     0.22422,     0.22523,     0.22623,     0.22723,     0.22823,     0.22923,     0.23023,     0.23123,     0.23223,     0.23323,     0.23423,     0.23524,     0.23624,     0.23724,     0.23824,     0.23924,\n",
       "           0.24024,     0.24124,     0.24224,     0.24324,     0.24424,     0.24525,     0.24625,     0.24725,     0.24825,     0.24925,     0.25025,     0.25125,     0.25225,     0.25325,     0.25425,     0.25526,     0.25626,     0.25726,     0.25826,     0.25926,     0.26026,     0.26126,     0.26226,     0.26326,\n",
       "           0.26426,     0.26527,     0.26627,     0.26727,     0.26827,     0.26927,     0.27027,     0.27127,     0.27227,     0.27327,     0.27427,     0.27528,     0.27628,     0.27728,     0.27828,     0.27928,     0.28028,     0.28128,     0.28228,     0.28328,     0.28428,     0.28529,     0.28629,     0.28729,\n",
       "           0.28829,     0.28929,     0.29029,     0.29129,     0.29229,     0.29329,     0.29429,      0.2953,      0.2963,      0.2973,      0.2983,      0.2993,      0.3003,      0.3013,      0.3023,      0.3033,      0.3043,     0.30531,     0.30631,     0.30731,     0.30831,     0.30931,     0.31031,     0.31131,\n",
       "           0.31231,     0.31331,     0.31431,     0.31532,     0.31632,     0.31732,     0.31832,     0.31932,     0.32032,     0.32132,     0.32232,     0.32332,     0.32432,     0.32533,     0.32633,     0.32733,     0.32833,     0.32933,     0.33033,     0.33133,     0.33233,     0.33333,     0.33433,     0.33534,\n",
       "           0.33634,     0.33734,     0.33834,     0.33934,     0.34034,     0.34134,     0.34234,     0.34334,     0.34434,     0.34535,     0.34635,     0.34735,     0.34835,     0.34935,     0.35035,     0.35135,     0.35235,     0.35335,     0.35435,     0.35536,     0.35636,     0.35736,     0.35836,     0.35936,\n",
       "           0.36036,     0.36136,     0.36236,     0.36336,     0.36436,     0.36537,     0.36637,     0.36737,     0.36837,     0.36937,     0.37037,     0.37137,     0.37237,     0.37337,     0.37437,     0.37538,     0.37638,     0.37738,     0.37838,     0.37938,     0.38038,     0.38138,     0.38238,     0.38338,\n",
       "           0.38438,     0.38539,     0.38639,     0.38739,     0.38839,     0.38939,     0.39039,     0.39139,     0.39239,     0.39339,     0.39439,      0.3954,      0.3964,      0.3974,      0.3984,      0.3994,      0.4004,      0.4014,      0.4024,      0.4034,      0.4044,     0.40541,     0.40641,     0.40741,\n",
       "           0.40841,     0.40941,     0.41041,     0.41141,     0.41241,     0.41341,     0.41441,     0.41542,     0.41642,     0.41742,     0.41842,     0.41942,     0.42042,     0.42142,     0.42242,     0.42342,     0.42442,     0.42543,     0.42643,     0.42743,     0.42843,     0.42943,     0.43043,     0.43143,\n",
       "           0.43243,     0.43343,     0.43443,     0.43544,     0.43644,     0.43744,     0.43844,     0.43944,     0.44044,     0.44144,     0.44244,     0.44344,     0.44444,     0.44545,     0.44645,     0.44745,     0.44845,     0.44945,     0.45045,     0.45145,     0.45245,     0.45345,     0.45445,     0.45546,\n",
       "           0.45646,     0.45746,     0.45846,     0.45946,     0.46046,     0.46146,     0.46246,     0.46346,     0.46446,     0.46547,     0.46647,     0.46747,     0.46847,     0.46947,     0.47047,     0.47147,     0.47247,     0.47347,     0.47447,     0.47548,     0.47648,     0.47748,     0.47848,     0.47948,\n",
       "           0.48048,     0.48148,     0.48248,     0.48348,     0.48448,     0.48549,     0.48649,     0.48749,     0.48849,     0.48949,     0.49049,     0.49149,     0.49249,     0.49349,     0.49449,      0.4955,      0.4965,      0.4975,      0.4985,      0.4995,      0.5005,      0.5015,      0.5025,      0.5035,\n",
       "            0.5045,     0.50551,     0.50651,     0.50751,     0.50851,     0.50951,     0.51051,     0.51151,     0.51251,     0.51351,     0.51451,     0.51552,     0.51652,     0.51752,     0.51852,     0.51952,     0.52052,     0.52152,     0.52252,     0.52352,     0.52452,     0.52553,     0.52653,     0.52753,\n",
       "           0.52853,     0.52953,     0.53053,     0.53153,     0.53253,     0.53353,     0.53453,     0.53554,     0.53654,     0.53754,     0.53854,     0.53954,     0.54054,     0.54154,     0.54254,     0.54354,     0.54454,     0.54555,     0.54655,     0.54755,     0.54855,     0.54955,     0.55055,     0.55155,\n",
       "           0.55255,     0.55355,     0.55455,     0.55556,     0.55656,     0.55756,     0.55856,     0.55956,     0.56056,     0.56156,     0.56256,     0.56356,     0.56456,     0.56557,     0.56657,     0.56757,     0.56857,     0.56957,     0.57057,     0.57157,     0.57257,     0.57357,     0.57457,     0.57558,\n",
       "           0.57658,     0.57758,     0.57858,     0.57958,     0.58058,     0.58158,     0.58258,     0.58358,     0.58458,     0.58559,     0.58659,     0.58759,     0.58859,     0.58959,     0.59059,     0.59159,     0.59259,     0.59359,     0.59459,      0.5956,      0.5966,      0.5976,      0.5986,      0.5996,\n",
       "            0.6006,      0.6016,      0.6026,      0.6036,      0.6046,     0.60561,     0.60661,     0.60761,     0.60861,     0.60961,     0.61061,     0.61161,     0.61261,     0.61361,     0.61461,     0.61562,     0.61662,     0.61762,     0.61862,     0.61962,     0.62062,     0.62162,     0.62262,     0.62362,\n",
       "           0.62462,     0.62563,     0.62663,     0.62763,     0.62863,     0.62963,     0.63063,     0.63163,     0.63263,     0.63363,     0.63463,     0.63564,     0.63664,     0.63764,     0.63864,     0.63964,     0.64064,     0.64164,     0.64264,     0.64364,     0.64464,     0.64565,     0.64665,     0.64765,\n",
       "           0.64865,     0.64965,     0.65065,     0.65165,     0.65265,     0.65365,     0.65465,     0.65566,     0.65666,     0.65766,     0.65866,     0.65966,     0.66066,     0.66166,     0.66266,     0.66366,     0.66466,     0.66567,     0.66667,     0.66767,     0.66867,     0.66967,     0.67067,     0.67167,\n",
       "           0.67267,     0.67367,     0.67467,     0.67568,     0.67668,     0.67768,     0.67868,     0.67968,     0.68068,     0.68168,     0.68268,     0.68368,     0.68468,     0.68569,     0.68669,     0.68769,     0.68869,     0.68969,     0.69069,     0.69169,     0.69269,     0.69369,     0.69469,      0.6957,\n",
       "            0.6967,      0.6977,      0.6987,      0.6997,      0.7007,      0.7017,      0.7027,      0.7037,      0.7047,     0.70571,     0.70671,     0.70771,     0.70871,     0.70971,     0.71071,     0.71171,     0.71271,     0.71371,     0.71471,     0.71572,     0.71672,     0.71772,     0.71872,     0.71972,\n",
       "           0.72072,     0.72172,     0.72272,     0.72372,     0.72472,     0.72573,     0.72673,     0.72773,     0.72873,     0.72973,     0.73073,     0.73173,     0.73273,     0.73373,     0.73473,     0.73574,     0.73674,     0.73774,     0.73874,     0.73974,     0.74074,     0.74174,     0.74274,     0.74374,\n",
       "           0.74474,     0.74575,     0.74675,     0.74775,     0.74875,     0.74975,     0.75075,     0.75175,     0.75275,     0.75375,     0.75475,     0.75576,     0.75676,     0.75776,     0.75876,     0.75976,     0.76076,     0.76176,     0.76276,     0.76376,     0.76476,     0.76577,     0.76677,     0.76777,\n",
       "           0.76877,     0.76977,     0.77077,     0.77177,     0.77277,     0.77377,     0.77477,     0.77578,     0.77678,     0.77778,     0.77878,     0.77978,     0.78078,     0.78178,     0.78278,     0.78378,     0.78478,     0.78579,     0.78679,     0.78779,     0.78879,     0.78979,     0.79079,     0.79179,\n",
       "           0.79279,     0.79379,     0.79479,      0.7958,      0.7968,      0.7978,      0.7988,      0.7998,      0.8008,      0.8018,      0.8028,      0.8038,      0.8048,     0.80581,     0.80681,     0.80781,     0.80881,     0.80981,     0.81081,     0.81181,     0.81281,     0.81381,     0.81481,     0.81582,\n",
       "           0.81682,     0.81782,     0.81882,     0.81982,     0.82082,     0.82182,     0.82282,     0.82382,     0.82482,     0.82583,     0.82683,     0.82783,     0.82883,     0.82983,     0.83083,     0.83183,     0.83283,     0.83383,     0.83483,     0.83584,     0.83684,     0.83784,     0.83884,     0.83984,\n",
       "           0.84084,     0.84184,     0.84284,     0.84384,     0.84484,     0.84585,     0.84685,     0.84785,     0.84885,     0.84985,     0.85085,     0.85185,     0.85285,     0.85385,     0.85485,     0.85586,     0.85686,     0.85786,     0.85886,     0.85986,     0.86086,     0.86186,     0.86286,     0.86386,\n",
       "           0.86486,     0.86587,     0.86687,     0.86787,     0.86887,     0.86987,     0.87087,     0.87187,     0.87287,     0.87387,     0.87487,     0.87588,     0.87688,     0.87788,     0.87888,     0.87988,     0.88088,     0.88188,     0.88288,     0.88388,     0.88488,     0.88589,     0.88689,     0.88789,\n",
       "           0.88889,     0.88989,     0.89089,     0.89189,     0.89289,     0.89389,     0.89489,      0.8959,      0.8969,      0.8979,      0.8989,      0.8999,      0.9009,      0.9019,      0.9029,      0.9039,      0.9049,     0.90591,     0.90691,     0.90791,     0.90891,     0.90991,     0.91091,     0.91191,\n",
       "           0.91291,     0.91391,     0.91491,     0.91592,     0.91692,     0.91792,     0.91892,     0.91992,     0.92092,     0.92192,     0.92292,     0.92392,     0.92492,     0.92593,     0.92693,     0.92793,     0.92893,     0.92993,     0.93093,     0.93193,     0.93293,     0.93393,     0.93493,     0.93594,\n",
       "           0.93694,     0.93794,     0.93894,     0.93994,     0.94094,     0.94194,     0.94294,     0.94394,     0.94494,     0.94595,     0.94695,     0.94795,     0.94895,     0.94995,     0.95095,     0.95195,     0.95295,     0.95395,     0.95495,     0.95596,     0.95696,     0.95796,     0.95896,     0.95996,\n",
       "           0.96096,     0.96196,     0.96296,     0.96396,     0.96496,     0.96597,     0.96697,     0.96797,     0.96897,     0.96997,     0.97097,     0.97197,     0.97297,     0.97397,     0.97497,     0.97598,     0.97698,     0.97798,     0.97898,     0.97998,     0.98098,     0.98198,     0.98298,     0.98398,\n",
       "           0.98498,     0.98599,     0.98699,     0.98799,     0.98899,     0.98999,     0.99099,     0.99199,     0.99299,     0.99399,     0.99499,       0.996,       0.997,       0.998,       0.999,           1]), array([[    0.98623,     0.98623,     0.98567,     0.98485,     0.98405,      0.9832,     0.98182,     0.98127,     0.98099,     0.98044,     0.98017,     0.97989,     0.97913,     0.97851,     0.97851,     0.97851,     0.97851,     0.97824,     0.97824,     0.97824,     0.97824,     0.97824,     0.97824,\n",
       "            0.97824,     0.97824,     0.97824,     0.97824,     0.97824,     0.97824,     0.97796,     0.97796,     0.97796,     0.97796,     0.97796,     0.97796,     0.97769,     0.97746,     0.97741,     0.97713,     0.97713,     0.97713,      0.9769,     0.97686,     0.97686,     0.97686,     0.97686,\n",
       "            0.97686,     0.97686,     0.97686,     0.97686,     0.97686,     0.97631,     0.97631,     0.97631,     0.97631,     0.97631,     0.97631,     0.97631,     0.97631,     0.97631,     0.97631,     0.97631,     0.97631,     0.97631,     0.97631,      0.9762,     0.97603,     0.97603,     0.97603,\n",
       "            0.97572,      0.9756,     0.97547,     0.97509,     0.97478,     0.97466,     0.97438,     0.97438,     0.97438,     0.97438,     0.97438,     0.97438,     0.97438,     0.97438,     0.97438,     0.97438,     0.97438,     0.97438,     0.97438,     0.97438,     0.97438,     0.97438,     0.97438,\n",
       "            0.97438,     0.97438,     0.97438,     0.97438,     0.97438,     0.97438,     0.97438,     0.97438,      0.9741,      0.9741,     0.97406,     0.97382,     0.97369,     0.97357,     0.97281,     0.97273,     0.97273,     0.97273,     0.97273,     0.97268,     0.97263,     0.97259,     0.97254,\n",
       "            0.97249,     0.97245,     0.97245,     0.97227,     0.97218,     0.97218,     0.97218,     0.97191,      0.9719,      0.9719,      0.9719,      0.9719,     0.97189,     0.97185,     0.97181,     0.97177,     0.97173,     0.97169,     0.97166,     0.97163,     0.97163,     0.97163,     0.97163,\n",
       "            0.97163,     0.97163,     0.97163,     0.97163,     0.97163,     0.97163,     0.97122,     0.97107,       0.971,     0.97093,     0.97086,      0.9708,      0.9708,      0.9708,      0.9708,      0.9708,     0.97077,     0.97052,     0.97052,     0.97052,     0.97052,     0.97052,     0.97052,\n",
       "            0.97052,     0.97052,     0.97052,     0.97052,     0.97052,     0.97052,     0.97052,     0.97052,     0.97052,      0.9705,     0.97042,     0.97034,     0.97026,     0.96997,     0.96997,     0.96997,     0.96997,     0.96997,     0.96995,     0.96993,     0.96992,      0.9699,     0.96989,\n",
       "            0.96987,     0.96985,     0.96984,     0.96982,     0.96981,     0.96979,     0.96977,     0.96976,     0.96974,     0.96973,     0.96971,     0.96969,     0.96967,     0.96965,     0.96963,     0.96961,     0.96959,     0.96957,     0.96955,     0.96952,      0.9695,     0.96948,     0.96946,\n",
       "            0.96944,     0.96942,     0.96935,     0.96927,      0.9692,     0.96915,     0.96915,     0.96915,     0.96915,     0.96914,     0.96911,     0.96908,     0.96905,     0.96902,     0.96899,     0.96897,     0.96894,     0.96891,     0.96888,     0.96887,     0.96887,     0.96887,     0.96887,\n",
       "            0.96887,     0.96887,     0.96887,     0.96869,      0.9685,     0.96832,     0.96832,     0.96832,     0.96832,     0.96832,     0.96832,     0.96832,     0.96832,     0.96832,     0.96832,     0.96832,     0.96832,     0.96832,     0.96831,     0.96826,     0.96822,     0.96817,     0.96812,\n",
       "            0.96807,     0.96804,     0.96804,     0.96804,     0.96804,     0.96804,     0.96804,     0.96804,     0.96804,     0.96788,     0.96777,     0.96777,     0.96777,     0.96777,     0.96777,     0.96777,     0.96777,     0.96777,      0.9677,     0.96762,     0.96753,     0.96749,     0.96749,\n",
       "            0.96744,      0.9674,     0.96736,     0.96731,     0.96727,     0.96723,     0.96722,     0.96722,     0.96722,      0.9672,     0.96716,     0.96713,     0.96709,     0.96705,     0.96702,     0.96698,     0.96695,      0.9666,     0.96652,     0.96644,     0.96604,     0.96585,     0.96584,\n",
       "            0.96584,     0.96584,     0.96584,     0.96584,     0.96579,     0.96574,     0.96568,     0.96562,     0.96557,     0.96553,      0.9655,     0.96547,     0.96543,      0.9654,     0.96537,     0.96533,      0.9653,     0.96529,     0.96529,     0.96527,     0.96525,     0.96523,     0.96521,\n",
       "            0.96519,     0.96517,     0.96515,     0.96513,     0.96511,     0.96509,     0.96507,     0.96505,     0.96503,     0.96499,     0.96491,     0.96483,     0.96475,     0.96469,     0.96464,     0.96459,     0.96454,     0.96449,     0.96438,     0.96422,     0.96413,     0.96405,     0.96398,\n",
       "            0.96391,     0.96391,     0.96391,     0.96391,     0.96391,     0.96391,     0.96391,     0.96391,     0.96391,     0.96391,     0.96391,     0.96391,     0.96391,     0.96391,     0.96391,     0.96391,     0.96391,     0.96391,     0.96391,     0.96391,     0.96391,     0.96391,     0.96391,\n",
       "            0.96391,     0.96391,     0.96391,     0.96391,     0.96391,     0.96391,     0.96391,     0.96391,     0.96389,     0.96385,     0.96381,     0.96377,     0.96374,      0.9637,     0.96366,     0.96363,      0.9636,     0.96358,     0.96355,     0.96353,     0.96351,     0.96348,     0.96346,\n",
       "            0.96343,     0.96341,     0.96338,     0.96336,     0.96336,     0.96336,     0.96336,     0.96336,     0.96336,     0.96336,     0.96336,     0.96336,     0.96336,     0.96336,     0.96336,     0.96336,     0.96336,     0.96336,     0.96336,     0.96336,     0.96333,     0.96324,     0.96315,\n",
       "            0.96309,     0.96309,     0.96309,     0.96309,     0.96309,     0.96309,     0.96309,     0.96309,     0.96309,     0.96309,     0.96309,     0.96309,     0.96309,     0.96309,     0.96309,     0.96309,     0.96309,     0.96309,     0.96309,     0.96309,     0.96309,     0.96309,     0.96309,\n",
       "            0.96309,     0.96309,     0.96309,     0.96309,     0.96309,     0.96309,     0.96309,     0.96309,     0.96309,     0.96309,     0.96309,     0.96309,     0.96309,     0.96309,     0.96308,     0.96301,     0.96293,     0.96286,      0.9628,     0.96278,     0.96275,     0.96273,     0.96271,\n",
       "            0.96268,     0.96266,     0.96264,     0.96261,     0.96259,     0.96257,     0.96254,     0.96244,      0.9623,     0.96226,     0.96226,     0.96223,      0.9622,     0.96216,     0.96213,     0.96209,     0.96206,     0.96202,     0.96198,     0.96198,     0.96198,     0.96198,     0.96198,\n",
       "            0.96198,     0.96198,     0.96198,     0.96198,     0.96198,     0.96195,     0.96181,     0.96167,     0.96153,     0.96143,      0.9614,     0.96138,     0.96135,     0.96133,     0.96131,     0.96128,     0.96126,     0.96124,     0.96121,     0.96119,     0.96117,     0.96116,     0.96116,\n",
       "            0.96116,     0.96116,     0.96111,     0.96104,     0.96097,      0.9609,     0.96085,     0.96082,     0.96078,     0.96075,     0.96071,     0.96068,     0.96064,     0.96061,     0.96056,     0.96051,     0.96047,     0.96042,     0.96037,     0.96033,     0.96033,     0.96033,     0.96033,\n",
       "            0.96033,     0.96033,     0.96032,      0.9603,     0.96028,     0.96025,     0.96023,     0.96021,     0.96018,     0.96016,     0.96014,     0.96011,     0.96009,     0.96007,     0.96003,     0.95998,     0.95993,     0.95989,     0.95984,     0.95979,     0.95973,     0.95966,     0.95959,\n",
       "            0.95952,     0.95919,     0.95914,     0.95908,     0.95903,     0.95898,     0.95895,     0.95895,     0.95895,     0.95895,     0.95895,     0.95895,     0.95892,     0.95888,     0.95883,     0.95878,     0.95874,     0.95869,     0.95857,     0.95843,     0.95829,     0.95815,     0.95801,\n",
       "            0.95787,     0.95779,     0.95772,     0.95765,     0.95758,     0.95752,     0.95747,     0.95742,     0.95737,     0.95732,     0.95728,     0.95725,     0.95723,      0.9572,     0.95717,     0.95714,     0.95711,     0.95708,     0.95706,     0.95703,     0.95701,     0.95699,     0.95698,\n",
       "            0.95696,     0.95694,     0.95693,     0.95691,     0.95689,     0.95688,     0.95686,     0.95684,     0.95683,     0.95681,     0.95679,     0.95678,     0.95676,     0.95646,     0.95643,     0.95639,     0.95635,     0.95631,     0.95627,     0.95624,      0.9562,      0.9562,      0.9562,\n",
       "             0.9562,     0.95591,     0.95577,     0.95564,     0.95562,     0.95559,     0.95556,     0.95553,      0.9555,     0.95547,     0.95545,     0.95542,     0.95539,     0.95534,     0.95524,     0.95515,     0.95424,     0.95415,     0.95407,     0.95399,     0.95399,     0.95399,     0.95399,\n",
       "            0.95399,     0.95399,     0.95399,     0.95399,     0.95372,     0.95371,     0.95366,      0.9536,     0.95355,      0.9535,     0.95345,     0.95344,     0.95344,     0.95344,     0.95344,     0.95344,     0.95344,     0.95344,     0.95344,     0.95344,     0.95344,     0.95344,     0.95344,\n",
       "            0.95344,     0.95344,     0.95344,     0.95317,     0.95317,     0.95317,     0.95317,     0.95317,     0.95317,     0.95317,     0.95317,     0.95317,     0.95289,     0.95289,     0.95281,     0.95273,     0.95265,     0.95262,     0.95262,     0.95262,     0.95262,     0.95262,     0.95262,\n",
       "            0.95262,     0.95262,     0.95262,     0.95246,     0.95234,     0.95234,     0.95234,     0.95234,     0.95234,     0.95234,     0.95234,     0.95234,     0.95234,     0.95234,     0.95223,     0.95207,     0.95207,     0.95207,     0.95207,     0.95207,     0.95207,     0.95207,     0.95207,\n",
       "            0.95207,     0.95199,     0.95189,      0.9518,     0.95179,     0.95179,     0.95179,      0.9517,     0.95152,     0.95152,     0.95152,     0.95152,     0.95124,     0.95121,     0.95102,     0.95096,     0.95096,     0.95096,     0.95092,     0.95086,     0.95081,     0.95075,     0.95069,\n",
       "            0.95069,     0.95069,     0.95069,     0.95069,     0.95059,     0.95041,     0.95041,      0.9503,     0.95014,     0.95014,     0.94986,     0.94986,     0.94986,     0.94931,     0.94929,     0.94919,      0.9491,     0.94904,     0.94904,     0.94904,     0.94904,     0.94904,     0.94898,\n",
       "            0.94891,     0.94885,     0.94879,     0.94838,     0.94821,     0.94819,       0.948,     0.94781,     0.94766,     0.94766,     0.94766,     0.94766,     0.94766,     0.94738,     0.94738,     0.94738,     0.94738,     0.94738,     0.94738,     0.94738,     0.94734,     0.94726,     0.94718,\n",
       "            0.94711,     0.94711,     0.94666,     0.94628,     0.94628,     0.94628,     0.94608,     0.94573,     0.94518,     0.94518,     0.94518,     0.94518,     0.94518,     0.94518,     0.94518,     0.94518,     0.94463,     0.94435,     0.94435,     0.94435,     0.94435,     0.94435,     0.94435,\n",
       "            0.94435,     0.94435,     0.94425,      0.9436,     0.94353,     0.94318,      0.9427,      0.9427,     0.94242,     0.94226,     0.94204,     0.94176,     0.94132,     0.94132,     0.94119,     0.94105,     0.94102,     0.93979,     0.93967,      0.9395,     0.93908,     0.93884,     0.93884,\n",
       "            0.93872,     0.93836,     0.93829,      0.9378,     0.93649,     0.93617,     0.93544,     0.93488,     0.93361,     0.93355,     0.93341,     0.93324,     0.93306,     0.93278,     0.93247,     0.93167,     0.93153,     0.93109,     0.93076,     0.93039,     0.92991,     0.92879,     0.92795,\n",
       "            0.92738,      0.9265,     0.92621,      0.9251,     0.92427,     0.92371,     0.92343,     0.92261,     0.92232,     0.92092,     0.92036,      0.9194,     0.91868,     0.91801,     0.91617,     0.91561,     0.91422,     0.91344,     0.91288,     0.91205,     0.91113,     0.90864,      0.9082,\n",
       "            0.90801,     0.90612,     0.90418,     0.90223,     0.90084,     0.89835,     0.89558,     0.89281,      0.8917,     0.89003,     0.88561,     0.88311,     0.87924,     0.87565,     0.86985,     0.86433,     0.85798,     0.85163,     0.84886,     0.84333,     0.84029,     0.83394,     0.83007,\n",
       "             0.8262,     0.82288,     0.81956,     0.81294,     0.80741,     0.80382,     0.79774,     0.79442,     0.78945,     0.78824,     0.78474,     0.78142,     0.77452,     0.76872,     0.76457,     0.75933,     0.75518,     0.74883,     0.74496,     0.73778,      0.7284,     0.72288,     0.71433,\n",
       "            0.70357,     0.69887,     0.68591,      0.6757,     0.66192,     0.65336,     0.64068,     0.62386,     0.60897,     0.59077,     0.57671,     0.55962,      0.5417,     0.52625,     0.50365,      0.4816,     0.45982,     0.43529,     0.41462,     0.38292,     0.34627,     0.32477,     0.30795,\n",
       "             0.2757,      0.2542,     0.22168,     0.20101,      0.1773,     0.16048,     0.13595,     0.11941,    0.097907,     0.08164,    0.067025,    0.054615,    0.043857,    0.034477,    0.024546,    0.019574,    0.015152,   0.0093532,   0.0071355,   0.0049383,   0.0032512,   0.0025829,   0.0023005,\n",
       "          0.0016209,   0.0014327,   0.0012444,   0.0010562,   0.0008679,    0.000496,  0.00030775,           0,           0,           0,           0,           0,           0,           0,           0,           0,           0,           0,           0,           0,           0,           0,           0,\n",
       "                  0,           0,           0,           0,           0,           0,           0,           0,           0,           0,           0]]), 'Confidence', 'Recall']]\n",
       "fitness: np.float64(0.9201203937497876)\n",
       "keys: ['metrics/precision(B)', 'metrics/recall(B)', 'metrics/mAP50(B)', 'metrics/mAP50-95(B)']\n",
       "maps: array([    0.91247])\n",
       "names: {0: 'car'}\n",
       "plot: True\n",
       "results_dict: {'metrics/precision(B)': np.float64(0.9890279320012506), 'metrics/recall(B)': np.float64(0.9473829201101929), 'metrics/mAP50(B)': np.float64(0.98900530772237), 'metrics/mAP50-95(B)': np.float64(0.9124665144195007), 'fitness': np.float64(0.9201203937497876)}\n",
       "save_dir: WindowsPath('runs/detect/train3')\n",
       "speed: {'preprocess': 0.20396651479761255, 'inference': 1.9537625088683983, 'loss': 6.576797757388321e-05, 'postprocess': 0.7941831066310889}\n",
       "task: 'detect'"
      ]
     },
     "execution_count": 2,
     "metadata": {},
     "output_type": "execute_result"
    }
   ],
   "execution_count": 2
  }
 ],
 "metadata": {
  "kernelspec": {
   "display_name": "Python 3",
   "language": "python",
   "name": "python3"
  },
  "language_info": {
   "codemirror_mode": {
    "name": "ipython",
    "version": 2
   },
   "file_extension": ".py",
   "mimetype": "text/x-python",
   "name": "python",
   "nbconvert_exporter": "python",
   "pygments_lexer": "ipython2",
   "version": "2.7.6"
  }
 },
 "nbformat": 4,
 "nbformat_minor": 5
}
