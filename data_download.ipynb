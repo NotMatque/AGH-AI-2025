{
 "cells": [
  {
   "metadata": {},
   "cell_type": "markdown",
   "source": [
    "# Pobieranie danych\n",
    "Dane po pobraniu należy ręcznie przenieść do folderu [data](/data).\\\n",
    "Dane mają tworzyć nastepującą strukturę:\n",
    "``` text\n",
    "data/\n",
    "├── test/\n",
    "│   ├── images/\n",
    "│   │   ├── image1.jpg\n",
    "│   │   ├── image2.jpg\n",
    "│   │   └── image3.jpg\n",
    "│   └── labels/\n",
    "│       ├── image1.txt\n",
    "│       ├── image2.txt\n",
    "│       └── image3.txt\n",
    "└── train/\n",
    "    ├── images/\n",
    "    │   ├── imageA.jpg\n",
    "    │   ├── imageB.jpg\n",
    "    │   └── imageC.jpg\n",
    "    └── labels/\n",
    "        ├── imageA.txt\n",
    "        ├── imageB.txt\n",
    "        └── imageC.txt\n",
    "```"
   ],
   "id": "20c20b6a26d2dfd5"
  },
  {
   "metadata": {},
   "cell_type": "markdown",
   "source": [
    "## Dane 1.\n",
    "Car detection and tracking dataset: [link](https://www.kaggle.com/datasets/amitkumargurjar/car-detection-and-tracking-dataset)"
   ],
   "id": "b309b17d94728f0c"
  },
  {
   "metadata": {},
   "cell_type": "code",
   "source": [
    "import kagglehub\n",
    "# Download latest version\n",
    "path = kagglehub.dataset_download(\"amitkumargurjar/car-detection-and-tracking-dataset\")\n",
    "\n",
    "print(\"Path to dataset files:\", path)"
   ],
   "id": "80c3ee70bb091c7b",
   "outputs": [],
   "execution_count": null
  },
  {
   "metadata": {},
   "cell_type": "markdown",
   "source": [
    "## Dane 2.\n",
    "Car detection dataset: [link](https://www.kaggle.com/datasets/seyeon040768/car-detection-dataset/data)"
   ],
   "id": "b84a237137d44e0a"
  },
  {
   "metadata": {},
   "cell_type": "code",
   "source": [
    "import kagglehub\n",
    "# Download latest version\n",
    "path = kagglehub.dataset_download(\"seyeon040768/car-detection-dataset\")\n",
    "\n",
    "print(\"Path to dataset files:\", path)"
   ],
   "id": "6b90941501566db4",
   "outputs": [],
   "execution_count": null
  },
  {
   "metadata": {},
   "cell_type": "markdown",
   "source": [
    "## Dane 3.\n",
    "Car Opject detection: [link](https://www.kaggle.com/datasets/sshikamaru/car-object-detection)"
   ],
   "id": "ff4aefa0de39148d"
  },
  {
   "metadata": {
    "ExecuteTime": {
     "end_time": "2025-05-14T23:02:39.025753Z",
     "start_time": "2025-05-14T23:02:03.560502Z"
    }
   },
   "cell_type": "code",
   "source": [
    "import kagglehub\n",
    "\n",
    "# Download latest version\n",
    "path = kagglehub.dataset_download(\"sshikamaru/car-object-detection\")\n",
    "\n",
    "print(\"Path to dataset files:\", path)"
   ],
   "id": "a0527b46dc92db71",
   "outputs": [
    {
     "name": "stderr",
     "output_type": "stream",
     "text": [
      "C:\\Users\\Mateusz\\anaconda3\\envs\\CVtorch-env\\lib\\site-packages\\tqdm\\auto.py:21: TqdmWarning: IProgress not found. Please update jupyter and ipywidgets. See https://ipywidgets.readthedocs.io/en/stable/user_install.html\n",
      "  from .autonotebook import tqdm as notebook_tqdm\n"
     ]
    },
    {
     "name": "stdout",
     "output_type": "stream",
     "text": [
      "Warning: Looks like you're using an outdated `kagglehub` version, please consider updating (latest version: 0.3.12)\n",
      "Downloading from https://www.kaggle.com/api/v1/datasets/download/sshikamaru/car-object-detection?dataset_version_number=2...\n"
     ]
    },
    {
     "name": "stderr",
     "output_type": "stream",
     "text": [
      "100%|██████████| 112M/112M [00:32<00:00, 3.60MB/s] "
     ]
    },
    {
     "name": "stdout",
     "output_type": "stream",
     "text": [
      "Extracting model files...\n"
     ]
    },
    {
     "name": "stderr",
     "output_type": "stream",
     "text": [
      "\n"
     ]
    },
    {
     "name": "stdout",
     "output_type": "stream",
     "text": [
      "Path to dataset files: C:\\Users\\Mateusz\\.cache\\kagglehub\\datasets\\sshikamaru\\car-object-detection\\versions\\2\n"
     ]
    }
   ],
   "execution_count": 1
  }
 ],
 "metadata": {
  "kernelspec": {
   "display_name": "Python 3",
   "language": "python",
   "name": "python3"
  },
  "language_info": {
   "codemirror_mode": {
    "name": "ipython",
    "version": 2
   },
   "file_extension": ".py",
   "mimetype": "text/x-python",
   "name": "python",
   "nbconvert_exporter": "python",
   "pygments_lexer": "ipython2",
   "version": "2.7.6"
  }
 },
 "nbformat": 4,
 "nbformat_minor": 5
}
