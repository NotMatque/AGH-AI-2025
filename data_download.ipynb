{
 "cells": [
  {
   "metadata": {},
   "cell_type": "markdown",
   "source": "# Pobieranie danych",
   "id": "20c20b6a26d2dfd5"
  },
  {
   "metadata": {
    "jupyter": {
     "is_executing": true
    }
   },
   "cell_type": "code",
   "source": [
    "import cv2 as cv\n",
    "from IPython.core.display import Image\n",
    "import kagglehub"
   ],
   "id": "1fdcdd31f276ce7b",
   "outputs": [],
   "execution_count": null
  },
  {
   "metadata": {},
   "cell_type": "markdown",
   "source": [
    "## Dane 1.\n",
    "Car detection and tracking dataset: [link](https://www.kaggle.com/datasets/amitkumargurjar/car-detection-and-tracking-dataset)\n",
    "\n",
    "Dane należy przerzucić do katalogu ```/data```:\n",
    "\n",
    "![pliki_w_data](docs/rozdzial_danych.png)"
   ],
   "id": "b309b17d94728f0c"
  },
  {
   "metadata": {
    "ExecuteTime": {
     "end_time": "2025-04-04T22:05:41.529081Z",
     "start_time": "2025-04-04T22:05:41.234983Z"
    }
   },
   "cell_type": "code",
   "source": [
    "if not cv.imread('data/train/images/frame_0000.jpg', 1):\n",
    "    path = kagglehub.dataset_download(\"amitkumargurjar/car-detection-and-tracking-dataset\")\n",
    "    print(\"Path to dataset files:\", path)"
   ],
   "id": "80c3ee70bb091c7b",
   "outputs": [
    {
     "name": "stdout",
     "output_type": "stream",
     "text": [
      "Warning: Looks like you're using an outdated `kagglehub` version, please consider updating (latest version: 0.3.11)\n",
      "Path to dataset files: C:\\Users\\Mateusz\\.cache\\kagglehub\\datasets\\amitkumargurjar\\car-detection-and-tracking-dataset\\versions\\2\n"
     ]
    }
   ],
   "execution_count": 7
  },
  {
   "metadata": {},
   "cell_type": "markdown",
   "source": [
    "# Dane 2.\n",
    "Car detection dataset: [link]()"
   ],
   "id": "b84a237137d44e0a"
  },
  {
   "metadata": {
    "ExecuteTime": {
     "end_time": "2025-04-24T14:36:30.810067Z",
     "start_time": "2025-04-24T14:29:41.076464Z"
    }
   },
   "cell_type": "code",
   "source": [
    "import kagglehub\n",
    "# Download latest version\n",
    "path = kagglehub.dataset_download(\"seyeon040768/car-detection-dataset\")\n",
    "\n",
    "print(\"Path to dataset files:\", path)"
   ],
   "id": "6b90941501566db4",
   "outputs": [
    {
     "name": "stderr",
     "output_type": "stream",
     "text": [
      "C:\\Users\\Mateusz\\anaconda3\\envs\\opencv-env\\Lib\\site-packages\\tqdm\\auto.py:21: TqdmWarning: IProgress not found. Please update jupyter and ipywidgets. See https://ipywidgets.readthedocs.io/en/stable/user_install.html\n",
      "  from .autonotebook import tqdm as notebook_tqdm\n"
     ]
    },
    {
     "name": "stdout",
     "output_type": "stream",
     "text": [
      "Warning: Looks like you're using an outdated `kagglehub` version, please consider updating (latest version: 0.3.12)\n",
      "Downloading from https://www.kaggle.com/api/v1/datasets/download/seyeon040768/car-detection-dataset?dataset_version_number=1...\n"
     ]
    },
    {
     "name": "stderr",
     "output_type": "stream",
     "text": [
      "100%|██████████| 886M/886M [05:32<00:00, 2.79MB/s] "
     ]
    },
    {
     "name": "stdout",
     "output_type": "stream",
     "text": [
      "Extracting model files...\n"
     ]
    },
    {
     "name": "stderr",
     "output_type": "stream",
     "text": [
      "\n"
     ]
    },
    {
     "name": "stdout",
     "output_type": "stream",
     "text": [
      "Path to dataset files: C:\\Users\\Mateusz\\.cache\\kagglehub\\datasets\\seyeon040768\\car-detection-dataset\\versions\\1\n"
     ]
    }
   ],
   "execution_count": 2
  }
 ],
 "metadata": {
  "kernelspec": {
   "display_name": "Python 3",
   "language": "python",
   "name": "python3"
  },
  "language_info": {
   "codemirror_mode": {
    "name": "ipython",
    "version": 2
   },
   "file_extension": ".py",
   "mimetype": "text/x-python",
   "name": "python",
   "nbconvert_exporter": "python",
   "pygments_lexer": "ipython2",
   "version": "2.7.6"
  }
 },
 "nbformat": 4,
 "nbformat_minor": 5
}
