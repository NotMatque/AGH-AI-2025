{
 "cells": [
  {
   "metadata": {},
   "cell_type": "markdown",
   "source": "# Sprawdzenie danych",
   "id": "36fb316c74eab7b3"
  },
  {
   "metadata": {
    "ExecuteTime": {
     "end_time": "2025-04-02T17:11:19.893318Z",
     "start_time": "2025-04-02T17:11:19.890260Z"
    }
   },
   "cell_type": "code",
   "source": "import cv2 as cv",
   "id": "349cdca882ab6e6d",
   "outputs": [],
   "execution_count": 9
  },
  {
   "metadata": {
    "ExecuteTime": {
     "end_time": "2025-04-02T17:25:05.814484Z",
     "start_time": "2025-04-02T17:24:40.269852Z"
    }
   },
   "cell_type": "code",
   "source": [
    "img_path = 'data/train/images/'\n",
    "label_path = 'data/train/labels/'\n",
    "window_name = 'Example data'\n",
    "\n",
    "for i in range(399):\n",
    "    # Odczytywanie oznaczeń\n",
    "    with open(f'{label_path}frame_{i:04d}.txt', \"r\") as file:\n",
    "        lines = file.readlines()\n",
    "\n",
    "    labels = []\n",
    "    for line in lines:\n",
    "        values = list(map(float, line.strip().split()))  # Konwersja na floaty\n",
    "        labels.append(values)\n",
    "\n",
    "    # Odczytywanie obrazu\n",
    "    img = cv.imread(f'{img_path}frame_{i:04d}.jpg', cv.IMREAD_COLOR)\n",
    "    img_height, img_width = img.shape[:2]\n",
    "\n",
    "    # Dodawanie etykiet\n",
    "    for label in labels:\n",
    "        class_id, x, y, width, height = label\n",
    "        upper_left = (int((x - width / 2) * img_width), int((y - height / 2) * img_height))\n",
    "        lower_right = (int((x + width / 2) * img_width), int((y + height / 2) * img_height))\n",
    "        cv.rectangle(img, upper_left, lower_right, (255, 0, 0), thickness=4, lineType=cv.LINE_AA)\n",
    "\n",
    "    # Wyświetlenie obrazu\n",
    "    cv.imshow(window_name, img)\n",
    "    key = cv.waitKey(1)\n",
    "\n",
    "    if key == 27:\n",
    "        break\n",
    "\n",
    "cv.destroyAllWindows()"
   ],
   "id": "83c3436bc49938d2",
   "outputs": [],
   "execution_count": 14
  },
  {
   "metadata": {},
   "cell_type": "code",
   "outputs": [],
   "execution_count": null,
   "source": "",
   "id": "9e272fb6c4ef2723"
  }
 ],
 "metadata": {
  "kernelspec": {
   "display_name": "Python 3",
   "language": "python",
   "name": "python3"
  },
  "language_info": {
   "codemirror_mode": {
    "name": "ipython",
    "version": 2
   },
   "file_extension": ".py",
   "mimetype": "text/x-python",
   "name": "python",
   "nbconvert_exporter": "python",
   "pygments_lexer": "ipython2",
   "version": "2.7.6"
  }
 },
 "nbformat": 4,
 "nbformat_minor": 5
}
