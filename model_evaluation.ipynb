{
 "cells": [
  {
   "metadata": {},
   "cell_type": "markdown",
   "source": "# Sprawdzenie działania wytrenowanego modelu",
   "id": "de21ddff5a3a6e81"
  },
  {
   "cell_type": "code",
   "id": "initial_id",
   "metadata": {
    "collapsed": true,
    "ExecuteTime": {
     "end_time": "2025-06-04T21:47:28.965810Z",
     "start_time": "2025-06-04T21:47:26.841436Z"
    }
   },
   "source": [
    "import cv2\n",
    "from ultralytics import YOLO\n",
    "import os\n",
    "import random\n",
    "import matplotlib.pyplot as plt\n",
    "%matplotlib inline"
   ],
   "outputs": [],
   "execution_count": 4
  },
  {
   "metadata": {
    "ExecuteTime": {
     "end_time": "2025-06-04T21:47:29.895280Z",
     "start_time": "2025-06-04T21:47:28.975070Z"
    }
   },
   "cell_type": "code",
   "source": [
    "my_model = YOLO('trained_model/train3/best.pt')\n",
    "pretrained_model = YOLO('yolov8n.pt')\n",
    "\n",
    "image_folder = ('data/random-Gara-pics')\n",
    "image_files = [f for f in os.listdir(image_folder) if f.endswith(('.jpg', '.jpeg', '.png'))]\n",
    "random_images = random.sample(image_files, min(10, len(image_files)))\n",
    "\n",
    "fig, axes = plt.subplots(len(random_images), 2, figsize=(10, len(random_images)*2.5))\n",
    "\n",
    "for idx, img_name in enumerate(random_images):\n",
    "    img_path = os.path.join(image_folder, img_name)\n",
    "\n",
    "    img = cv2.imread(img_path)\n",
    "    img_rgb = cv2.cvtColor(img, cv2.COLOR_BGR2RGB)\n",
    "\n",
    "    results_my = my_model.predict(source=img_rgb, save=False, imgsz=640, conf=0.25, verbose=False)\n",
    "    pred_img_my = results_my[0].plot()\n",
    "\n",
    "    results_pre = pretrained_model.predict(source=img_rgb, save=False, imgsz=640, conf=0.25, verbose=False)\n",
    "    pred_img_pre = results_pre[0].plot()\n",
    "\n",
    "    axes[idx][0].imshow(pred_img_my)\n",
    "    axes[idx][0].set_title(f'My model\\n{img_name}')\n",
    "    axes[idx][0].axis('off')\n",
    "\n",
    "    axes[idx][1].imshow(pred_img_pre)\n",
    "    axes[idx][1].set_title(f'YOLOv8n\\n{img_name}')\n",
    "    axes[idx][1].axis('off')\n",
    "\n",
    "plt.tight_layout()\n",
    "plt.show()"
   ],
   "id": "a0e8b92ee8c5f55b",
   "outputs": [
    {
     "ename": "FileNotFoundError",
     "evalue": "[Errno 2] No such file or directory: 'trained_model\\\\train3\\\\best.pt'",
     "output_type": "error",
     "traceback": [
      "\u001B[31m---------------------------------------------------------------------------\u001B[39m",
      "\u001B[31mFileNotFoundError\u001B[39m                         Traceback (most recent call last)",
      "\u001B[36mCell\u001B[39m\u001B[36m \u001B[39m\u001B[32mIn[5]\u001B[39m\u001B[32m, line 1\u001B[39m\n\u001B[32m----> \u001B[39m\u001B[32m1\u001B[39m my_model = \u001B[43mYOLO\u001B[49m\u001B[43m(\u001B[49m\u001B[33;43m'\u001B[39;49m\u001B[33;43mtrained_model/train3/best.pt\u001B[39;49m\u001B[33;43m'\u001B[39;49m\u001B[43m)\u001B[49m\n\u001B[32m      2\u001B[39m pretrained_model = YOLO(\u001B[33m'\u001B[39m\u001B[33myolov8n.pt\u001B[39m\u001B[33m'\u001B[39m)\n\u001B[32m      4\u001B[39m image_folder = (\u001B[33m'\u001B[39m\u001B[33mdata/random-Gara-pics\u001B[39m\u001B[33m'\u001B[39m)\n",
      "\u001B[36mFile \u001B[39m\u001B[32m~\\Documents\\GitHub\\AGH-AI-2025\\.venv\\Lib\\site-packages\\ultralytics\\models\\yolo\\model.py:79\u001B[39m, in \u001B[36mYOLO.__init__\u001B[39m\u001B[34m(self, model, task, verbose)\u001B[39m\n\u001B[32m     76\u001B[39m     \u001B[38;5;28mself\u001B[39m.\u001B[34m__dict__\u001B[39m = new_instance.\u001B[34m__dict__\u001B[39m\n\u001B[32m     77\u001B[39m \u001B[38;5;28;01melse\u001B[39;00m:\n\u001B[32m     78\u001B[39m     \u001B[38;5;66;03m# Continue with default YOLO initialization\u001B[39;00m\n\u001B[32m---> \u001B[39m\u001B[32m79\u001B[39m     \u001B[38;5;28;43msuper\u001B[39;49m\u001B[43m(\u001B[49m\u001B[43m)\u001B[49m\u001B[43m.\u001B[49m\u001B[34;43m__init__\u001B[39;49m\u001B[43m(\u001B[49m\u001B[43mmodel\u001B[49m\u001B[43m=\u001B[49m\u001B[43mmodel\u001B[49m\u001B[43m,\u001B[49m\u001B[43m \u001B[49m\u001B[43mtask\u001B[49m\u001B[43m=\u001B[49m\u001B[43mtask\u001B[49m\u001B[43m,\u001B[49m\u001B[43m \u001B[49m\u001B[43mverbose\u001B[49m\u001B[43m=\u001B[49m\u001B[43mverbose\u001B[49m\u001B[43m)\u001B[49m\n\u001B[32m     80\u001B[39m     \u001B[38;5;28;01mif\u001B[39;00m \u001B[38;5;28mhasattr\u001B[39m(\u001B[38;5;28mself\u001B[39m.model, \u001B[33m\"\u001B[39m\u001B[33mmodel\u001B[39m\u001B[33m\"\u001B[39m) \u001B[38;5;129;01mand\u001B[39;00m \u001B[33m\"\u001B[39m\u001B[33mRTDETR\u001B[39m\u001B[33m\"\u001B[39m \u001B[38;5;129;01min\u001B[39;00m \u001B[38;5;28mself\u001B[39m.model.model[-\u001B[32m1\u001B[39m]._get_name():  \u001B[38;5;66;03m# if RTDETR head\u001B[39;00m\n\u001B[32m     81\u001B[39m         \u001B[38;5;28;01mfrom\u001B[39;00m\u001B[38;5;250m \u001B[39m\u001B[34;01multralytics\u001B[39;00m\u001B[38;5;250m \u001B[39m\u001B[38;5;28;01mimport\u001B[39;00m RTDETR\n",
      "\u001B[36mFile \u001B[39m\u001B[32m~\\Documents\\GitHub\\AGH-AI-2025\\.venv\\Lib\\site-packages\\ultralytics\\engine\\model.py:151\u001B[39m, in \u001B[36mModel.__init__\u001B[39m\u001B[34m(self, model, task, verbose)\u001B[39m\n\u001B[32m    149\u001B[39m     \u001B[38;5;28mself\u001B[39m._new(model, task=task, verbose=verbose)\n\u001B[32m    150\u001B[39m \u001B[38;5;28;01melse\u001B[39;00m:\n\u001B[32m--> \u001B[39m\u001B[32m151\u001B[39m     \u001B[38;5;28;43mself\u001B[39;49m\u001B[43m.\u001B[49m\u001B[43m_load\u001B[49m\u001B[43m(\u001B[49m\u001B[43mmodel\u001B[49m\u001B[43m,\u001B[49m\u001B[43m \u001B[49m\u001B[43mtask\u001B[49m\u001B[43m=\u001B[49m\u001B[43mtask\u001B[49m\u001B[43m)\u001B[49m\n\u001B[32m    153\u001B[39m \u001B[38;5;66;03m# Delete super().training for accessing self.model.training\u001B[39;00m\n\u001B[32m    154\u001B[39m \u001B[38;5;28;01mdel\u001B[39;00m \u001B[38;5;28mself\u001B[39m.training\n",
      "\u001B[36mFile \u001B[39m\u001B[32m~\\Documents\\GitHub\\AGH-AI-2025\\.venv\\Lib\\site-packages\\ultralytics\\engine\\model.py:295\u001B[39m, in \u001B[36mModel._load\u001B[39m\u001B[34m(self, weights, task)\u001B[39m\n\u001B[32m    292\u001B[39m weights = checks.check_model_file_from_stem(weights)  \u001B[38;5;66;03m# add suffix, i.e. yolo11n -> yolo11n.pt\u001B[39;00m\n\u001B[32m    294\u001B[39m \u001B[38;5;28;01mif\u001B[39;00m \u001B[38;5;28mstr\u001B[39m(weights).rpartition(\u001B[33m\"\u001B[39m\u001B[33m.\u001B[39m\u001B[33m\"\u001B[39m)[-\u001B[32m1\u001B[39m] == \u001B[33m\"\u001B[39m\u001B[33mpt\u001B[39m\u001B[33m\"\u001B[39m:\n\u001B[32m--> \u001B[39m\u001B[32m295\u001B[39m     \u001B[38;5;28mself\u001B[39m.model, \u001B[38;5;28mself\u001B[39m.ckpt = \u001B[43mattempt_load_one_weight\u001B[49m\u001B[43m(\u001B[49m\u001B[43mweights\u001B[49m\u001B[43m)\u001B[49m\n\u001B[32m    296\u001B[39m     \u001B[38;5;28mself\u001B[39m.task = \u001B[38;5;28mself\u001B[39m.model.args[\u001B[33m\"\u001B[39m\u001B[33mtask\u001B[39m\u001B[33m\"\u001B[39m]\n\u001B[32m    297\u001B[39m     \u001B[38;5;28mself\u001B[39m.overrides = \u001B[38;5;28mself\u001B[39m.model.args = \u001B[38;5;28mself\u001B[39m._reset_ckpt_args(\u001B[38;5;28mself\u001B[39m.model.args)\n",
      "\u001B[36mFile \u001B[39m\u001B[32m~\\Documents\\GitHub\\AGH-AI-2025\\.venv\\Lib\\site-packages\\ultralytics\\nn\\tasks.py:1549\u001B[39m, in \u001B[36mattempt_load_one_weight\u001B[39m\u001B[34m(weight, device, inplace, fuse)\u001B[39m\n\u001B[32m   1535\u001B[39m \u001B[38;5;28;01mdef\u001B[39;00m\u001B[38;5;250m \u001B[39m\u001B[34mattempt_load_one_weight\u001B[39m(weight, device=\u001B[38;5;28;01mNone\u001B[39;00m, inplace=\u001B[38;5;28;01mTrue\u001B[39;00m, fuse=\u001B[38;5;28;01mFalse\u001B[39;00m):\n\u001B[32m   1536\u001B[39m \u001B[38;5;250m    \u001B[39m\u001B[33;03m\"\"\"\u001B[39;00m\n\u001B[32m   1537\u001B[39m \u001B[33;03m    Load a single model weights.\u001B[39;00m\n\u001B[32m   1538\u001B[39m \n\u001B[32m   (...)\u001B[39m\u001B[32m   1547\u001B[39m \u001B[33;03m        ckpt (dict): Model checkpoint dictionary.\u001B[39;00m\n\u001B[32m   1548\u001B[39m \u001B[33;03m    \"\"\"\u001B[39;00m\n\u001B[32m-> \u001B[39m\u001B[32m1549\u001B[39m     ckpt, weight = \u001B[43mtorch_safe_load\u001B[49m\u001B[43m(\u001B[49m\u001B[43mweight\u001B[49m\u001B[43m)\u001B[49m  \u001B[38;5;66;03m# load ckpt\u001B[39;00m\n\u001B[32m   1550\u001B[39m     args = {**DEFAULT_CFG_DICT, **(ckpt.get(\u001B[33m\"\u001B[39m\u001B[33mtrain_args\u001B[39m\u001B[33m\"\u001B[39m, {}))}  \u001B[38;5;66;03m# combine model and default args, preferring model args\u001B[39;00m\n\u001B[32m   1551\u001B[39m     model = (ckpt.get(\u001B[33m\"\u001B[39m\u001B[33mema\u001B[39m\u001B[33m\"\u001B[39m) \u001B[38;5;129;01mor\u001B[39;00m ckpt[\u001B[33m\"\u001B[39m\u001B[33mmodel\u001B[39m\u001B[33m\"\u001B[39m]).to(device).float()  \u001B[38;5;66;03m# FP32 model\u001B[39;00m\n",
      "\u001B[36mFile \u001B[39m\u001B[32m~\\Documents\\GitHub\\AGH-AI-2025\\.venv\\Lib\\site-packages\\ultralytics\\nn\\tasks.py:1447\u001B[39m, in \u001B[36mtorch_safe_load\u001B[39m\u001B[34m(weight, safe_only)\u001B[39m\n\u001B[32m   1445\u001B[39m                 ckpt = torch.load(f, pickle_module=safe_pickle)\n\u001B[32m   1446\u001B[39m         \u001B[38;5;28;01melse\u001B[39;00m:\n\u001B[32m-> \u001B[39m\u001B[32m1447\u001B[39m             ckpt = \u001B[43mtorch\u001B[49m\u001B[43m.\u001B[49m\u001B[43mload\u001B[49m\u001B[43m(\u001B[49m\u001B[43mfile\u001B[49m\u001B[43m,\u001B[49m\u001B[43m \u001B[49m\u001B[43mmap_location\u001B[49m\u001B[43m=\u001B[49m\u001B[33;43m\"\u001B[39;49m\u001B[33;43mcpu\u001B[39;49m\u001B[33;43m\"\u001B[39;49m\u001B[43m)\u001B[49m\n\u001B[32m   1449\u001B[39m \u001B[38;5;28;01mexcept\u001B[39;00m \u001B[38;5;167;01mModuleNotFoundError\u001B[39;00m \u001B[38;5;28;01mas\u001B[39;00m e:  \u001B[38;5;66;03m# e.name is missing module name\u001B[39;00m\n\u001B[32m   1450\u001B[39m     \u001B[38;5;28;01mif\u001B[39;00m e.name == \u001B[33m\"\u001B[39m\u001B[33mmodels\u001B[39m\u001B[33m\"\u001B[39m:\n",
      "\u001B[36mFile \u001B[39m\u001B[32m~\\Documents\\GitHub\\AGH-AI-2025\\.venv\\Lib\\site-packages\\ultralytics\\utils\\patches.py:117\u001B[39m, in \u001B[36mtorch_load\u001B[39m\u001B[34m(*args, **kwargs)\u001B[39m\n\u001B[32m    114\u001B[39m \u001B[38;5;28;01mif\u001B[39;00m TORCH_1_13 \u001B[38;5;129;01mand\u001B[39;00m \u001B[33m\"\u001B[39m\u001B[33mweights_only\u001B[39m\u001B[33m\"\u001B[39m \u001B[38;5;129;01mnot\u001B[39;00m \u001B[38;5;129;01min\u001B[39;00m kwargs:\n\u001B[32m    115\u001B[39m     kwargs[\u001B[33m\"\u001B[39m\u001B[33mweights_only\u001B[39m\u001B[33m\"\u001B[39m] = \u001B[38;5;28;01mFalse\u001B[39;00m\n\u001B[32m--> \u001B[39m\u001B[32m117\u001B[39m \u001B[38;5;28;01mreturn\u001B[39;00m \u001B[43m_torch_load\u001B[49m\u001B[43m(\u001B[49m\u001B[43m*\u001B[49m\u001B[43margs\u001B[49m\u001B[43m,\u001B[49m\u001B[43m \u001B[49m\u001B[43m*\u001B[49m\u001B[43m*\u001B[49m\u001B[43mkwargs\u001B[49m\u001B[43m)\u001B[49m\n",
      "\u001B[36mFile \u001B[39m\u001B[32m~\\Documents\\GitHub\\AGH-AI-2025\\.venv\\Lib\\site-packages\\torch\\serialization.py:1479\u001B[39m, in \u001B[36mload\u001B[39m\u001B[34m(f, map_location, pickle_module, weights_only, mmap, **pickle_load_args)\u001B[39m\n\u001B[32m   1476\u001B[39m \u001B[38;5;28;01mif\u001B[39;00m \u001B[33m\"\u001B[39m\u001B[33mencoding\u001B[39m\u001B[33m\"\u001B[39m \u001B[38;5;129;01mnot\u001B[39;00m \u001B[38;5;129;01min\u001B[39;00m pickle_load_args.keys():\n\u001B[32m   1477\u001B[39m     pickle_load_args[\u001B[33m\"\u001B[39m\u001B[33mencoding\u001B[39m\u001B[33m\"\u001B[39m] = \u001B[33m\"\u001B[39m\u001B[33mutf-8\u001B[39m\u001B[33m\"\u001B[39m\n\u001B[32m-> \u001B[39m\u001B[32m1479\u001B[39m \u001B[38;5;28;01mwith\u001B[39;00m \u001B[43m_open_file_like\u001B[49m\u001B[43m(\u001B[49m\u001B[43mf\u001B[49m\u001B[43m,\u001B[49m\u001B[43m \u001B[49m\u001B[33;43m\"\u001B[39;49m\u001B[33;43mrb\u001B[39;49m\u001B[33;43m\"\u001B[39;49m\u001B[43m)\u001B[49m \u001B[38;5;28;01mas\u001B[39;00m opened_file:\n\u001B[32m   1480\u001B[39m     \u001B[38;5;28;01mif\u001B[39;00m _is_zipfile(opened_file):\n\u001B[32m   1481\u001B[39m         \u001B[38;5;66;03m# The zipfile reader is going to advance the current file position.\u001B[39;00m\n\u001B[32m   1482\u001B[39m         \u001B[38;5;66;03m# If we want to actually tail call to torch.jit.load, we need to\u001B[39;00m\n\u001B[32m   1483\u001B[39m         \u001B[38;5;66;03m# reset back to the original position.\u001B[39;00m\n\u001B[32m   1484\u001B[39m         orig_position = opened_file.tell()\n",
      "\u001B[36mFile \u001B[39m\u001B[32m~\\Documents\\GitHub\\AGH-AI-2025\\.venv\\Lib\\site-packages\\torch\\serialization.py:759\u001B[39m, in \u001B[36m_open_file_like\u001B[39m\u001B[34m(name_or_buffer, mode)\u001B[39m\n\u001B[32m    757\u001B[39m \u001B[38;5;28;01mdef\u001B[39;00m\u001B[38;5;250m \u001B[39m\u001B[34m_open_file_like\u001B[39m(name_or_buffer: FileLike, mode: \u001B[38;5;28mstr\u001B[39m) -> _opener[IO[\u001B[38;5;28mbytes\u001B[39m]]:\n\u001B[32m    758\u001B[39m     \u001B[38;5;28;01mif\u001B[39;00m _is_path(name_or_buffer):\n\u001B[32m--> \u001B[39m\u001B[32m759\u001B[39m         \u001B[38;5;28;01mreturn\u001B[39;00m \u001B[43m_open_file\u001B[49m\u001B[43m(\u001B[49m\u001B[43mname_or_buffer\u001B[49m\u001B[43m,\u001B[49m\u001B[43m \u001B[49m\u001B[43mmode\u001B[49m\u001B[43m)\u001B[49m\n\u001B[32m    760\u001B[39m     \u001B[38;5;28;01melse\u001B[39;00m:\n\u001B[32m    761\u001B[39m         \u001B[38;5;28;01mif\u001B[39;00m \u001B[33m\"\u001B[39m\u001B[33mw\u001B[39m\u001B[33m\"\u001B[39m \u001B[38;5;129;01min\u001B[39;00m mode:\n",
      "\u001B[36mFile \u001B[39m\u001B[32m~\\Documents\\GitHub\\AGH-AI-2025\\.venv\\Lib\\site-packages\\torch\\serialization.py:740\u001B[39m, in \u001B[36m_open_file.__init__\u001B[39m\u001B[34m(self, name, mode)\u001B[39m\n\u001B[32m    739\u001B[39m \u001B[38;5;28;01mdef\u001B[39;00m\u001B[38;5;250m \u001B[39m\u001B[34m__init__\u001B[39m(\u001B[38;5;28mself\u001B[39m, name: Union[\u001B[38;5;28mstr\u001B[39m, os.PathLike[\u001B[38;5;28mstr\u001B[39m]], mode: \u001B[38;5;28mstr\u001B[39m) -> \u001B[38;5;28;01mNone\u001B[39;00m:\n\u001B[32m--> \u001B[39m\u001B[32m740\u001B[39m     \u001B[38;5;28msuper\u001B[39m().\u001B[34m__init__\u001B[39m(\u001B[38;5;28;43mopen\u001B[39;49m\u001B[43m(\u001B[49m\u001B[43mname\u001B[49m\u001B[43m,\u001B[49m\u001B[43m \u001B[49m\u001B[43mmode\u001B[49m\u001B[43m)\u001B[49m)\n",
      "\u001B[31mFileNotFoundError\u001B[39m: [Errno 2] No such file or directory: 'trained_model\\\\train3\\\\best.pt'"
     ]
    }
   ],
   "execution_count": 5
  }
 ],
 "metadata": {
  "kernelspec": {
   "display_name": "Python 3",
   "language": "python",
   "name": "python3"
  },
  "language_info": {
   "codemirror_mode": {
    "name": "ipython",
    "version": 2
   },
   "file_extension": ".py",
   "mimetype": "text/x-python",
   "name": "python",
   "nbconvert_exporter": "python",
   "pygments_lexer": "ipython2",
   "version": "2.7.6"
  }
 },
 "nbformat": 4,
 "nbformat_minor": 5
}
